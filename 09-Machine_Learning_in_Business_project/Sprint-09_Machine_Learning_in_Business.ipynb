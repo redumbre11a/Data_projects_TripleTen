{
 "cells": [
  {
   "cell_type": "markdown",
   "metadata": {},
   "source": [
    "# OilyGiant Mining Company: Region Selection Model"
   ]
  },
  {
   "cell_type": "markdown",
   "metadata": {},
   "source": [
    "# Contents <a id='back'></a>\n",
    "\n",
    "* [Introduction](#introduction)\n",
    "* [Data Overview](#data_overview)\n",
    "    * [Initialization](#initialization)\n",
    "    * [Load Data](load_data)\n",
    "* [Prepare the Data](#prepare_data)\n",
    "    * [Fix Data](#fix_data)   \n",
    "    * [Check for Duplicates](#duplicates)\n",
    "    * [Check for Missing Values](#missing_values)\n",
    "* [Train and Test Model for Each Region](#model)\n",
    "* [Profit Calculation Preparation](#profit_calcualtion_preparation)\n",
    "* [Function to Calculate Profit](#function)\n",
    "* [Calcualte Risks and Profit](#risks_profit)\n",
    "* [Conclusion](#conclusion)"
   ]
  },
  {
   "cell_type": "markdown",
   "metadata": {},
   "source": [
    "# Introduction <a id='introduction'></a>\n",
    "\n",
    "You work for the OilyGiant mining company. Your task is to find the best place for a new well.\n",
    "Steps to choose the location:\n",
    "\n",
    "Collect the oil well parameters in the selected region: oil quality and volume of reserves;\n",
    "Build a model for predicting the volume of reserves in the new wells;\n",
    "Pick the oil wells with the highest estimated values;\n",
    "Pick the region with the highest total profit for the selected oil wells.\n",
    "\n",
    "Data on oil samples from three regions (`/datasets/geo_data_0.csv`, `/datasets/geo_data_1.csv`, `/datasets/geo_data_2.csv`) is provided. Parameters of each oil well in the region are already known. Build a model that will help to pick the region with the highest profit margin. Analyze potential profit and risks using the Bootstrapping technique.\n",
    "\n",
    "Only linear regression is suitable for model training (the rest are not sufficiently predictable).\n",
    "When exploring the region, a study of 500 points is carried with picking the best 200 points for the profit calculation.\n",
    "The budget for development of 200 oil wells is 100 USD million.\n",
    "One barrel of raw materials brings 4.5 USD of revenue The revenue from one unit of product is 4,500 dollars (volume of reserves is in thousand barrels).\n",
    "\n",
    "After the risk evaluation, keep only the regions with the risk of losses lower than 2.5%. From the ones that fit the criteria, the region with the highest average profit should be selected.\n",
    "The data is synthetic: contract details and well characteristics are not disclosed.\n",
    "\n",
    "[Back to Contents](#back)"
   ]
  },
  {
   "cell_type": "markdown",
   "metadata": {},
   "source": [
    "# Data Overview <a id='data_overview'></a>"
   ]
  },
  {
   "cell_type": "markdown",
   "metadata": {},
   "source": [
    "## Initialization <a id='initialization'></a> <a class=\"tocSkip\">"
   ]
  },
  {
   "cell_type": "code",
   "execution_count": 1,
   "metadata": {},
   "outputs": [],
   "source": [
    "# Loading all the libraries\n",
    "import pandas as pd\n",
    "import numpy as np\n",
    "import matplotlib.pyplot as plt\n",
    "from sklearn.model_selection import train_test_split\n",
    "from sklearn.linear_model import LinearRegression\n",
    "from sklearn.metrics import mean_squared_error"
   ]
  },
  {
   "cell_type": "markdown",
   "metadata": {},
   "source": [
    "## Load data <a id='load_data'></a> <a class=\"tocSkip\">"
   ]
  },
  {
   "cell_type": "code",
   "execution_count": 2,
   "metadata": {},
   "outputs": [],
   "source": [
    "# Reading the dataframe file and storing it to geo_data_0_df\n",
    "geo_data_0_df = pd.read_csv('/datasets/geo_data_0.csv')\n",
    "\n",
    "# Reading the dataframe file and storing it to geo_data_1_df\n",
    "geo_data_1_df = pd.read_csv('/datasets/geo_data_1.csv')\n",
    "\n",
    "# Reading the dataframe file and storing it to geo_data_2_df\n",
    "geo_data_2_df = pd.read_csv('/datasets/geo_data_2.csv')"
   ]
  },
  {
   "cell_type": "markdown",
   "metadata": {},
   "source": [
    "# Prepare the data <a id='prepare_data'></a>"
   ]
  },
  {
   "cell_type": "code",
   "execution_count": 3,
   "metadata": {},
   "outputs": [
    {
     "name": "stdout",
     "output_type": "stream",
     "text": [
      "<class 'pandas.core.frame.DataFrame'>\n",
      "RangeIndex: 100000 entries, 0 to 99999\n",
      "Data columns (total 5 columns):\n",
      " #   Column   Non-Null Count   Dtype  \n",
      "---  ------   --------------   -----  \n",
      " 0   id       100000 non-null  object \n",
      " 1   f0       100000 non-null  float64\n",
      " 2   f1       100000 non-null  float64\n",
      " 3   f2       100000 non-null  float64\n",
      " 4   product  100000 non-null  float64\n",
      "dtypes: float64(4), object(1)\n",
      "memory usage: 3.8+ MB\n",
      "\n",
      "<class 'pandas.core.frame.DataFrame'>\n",
      "RangeIndex: 100000 entries, 0 to 99999\n",
      "Data columns (total 5 columns):\n",
      " #   Column   Non-Null Count   Dtype  \n",
      "---  ------   --------------   -----  \n",
      " 0   id       100000 non-null  object \n",
      " 1   f0       100000 non-null  float64\n",
      " 2   f1       100000 non-null  float64\n",
      " 3   f2       100000 non-null  float64\n",
      " 4   product  100000 non-null  float64\n",
      "dtypes: float64(4), object(1)\n",
      "memory usage: 3.8+ MB\n",
      "\n",
      "<class 'pandas.core.frame.DataFrame'>\n",
      "RangeIndex: 100000 entries, 0 to 99999\n",
      "Data columns (total 5 columns):\n",
      " #   Column   Non-Null Count   Dtype  \n",
      "---  ------   --------------   -----  \n",
      " 0   id       100000 non-null  object \n",
      " 1   f0       100000 non-null  float64\n",
      " 2   f1       100000 non-null  float64\n",
      " 3   f2       100000 non-null  float64\n",
      " 4   product  100000 non-null  float64\n",
      "dtypes: float64(4), object(1)\n",
      "memory usage: 3.8+ MB\n",
      "\n"
     ]
    }
   ],
   "source": [
    "# Print the general/summary information about the DataFrame\n",
    "geo_data_0_df.info()\n",
    "print()\n",
    "\n",
    "geo_data_1_df.info()\n",
    "print()\n",
    "\n",
    "geo_data_2_df.info()\n",
    "print()"
   ]
  },
  {
   "cell_type": "code",
   "execution_count": 4,
   "metadata": {},
   "outputs": [
    {
     "data": {
      "text/html": [
       "<div>\n",
       "<style scoped>\n",
       "    .dataframe tbody tr th:only-of-type {\n",
       "        vertical-align: middle;\n",
       "    }\n",
       "\n",
       "    .dataframe tbody tr th {\n",
       "        vertical-align: top;\n",
       "    }\n",
       "\n",
       "    .dataframe thead th {\n",
       "        text-align: right;\n",
       "    }\n",
       "</style>\n",
       "<table border=\"1\" class=\"dataframe\">\n",
       "  <thead>\n",
       "    <tr style=\"text-align: right;\">\n",
       "      <th></th>\n",
       "      <th>id</th>\n",
       "      <th>f0</th>\n",
       "      <th>f1</th>\n",
       "      <th>f2</th>\n",
       "      <th>product</th>\n",
       "    </tr>\n",
       "  </thead>\n",
       "  <tbody>\n",
       "    <tr>\n",
       "      <th>0</th>\n",
       "      <td>txEyH</td>\n",
       "      <td>0.705745</td>\n",
       "      <td>-0.497823</td>\n",
       "      <td>1.221170</td>\n",
       "      <td>105.280062</td>\n",
       "    </tr>\n",
       "    <tr>\n",
       "      <th>1</th>\n",
       "      <td>2acmU</td>\n",
       "      <td>1.334711</td>\n",
       "      <td>-0.340164</td>\n",
       "      <td>4.365080</td>\n",
       "      <td>73.037750</td>\n",
       "    </tr>\n",
       "    <tr>\n",
       "      <th>2</th>\n",
       "      <td>409Wp</td>\n",
       "      <td>1.022732</td>\n",
       "      <td>0.151990</td>\n",
       "      <td>1.419926</td>\n",
       "      <td>85.265647</td>\n",
       "    </tr>\n",
       "    <tr>\n",
       "      <th>3</th>\n",
       "      <td>iJLyR</td>\n",
       "      <td>-0.032172</td>\n",
       "      <td>0.139033</td>\n",
       "      <td>2.978566</td>\n",
       "      <td>168.620776</td>\n",
       "    </tr>\n",
       "    <tr>\n",
       "      <th>4</th>\n",
       "      <td>Xdl7t</td>\n",
       "      <td>1.988431</td>\n",
       "      <td>0.155413</td>\n",
       "      <td>4.751769</td>\n",
       "      <td>154.036647</td>\n",
       "    </tr>\n",
       "  </tbody>\n",
       "</table>\n",
       "</div>"
      ],
      "text/plain": [
       "      id        f0        f1        f2     product\n",
       "0  txEyH  0.705745 -0.497823  1.221170  105.280062\n",
       "1  2acmU  1.334711 -0.340164  4.365080   73.037750\n",
       "2  409Wp  1.022732  0.151990  1.419926   85.265647\n",
       "3  iJLyR -0.032172  0.139033  2.978566  168.620776\n",
       "4  Xdl7t  1.988431  0.155413  4.751769  154.036647"
      ]
     },
     "metadata": {},
     "output_type": "display_data"
    },
    {
     "data": {
      "text/html": [
       "<div>\n",
       "<style scoped>\n",
       "    .dataframe tbody tr th:only-of-type {\n",
       "        vertical-align: middle;\n",
       "    }\n",
       "\n",
       "    .dataframe tbody tr th {\n",
       "        vertical-align: top;\n",
       "    }\n",
       "\n",
       "    .dataframe thead th {\n",
       "        text-align: right;\n",
       "    }\n",
       "</style>\n",
       "<table border=\"1\" class=\"dataframe\">\n",
       "  <thead>\n",
       "    <tr style=\"text-align: right;\">\n",
       "      <th></th>\n",
       "      <th>id</th>\n",
       "      <th>f0</th>\n",
       "      <th>f1</th>\n",
       "      <th>f2</th>\n",
       "      <th>product</th>\n",
       "    </tr>\n",
       "  </thead>\n",
       "  <tbody>\n",
       "    <tr>\n",
       "      <th>0</th>\n",
       "      <td>kBEdx</td>\n",
       "      <td>-15.001348</td>\n",
       "      <td>-8.276000</td>\n",
       "      <td>-0.005876</td>\n",
       "      <td>3.179103</td>\n",
       "    </tr>\n",
       "    <tr>\n",
       "      <th>1</th>\n",
       "      <td>62mP7</td>\n",
       "      <td>14.272088</td>\n",
       "      <td>-3.475083</td>\n",
       "      <td>0.999183</td>\n",
       "      <td>26.953261</td>\n",
       "    </tr>\n",
       "    <tr>\n",
       "      <th>2</th>\n",
       "      <td>vyE1P</td>\n",
       "      <td>6.263187</td>\n",
       "      <td>-5.948386</td>\n",
       "      <td>5.001160</td>\n",
       "      <td>134.766305</td>\n",
       "    </tr>\n",
       "    <tr>\n",
       "      <th>3</th>\n",
       "      <td>KcrkZ</td>\n",
       "      <td>-13.081196</td>\n",
       "      <td>-11.506057</td>\n",
       "      <td>4.999415</td>\n",
       "      <td>137.945408</td>\n",
       "    </tr>\n",
       "    <tr>\n",
       "      <th>4</th>\n",
       "      <td>AHL4O</td>\n",
       "      <td>12.702195</td>\n",
       "      <td>-8.147433</td>\n",
       "      <td>5.004363</td>\n",
       "      <td>134.766305</td>\n",
       "    </tr>\n",
       "  </tbody>\n",
       "</table>\n",
       "</div>"
      ],
      "text/plain": [
       "      id         f0         f1        f2     product\n",
       "0  kBEdx -15.001348  -8.276000 -0.005876    3.179103\n",
       "1  62mP7  14.272088  -3.475083  0.999183   26.953261\n",
       "2  vyE1P   6.263187  -5.948386  5.001160  134.766305\n",
       "3  KcrkZ -13.081196 -11.506057  4.999415  137.945408\n",
       "4  AHL4O  12.702195  -8.147433  5.004363  134.766305"
      ]
     },
     "metadata": {},
     "output_type": "display_data"
    },
    {
     "data": {
      "text/html": [
       "<div>\n",
       "<style scoped>\n",
       "    .dataframe tbody tr th:only-of-type {\n",
       "        vertical-align: middle;\n",
       "    }\n",
       "\n",
       "    .dataframe tbody tr th {\n",
       "        vertical-align: top;\n",
       "    }\n",
       "\n",
       "    .dataframe thead th {\n",
       "        text-align: right;\n",
       "    }\n",
       "</style>\n",
       "<table border=\"1\" class=\"dataframe\">\n",
       "  <thead>\n",
       "    <tr style=\"text-align: right;\">\n",
       "      <th></th>\n",
       "      <th>id</th>\n",
       "      <th>f0</th>\n",
       "      <th>f1</th>\n",
       "      <th>f2</th>\n",
       "      <th>product</th>\n",
       "    </tr>\n",
       "  </thead>\n",
       "  <tbody>\n",
       "    <tr>\n",
       "      <th>0</th>\n",
       "      <td>fwXo0</td>\n",
       "      <td>-1.146987</td>\n",
       "      <td>0.963328</td>\n",
       "      <td>-0.828965</td>\n",
       "      <td>27.758673</td>\n",
       "    </tr>\n",
       "    <tr>\n",
       "      <th>1</th>\n",
       "      <td>WJtFt</td>\n",
       "      <td>0.262778</td>\n",
       "      <td>0.269839</td>\n",
       "      <td>-2.530187</td>\n",
       "      <td>56.069697</td>\n",
       "    </tr>\n",
       "    <tr>\n",
       "      <th>2</th>\n",
       "      <td>ovLUW</td>\n",
       "      <td>0.194587</td>\n",
       "      <td>0.289035</td>\n",
       "      <td>-5.586433</td>\n",
       "      <td>62.871910</td>\n",
       "    </tr>\n",
       "    <tr>\n",
       "      <th>3</th>\n",
       "      <td>q6cA6</td>\n",
       "      <td>2.236060</td>\n",
       "      <td>-0.553760</td>\n",
       "      <td>0.930038</td>\n",
       "      <td>114.572842</td>\n",
       "    </tr>\n",
       "    <tr>\n",
       "      <th>4</th>\n",
       "      <td>WPMUX</td>\n",
       "      <td>-0.515993</td>\n",
       "      <td>1.716266</td>\n",
       "      <td>5.899011</td>\n",
       "      <td>149.600746</td>\n",
       "    </tr>\n",
       "  </tbody>\n",
       "</table>\n",
       "</div>"
      ],
      "text/plain": [
       "      id        f0        f1        f2     product\n",
       "0  fwXo0 -1.146987  0.963328 -0.828965   27.758673\n",
       "1  WJtFt  0.262778  0.269839 -2.530187   56.069697\n",
       "2  ovLUW  0.194587  0.289035 -5.586433   62.871910\n",
       "3  q6cA6  2.236060 -0.553760  0.930038  114.572842\n",
       "4  WPMUX -0.515993  1.716266  5.899011  149.600746"
      ]
     },
     "metadata": {},
     "output_type": "display_data"
    }
   ],
   "source": [
    "# Print a sample of the data\n",
    "display(geo_data_0_df.head())\n",
    "display(geo_data_1_df.head())\n",
    "display(geo_data_2_df.head())"
   ]
  },
  {
   "cell_type": "markdown",
   "metadata": {},
   "source": [
    "## Fix Data <a id='fix_data'></a> <a class=\"tocSkip\">"
   ]
  },
  {
   "cell_type": "markdown",
   "metadata": {},
   "source": [
    "No column names or data types need to be changed."
   ]
  },
  {
   "cell_type": "markdown",
   "metadata": {},
   "source": [
    "## Check for Duplicates <a id='duplicates'></a> <a class=\"tocSkip\">"
   ]
  },
  {
   "cell_type": "code",
   "execution_count": 5,
   "metadata": {},
   "outputs": [
    {
     "name": "stdout",
     "output_type": "stream",
     "text": [
      "0\n",
      "0\n",
      "0\n"
     ]
    }
   ],
   "source": [
    "# checking for duplicated rows in geo_data_0_df\n",
    "print(geo_data_0_df.duplicated().sum())\n",
    "\n",
    "# checking for duplicated rows in geo_data_1_df\n",
    "print(geo_data_1_df.duplicated().sum())\n",
    "\n",
    "# checking for duplicated rows in geo_data_2_df\n",
    "print(geo_data_2_df.duplicated().sum())"
   ]
  },
  {
   "cell_type": "markdown",
   "metadata": {},
   "source": [
    "No duplicate rows were found."
   ]
  },
  {
   "cell_type": "markdown",
   "metadata": {},
   "source": [
    "## Check for Missing Values <a id='missing_values'></a> <a class=\"tocSkip\">"
   ]
  },
  {
   "cell_type": "code",
   "execution_count": 6,
   "metadata": {},
   "outputs": [
    {
     "name": "stdout",
     "output_type": "stream",
     "text": [
      "id         0\n",
      "f0         0\n",
      "f1         0\n",
      "f2         0\n",
      "product    0\n",
      "dtype: int64\n",
      "id         0\n",
      "f0         0\n",
      "f1         0\n",
      "f2         0\n",
      "product    0\n",
      "dtype: int64\n",
      "id         0\n",
      "f0         0\n",
      "f1         0\n",
      "f2         0\n",
      "product    0\n",
      "dtype: int64\n"
     ]
    }
   ],
   "source": [
    "# calculating missing values in geo_data_0_df\n",
    "print(geo_data_0_df.isna().sum())\n",
    "\n",
    "# calculating missing values in geo_data_1_df\n",
    "print(geo_data_1_df.isna().sum())\n",
    "\n",
    "# calculating missing values in geo_data_2_df\n",
    "print(geo_data_2_df.isna().sum())"
   ]
  },
  {
   "cell_type": "markdown",
   "metadata": {},
   "source": [
    "There appear to be no missing values."
   ]
  },
  {
   "cell_type": "markdown",
   "metadata": {},
   "source": [
    "# Train and Test Model for Each Region <a id='model'></a>"
   ]
  },
  {
   "cell_type": "code",
   "execution_count": 7,
   "metadata": {},
   "outputs": [
    {
     "name": "stdout",
     "output_type": "stream",
     "text": [
      "Region 0:\n",
      "  RMSE: 37.76\n",
      "  Average Predicted Reserves: 92.40 thousand barrels\n",
      "Region 1:\n",
      "  RMSE: 0.89\n",
      "  Average Predicted Reserves: 68.71 thousand barrels\n",
      "Region 2:\n",
      "  RMSE: 40.15\n",
      "  Average Predicted Reserves: 94.77 thousand barrels\n"
     ]
    }
   ],
   "source": [
    "# Initialize variables to store results for each region\n",
    "region_results = []\n",
    "\n",
    "for region_id in range(3):  # Iterate over three regions (0, 1, 2)\n",
    "    # Get the dataframe for the current region\n",
    "    region_data = geo_data_0_df if region_id == 0 else geo_data_1_df if region_id == 1 else geo_data_2_df\n",
    "    \n",
    "    # Split the data into training and validation sets (75:25 ratio)\n",
    "    X = region_data.drop(columns=['id', 'product'])\n",
    "    y = region_data['product']\n",
    "    X_train, X_valid, y_train, y_valid = train_test_split(X, y, test_size=0.25, random_state=42)\n",
    "    \n",
    "    # Train the linear regression model\n",
    "    model = LinearRegression()\n",
    "    model.fit(X_train, y_train)\n",
    "    \n",
    "    # Make predictions on the validation set\n",
    "    y_pred = model.predict(X_valid)\n",
    "    \n",
    "    # Save the predictions and correct answers for the validation set\n",
    "    predictions = y_pred\n",
    "    correct_answers = y_valid\n",
    "    \n",
    "    # Calculate RMSE\n",
    "    rmse = np.sqrt(mean_squared_error(y_valid, y_pred))\n",
    "    \n",
    "    # Calculate the average volume of predicted reserves\n",
    "    avg_predicted_reserve = y_pred.mean()\n",
    "    \n",
    "    # Append the results for the current region to the region_results list\n",
    "    region_results.append({\n",
    "        'Region': region_id,\n",
    "        'RMSE': rmse,\n",
    "        'Average Predicted Reserves': avg_predicted_reserve\n",
    "    })\n",
    "\n",
    "for result in region_results:\n",
    "    print(f\"Region {result['Region']}:\")\n",
    "    print(f\"  RMSE: {result['RMSE']:.2f}\")\n",
    "    print(f\"  Average Predicted Reserves: {result['Average Predicted Reserves']:.2f} thousand barrels\")"
   ]
  },
  {
   "cell_type": "markdown",
   "metadata": {},
   "source": [
    "These results provide information about the accuracy of the linear regression models for each region in predicting the reserves. Lower RMSE values indicate better model performance, and the average predicted reserves give an estimate of the expected reserves in each region based on the model's predictions. Region 1 stands out with a very low RMSE, suggesting better predictive accuracy compared to the other regions."
   ]
  },
  {
   "cell_type": "markdown",
   "metadata": {},
   "source": [
    "# Profit Calculation Preparation <a id='profit_calculation_preparation'></a>"
   ]
  },
  {
   "cell_type": "code",
   "execution_count": 8,
   "metadata": {},
   "outputs": [
    {
     "name": "stdout",
     "output_type": "stream",
     "text": [
      "111.11111111111111\n"
     ]
    }
   ],
   "source": [
    "# Store all key values for calculations in separate variables\n",
    "budget = 100e6  # Budget for development of 200 oil wells in USD\n",
    "revenue_per_barrel = 4.5  # Revenue per barrel in USD\n",
    "revenue_per_unit = 4500  # Revenue per unit of product in USD (in thousand barrels)\n",
    "cost_per_well = budget / 200  # Cost for each well\n",
    "    \n",
    "# Calculate the volume of reserves sufficient for developing a new well without losses\n",
    "min_reserve_volume = cost_per_well / revenue_per_barrel / 1000\n",
    "print(min_reserve_volume)"
   ]
  },
  {
   "cell_type": "markdown",
   "metadata": {},
   "source": [
    "The value obtained for min_reserve_volume is approximately 111.11. This value represents the minimum volume of reserves  required for developing a new well without incurring losses, given the provided budget and cost assumptions.\n",
    "\n",
    "In Region 0, the average predicted reserves (92.40 thousand barrels) are significantly lower than the minimum reserve volume needed for a profitable well. This suggests that, on average, the region may not be suitable for profitable drilling with the given budget and cost assumptions.\n",
    "\n",
    "Similarly, in Region 1, the average predicted reserves (68.71 thousand barrels) are also much lower than the minimum reserve volume required for profitability, indicating potential challenges in achieving profits in this region.\n",
    "\n",
    "In Region 2, the average predicted reserves (94.77 thousand barrels) are relatively closer to the minimum reserve volume required for profitability, but there is still a substantial gap between the two. It suggests that, on average, the region may not be highly profitable, but it might be closer to profitability compared to the other regions."
   ]
  },
  {
   "cell_type": "markdown",
   "metadata": {},
   "source": [
    "# Function to Calculate Profit <a id='function'></a>"
   ]
  },
  {
   "cell_type": "code",
   "execution_count": 9,
   "metadata": {},
   "outputs": [],
   "source": [
    "# Define a function to calculate profit based on the recommendations\n",
    "def calculate_profit(target, predictions, count):\n",
    "    # Sort the indices of predictions in descending order based on their values\n",
    "    sorted_indices = np.argsort(-predictions)\n",
    "    # Filter the sorted indices to ensure they are within the range of the target Series\n",
    "    top_indices = [idx for idx in sorted_indices if idx < len(target)]\n",
    "    # Select the top 'count' indices\n",
    "    top_indices = top_indices[:count]\n",
    "    # Calculate profit based on the selected indices\n",
    "    total_reserves = target.iloc[top_indices].sum()\n",
    "    profit = (total_reserves * revenue_per_unit) - budget\n",
    "    return profit"
   ]
  },
  {
   "cell_type": "code",
   "execution_count": 10,
   "metadata": {},
   "outputs": [
    {
     "name": "stdout",
     "output_type": "stream",
     "text": [
      "Region 0:\n",
      "  Profit: 33591411.14 USD million\n",
      "Region 1:\n",
      "  Profit: 24150866.97 USD million\n",
      "Region 2:\n",
      "  Profit: 25985717.59 USD million\n"
     ]
    }
   ],
   "source": [
    "# Initialize variables to store results for each region\n",
    "region_results = []\n",
    "\n",
    "for region_id in range(3):  # Iterate over three regions (0, 1, 2)\n",
    "    # Get the dataframe for the current region\n",
    "    region_data = geo_data_0_df if region_id == 0 else geo_data_1_df if region_id == 1 else geo_data_2_df\n",
    "    \n",
    "    # Split the data into training and validation sets (75:25 ratio)\n",
    "    X = region_data.drop(columns=['id', 'product'])\n",
    "    y = region_data['product']\n",
    "    X_train, X_valid, y_train, y_valid = train_test_split(X, y, test_size=0.25, random_state=42)\n",
    "    \n",
    "    # Train the linear regression model\n",
    "    model = LinearRegression()\n",
    "    model.fit(X_train, y_train)\n",
    "    \n",
    "    # Make predictions on the validation set\n",
    "    y_pred = model.predict(X_valid)\n",
    "    \n",
    "    # Save the predictions and correct answers for the validation set\n",
    "    predictions = y_pred\n",
    "    correct_answers = y_valid\n",
    "    \n",
    "    # Calculate profit using the recommended function for the region\n",
    "    profit_value = calculate_profit(correct_answers, predictions, 200)\n",
    "    \n",
    "    # Append the results for the current region to the region_results list\n",
    "    region_results.append({\n",
    "        'Region': region_id,\n",
    "        'Profit': profit_value\n",
    "    })\n",
    "\n",
    "for result in region_results:\n",
    "    print(f\"Region {result['Region']}:\")\n",
    "    print(f\"  Profit: {result['Profit']:.2f} USD million\")\n"
   ]
  },
  {
   "cell_type": "markdown",
   "metadata": {},
   "source": [
    "Based on the calculated profit from the selection of 200 wells, Region 0 demonstrates the highest profit potential, with an estimated profit of approximately 33.59 billion USD. Region 1 and 2 show similar profit potentail with each other, approximately 24.15 billion and 25.99 billion, respectively. While lower than Region 0, they still show relatively high profit potential. Thus risks should be taken into account before making a decision."
   ]
  },
  {
   "cell_type": "markdown",
   "metadata": {},
   "source": [
    "# Calculate Risks and Profit <a id='risks_profit'></a>"
   ]
  },
  {
   "cell_type": "code",
   "execution_count": 11,
   "metadata": {},
   "outputs": [
    {
     "name": "stdout",
     "output_type": "stream",
     "text": [
      "Region 0:\n",
      "  Average Profit: 3947761.55 USD million\n",
      "  95% Confidence Interval: [-1057776.8936356  8939364.298171 ]\n",
      "  Risk of Losses: 5.60%\n",
      "\n",
      "Region 1:\n",
      "  Average Profit: 4402214.68 USD million\n",
      "  95% Confidence Interval: [ 552530.16906544 8231457.22043741]\n",
      "  Risk of Losses: 1.20%\n",
      "\n",
      "Region 2:\n",
      "  Average Profit: 3716480.41 USD million\n",
      "  95% Confidence Interval: [-1675247.16096115  8717631.0797721 ]\n",
      "  Risk of Losses: 9.20%\n",
      "\n",
      "The best region for development is Region 1 with:\n",
      "Average Profit: 4402214.68 USD million\n",
      "95% Confidence Interval: [ 552530.16906544 8231457.22043741]\n",
      "Risk of Losses: 1.20%\n"
     ]
    }
   ],
   "source": [
    "# Initialize variables to store results for each region\n",
    "region_results = []\n",
    "\n",
    "# Iterate over three regions (0, 1, 2)\n",
    "for region_id in range(3):\n",
    "    # Load the data for the current region\n",
    "    if region_id == 0:\n",
    "        region_data = geo_data_0_df\n",
    "    elif region_id == 1:\n",
    "        region_data = geo_data_1_df\n",
    "    else:\n",
    "        region_data = geo_data_2_df\n",
    "    \n",
    "    # Split the data into training and validation sets (75:25 ratio)\n",
    "    X = region_data.drop(columns=['id', 'product'])\n",
    "    y = region_data['product']\n",
    "    X_train, X_valid, y_train, y_valid = train_test_split(X, y, test_size=0.25, random_state=42)\n",
    "\n",
    "    # Train the linear regression model\n",
    "    model = LinearRegression()\n",
    "    model.fit(X_train, y_train)\n",
    "\n",
    "    # Make predictions on the validation set\n",
    "    y_pred = model.predict(X_valid)\n",
    "\n",
    "    # Save the predictions and correct answers for the validation set\n",
    "    predictions = y_pred\n",
    "    correct_answers = y_valid\n",
    "\n",
    "    # Initialize a list to store profits from bootstrapping\n",
    "    bootstrapped_profits = []\n",
    "\n",
    "    # Perform bootstrapping with 1000 samples\n",
    "    num_samples = 1000\n",
    "    for _ in range(num_samples):\n",
    "        # Randomly sample indices with replacement\n",
    "        sample_indices = np.random.choice(len(y_valid), size=500, replace=True)  # Sample 500 points\n",
    "        sample_predictions = predictions[sample_indices]\n",
    "        \n",
    "        # Calculate profit for the region using the recommended function\n",
    "        profit_value = calculate_profit(correct_answers.iloc[sample_indices], sample_predictions, 200)\n",
    "        bootstrapped_profits.append(profit_value)\n",
    "\n",
    "    # Calculate average profit\n",
    "    avg_profit = np.mean(bootstrapped_profits)\n",
    "\n",
    "    # Calculate the 95% confidence interval\n",
    "    conf_interval = np.percentile(bootstrapped_profits, [2.5, 97.5])\n",
    "\n",
    "    # Calculate the risk of losses as a percentage\n",
    "    risk_of_losses = (sum(1 for profit in bootstrapped_profits if profit < 0) / num_samples) * 100\n",
    "\n",
    "    # Append the results for the current region to the region_results list\n",
    "    region_results.append({\n",
    "        'Region': region_id,\n",
    "        'Average Profit': avg_profit,\n",
    "        '95% Confidence Interval': conf_interval,\n",
    "        'Risk of Losses (%)': risk_of_losses\n",
    "    })\n",
    "\n",
    "# Print results for all regions\n",
    "for result in region_results:\n",
    "    print(f\"Region {result['Region']}:\")\n",
    "    print(f\"  Average Profit: {result['Average Profit']:.2f} USD million\")\n",
    "    print(f\"  95% Confidence Interval: {result['95% Confidence Interval']}\")\n",
    "    print(f\"  Risk of Losses: {result['Risk of Losses (%)']:.2f}%\")\n",
    "    print()\n",
    "\n",
    "# Filter regions with risk of losses lower than 2.5%\n",
    "selected_regions = [result for result in region_results if result['Risk of Losses (%)'] < 2.5]\n",
    "\n",
    "if selected_regions:\n",
    "    # Select the region with the highest average profit\n",
    "    best_region_result = max(selected_regions, key=lambda x: x['Average Profit'])\n",
    "    print(f\"The best region for development is Region {best_region_result['Region']} with:\")\n",
    "    print(f\"Average Profit: {best_region_result['Average Profit']:.2f} USD million\")\n",
    "    print(f\"95% Confidence Interval: {best_region_result['95% Confidence Interval']}\")\n",
    "    print(f\"Risk of Losses: {best_region_result['Risk of Losses (%)']:.2f}%\")\n",
    "else:\n",
    "    print(\"No regions meet the criteria.\")\n"
   ]
  },
  {
   "cell_type": "markdown",
   "metadata": {},
   "source": [
    "Region 1 is identified as the best region for the development of oil wells based on its highest average profit of approximately $4,402.80 million USD, and also has the lowest risk of losses, with only a 1.10% chance of experiencing negative profits. Region 0 and Region 2 have similar average profits, but they exhibit higher risk levels compared to Region 1, with risk percentages of 7.00% and 7.80%, respectively. These results suggest that Region 1 is the most promising and financially stable choice for oil well development, offering the highest average profit and the lowest risk of experiencing losses among the three regions."
   ]
  },
  {
   "cell_type": "code",
   "execution_count": 12,
   "metadata": {},
   "outputs": [
    {
     "data": {
      "image/png": "[encoded data removed]",
      "text/plain": [
       "<Figure size 720x432 with 1 Axes>"
      ]
     },
     "metadata": {
      "needs_background": "light"
     },
     "output_type": "display_data"
    },
    {
     "data": {
      "image/png": "[encoded data removed]",
      "text/plain": [
       "<Figure size 720x432 with 1 Axes>"
      ]
     },
     "metadata": {
      "needs_background": "light"
     },
     "output_type": "display_data"
    },
    {
     "data": {
      "image/png": "[encoded data removed]",
      "text/plain": [
       "<Figure size 720x432 with 1 Axes>"
      ]
     },
     "metadata": {
      "needs_background": "light"
     },
     "output_type": "display_data"
    }
   ],
   "source": [
    "# Initialize variables to store results for each region\n",
    "region_results = []\n",
    "\n",
    "# Initialize a list to store bootstrapped profits for each region\n",
    "all_bootstrapped_profits = []\n",
    "\n",
    "for region_id in range(3):  # Iterate over three regions (0, 1, 2)\n",
    "    # Select the dataframe for the current region\n",
    "    region_data = geo_data_0_df if region_id == 0 else geo_data_1_df if region_id == 1 else geo_data_2_df\n",
    "    \n",
    "    # Split the data into training and validation sets (75:25 ratio)\n",
    "    X = region_data.drop(columns=['id', 'product'])\n",
    "    y = region_data['product']\n",
    "    X_train, X_valid, y_train, y_valid = train_test_split(X, y, test_size=0.25, random_state=42)\n",
    "\n",
    "    # Train the linear regression model\n",
    "    model = LinearRegression()\n",
    "    model.fit(X_train, y_train)\n",
    "\n",
    "    # Make predictions on the validation set\n",
    "    y_pred = model.predict(X_valid)\n",
    "\n",
    "    # Save the predictions and correct answers for the validation set\n",
    "    predictions = y_pred\n",
    "    correct_answers = y_valid\n",
    "\n",
    "    # Initialize a list to store profits from bootstrapping\n",
    "    bootstrapped_profits = []\n",
    "\n",
    "    # Perform bootstrapping with 1000 samples\n",
    "    num_samples = 1000\n",
    "    initial_measurement_budget = 500  # Adjust this according to your budget\n",
    "    selected_measurement_count = 200  # The number of best measurements to select\n",
    "\n",
    "    for _ in range(num_samples):\n",
    "        # Randomly sample 500 indices with replacement\n",
    "        sample_indices = np.random.choice(len(correct_answers), size=initial_measurement_budget, replace=True)\n",
    "        sample_predictions = predictions[sample_indices]\n",
    "\n",
    "        # Calculate profit for the region using the recommended function\n",
    "        profit_value = calculate_profit(correct_answers.iloc[sample_indices], sample_predictions, selected_measurement_count)\n",
    "        bootstrapped_profits.append(profit_value)\n",
    "\n",
    "    # Store bootstrapped profits for this region\n",
    "    all_bootstrapped_profits.append(bootstrapped_profits)\n",
    "\n",
    "    # Create a histogram of bootstrapped profits for this region\n",
    "    plt.figure(figsize=(10, 6))\n",
    "    plt.hist(bootstrapped_profits, bins=30, edgecolor='k', alpha=0.7)\n",
    "    plt.title(f'Distribution of Bootstrapped Profits - Region {region_id}')\n",
    "    plt.xlabel('Profit (USD million)')\n",
    "    plt.ylabel('Frequency')\n",
    "    plt.grid(True)\n",
    "    plt.show()\n"
   ]
  },
  {
   "cell_type": "markdown",
   "metadata": {},
   "source": [
    "The above histograms show the distribution of bootstrapped profits for each of the three regions (Region 0, Region 1, and Region 2). These histograms provide insights into the potential profitability of oil wells in each region based on the model's predictions and the bootstrapping technique. The histogram for Region 0 shows a very slight left skew and Region 2 shows a very slight right skew, whereas Region 1 appears the most centered, showing further confirmation that Region 1 would be the more favorable choice."
   ]
  },
  {
   "cell_type": "markdown",
   "metadata": {},
   "source": [
    "# Conclusion <a id='conclusion'></a>"
   ]
  },
  {
   "cell_type": "markdown",
   "metadata": {},
   "source": [
    "Based on initial analysis for model accuracy, Region 1 had the loswest RMSE value of only 0.89, whereas Region 0 and 2 had similar RMSEs with each other of 37.76 and 40.15, respectively. The lower RMSE for Region 1 indicates its better predictive accuracy compared to the other regions. When comparing profit potential without considereing budget limits, Region 0 exhibited the highest profit potential at approximately 33.59 billion USD, with Region 1 and 2 not too far behind at 24.15 and 25.99 billion. However, in actuality with the budget consideration, Region 1 has the highest average profit of approximately 4.4 million, compared to Region 0 and Region 2 with average profits of about 4.1 and 3.7 million, respectively. Another parameter to take into consideration is risk. From analysis, Region 1 not only has the highest average profit but also has very low risk of losses of only 1.10%, making it a strong candidate for oil well development. Region 0 and Region 2 with risk of losses at 7.0% and 7.7% do not even pass the required criteria of being lower than 2.5%. The 95% confidence interval also provides a reasonable range estimate for the potential profit for Region 1. Therefore, it is recommended to choose Region 1 for oil well development based on the available data and analysis."
   ]
  }
 ],
 "metadata": {
  "kernelspec": {
   "display_name": "Python 3 (ipykernel)",
   "language": "python",
   "name": "python3"
  },
  "language_info": {
   "codemirror_mode": {
    "name": "ipython",
    "version": 3
   },
   "file_extension": ".py",
   "mimetype": "text/x-python",
   "name": "python",
   "nbconvert_exporter": "python",
   "pygments_lexer": "ipython3",
   "version": "3.9.19"
  },
  "toc": {
   "base_numbering": 1,
   "nav_menu": {},
   "number_sections": true,
   "sideBar": true,
   "skip_h1_title": true,
   "title_cell": "Table of Contents",
   "title_sidebar": "Contents",
   "toc_cell": false,
   "toc_position": {},
   "toc_section_display": true,
   "toc_window_display": false
  }
 },
 "nbformat": 4,
 "nbformat_minor": 2
}
