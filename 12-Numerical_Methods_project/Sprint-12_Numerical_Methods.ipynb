{
 "cells": [
  {
   "cell_type": "markdown",
   "metadata": {},
   "source": [
    "# Rusty Bargain: Car Value Model"
   ]
  },
  {
   "cell_type": "markdown",
   "metadata": {},
   "source": [
    "# Contents <a id='back'></a>\n",
    "\n",
    "* [Introduction](#introduction)\n",
    "* [Data Overview](#data_overview)\n",
    "    * [Initialization](#initialization)\n",
    "    * [Load Data](load_data)\n",
    "* [Prepare the Data](#prepare_data)\n",
    "    * [Fix Data](#fix_data)   \n",
    "    * [Check for Duplicates](#duplicates)\n",
    "    * [Check for Missing Values](#missing_values)\n",
    "* [Model Training](#model_training)\n",
    "    * [Light GBM for gradient boosting models](#light_gbm)   \n",
    "        * [Hyperparameter Tuning for Light GBM](#light_gbm_tuning)\n",
    "    * [Linear Regression](#linear_regression)\n",
    "    * [Decision Tree](#decision_tree)\n",
    "        * [Hyperparameter Tuning for Decision Tree](#decision_tree_tuning)\n",
    "    * [Random Forest](#random_forest)\n",
    "        * [Hyperparameter for Random Forest](#random_forest_tuning)\n",
    "* [Model Analysis](#model_analysis)\n",
    "* [Conclusion](#conclusion)"
   ]
  },
  {
   "cell_type": "markdown",
   "metadata": {},
   "source": [
    "# Introduction <a id='introduction'></a>"
   ]
  },
  {
   "cell_type": "markdown",
   "metadata": {},
   "source": [
    "Rusty Bargain used car sales service is developing an app to attract new customers. In that app, you can quickly find out the market value of your car. You have access to historical data (`/datasets/car_data.csv`): technical specifications, trim versions, and prices. You need to build the model to determine the value. \n",
    "\n",
    "Rusty Bargain is interested in:\n",
    "\n",
    "- the quality of the prediction;\n",
    "- the speed of the prediction;\n",
    "- the time required for training\n",
    "\n",
    "[Back to Contents](#back)"
   ]
  },
  {
   "cell_type": "markdown",
   "metadata": {},
   "source": [
    "# Data Overview <a id='data_overview'></a>"
   ]
  },
  {
   "cell_type": "markdown",
   "metadata": {},
   "source": [
    "## Initialization <a id='initialization'></a> <a class=\"tocSkip\">"
   ]
  },
  {
   "cell_type": "code",
   "execution_count": 1,
   "metadata": {},
   "outputs": [],
   "source": [
    "# Loading all the libraries\n",
    "import pandas as pd\n",
    "import numpy as np\n",
    "import matplotlib.pyplot as plt\n",
    "\n",
    "from sklearn.model_selection import train_test_split\n",
    "from sklearn.preprocessing import LabelEncoder\n",
    "from sklearn.metrics import mean_squared_error\n",
    "from sklearn.linear_model import LinearRegression\n",
    "from sklearn.ensemble import RandomForestRegressor\n",
    "from sklearn.tree import DecisionTreeRegressor\n",
    "from lightgbm import LGBMRegressor\n",
    "from xgboost import XGBRegressor\n",
    "from catboost import CatBoostRegressor\n",
    "from sklearn.model_selection import GridSearchCV\n",
    "from sklearn.model_selection import RandomizedSearchCV"
   ]
  },
  {
   "cell_type": "markdown",
   "metadata": {},
   "source": [
    "## Load data <a id='load_data'></a> <a class=\"tocSkip\">"
   ]
  },
  {
   "cell_type": "code",
   "execution_count": 2,
   "metadata": {},
   "outputs": [],
   "source": [
    "# Reading the dataframe file and storing it to df\n",
    "df = pd.read_csv('/datasets/car_data.csv')"
   ]
  },
  {
   "cell_type": "markdown",
   "metadata": {},
   "source": [
    "# Data preparation <a id='prepare_data'></a> <a class=\"tocSkip\">"
   ]
  },
  {
   "cell_type": "code",
   "execution_count": 3,
   "metadata": {},
   "outputs": [
    {
     "name": "stdout",
     "output_type": "stream",
     "text": [
      "<class 'pandas.core.frame.DataFrame'>\n",
      "RangeIndex: 354369 entries, 0 to 354368\n",
      "Data columns (total 16 columns):\n",
      " #   Column             Non-Null Count   Dtype \n",
      "---  ------             --------------   ----- \n",
      " 0   DateCrawled        354369 non-null  object\n",
      " 1   Price              354369 non-null  int64 \n",
      " 2   VehicleType        316879 non-null  object\n",
      " 3   RegistrationYear   354369 non-null  int64 \n",
      " 4   Gearbox            334536 non-null  object\n",
      " 5   Power              354369 non-null  int64 \n",
      " 6   Model              334664 non-null  object\n",
      " 7   Mileage            354369 non-null  int64 \n",
      " 8   RegistrationMonth  354369 non-null  int64 \n",
      " 9   FuelType           321474 non-null  object\n",
      " 10  Brand              354369 non-null  object\n",
      " 11  NotRepaired        283215 non-null  object\n",
      " 12  DateCreated        354369 non-null  object\n",
      " 13  NumberOfPictures   354369 non-null  int64 \n",
      " 14  PostalCode         354369 non-null  int64 \n",
      " 15  LastSeen           354369 non-null  object\n",
      "dtypes: int64(7), object(9)\n",
      "memory usage: 43.3+ MB\n"
     ]
    }
   ],
   "source": [
    "# Print the general/summary information about the DataFrame\n",
    "df.info()"
   ]
  },
  {
   "cell_type": "code",
   "execution_count": 4,
   "metadata": {},
   "outputs": [
    {
     "data": {
      "text/html": [
       "<div>\n",
       "<style scoped>\n",
       "    .dataframe tbody tr th:only-of-type {\n",
       "        vertical-align: middle;\n",
       "    }\n",
       "\n",
       "    .dataframe tbody tr th {\n",
       "        vertical-align: top;\n",
       "    }\n",
       "\n",
       "    .dataframe thead th {\n",
       "        text-align: right;\n",
       "    }\n",
       "</style>\n",
       "<table border=\"1\" class=\"dataframe\">\n",
       "  <thead>\n",
       "    <tr style=\"text-align: right;\">\n",
       "      <th></th>\n",
       "      <th>DateCrawled</th>\n",
       "      <th>Price</th>\n",
       "      <th>VehicleType</th>\n",
       "      <th>RegistrationYear</th>\n",
       "      <th>Gearbox</th>\n",
       "      <th>Power</th>\n",
       "      <th>Model</th>\n",
       "      <th>Mileage</th>\n",
       "      <th>RegistrationMonth</th>\n",
       "      <th>FuelType</th>\n",
       "      <th>Brand</th>\n",
       "      <th>NotRepaired</th>\n",
       "      <th>DateCreated</th>\n",
       "      <th>NumberOfPictures</th>\n",
       "      <th>PostalCode</th>\n",
       "      <th>LastSeen</th>\n",
       "    </tr>\n",
       "  </thead>\n",
       "  <tbody>\n",
       "    <tr>\n",
       "      <th>0</th>\n",
       "      <td>24/03/2016 11:52</td>\n",
       "      <td>480</td>\n",
       "      <td>NaN</td>\n",
       "      <td>1993</td>\n",
       "      <td>manual</td>\n",
       "      <td>0</td>\n",
       "      <td>golf</td>\n",
       "      <td>150000</td>\n",
       "      <td>0</td>\n",
       "      <td>petrol</td>\n",
       "      <td>volkswagen</td>\n",
       "      <td>NaN</td>\n",
       "      <td>24/03/2016 00:00</td>\n",
       "      <td>0</td>\n",
       "      <td>70435</td>\n",
       "      <td>07/04/2016 03:16</td>\n",
       "    </tr>\n",
       "    <tr>\n",
       "      <th>1</th>\n",
       "      <td>24/03/2016 10:58</td>\n",
       "      <td>18300</td>\n",
       "      <td>coupe</td>\n",
       "      <td>2011</td>\n",
       "      <td>manual</td>\n",
       "      <td>190</td>\n",
       "      <td>NaN</td>\n",
       "      <td>125000</td>\n",
       "      <td>5</td>\n",
       "      <td>gasoline</td>\n",
       "      <td>audi</td>\n",
       "      <td>yes</td>\n",
       "      <td>24/03/2016 00:00</td>\n",
       "      <td>0</td>\n",
       "      <td>66954</td>\n",
       "      <td>07/04/2016 01:46</td>\n",
       "    </tr>\n",
       "    <tr>\n",
       "      <th>2</th>\n",
       "      <td>14/03/2016 12:52</td>\n",
       "      <td>9800</td>\n",
       "      <td>suv</td>\n",
       "      <td>2004</td>\n",
       "      <td>auto</td>\n",
       "      <td>163</td>\n",
       "      <td>grand</td>\n",
       "      <td>125000</td>\n",
       "      <td>8</td>\n",
       "      <td>gasoline</td>\n",
       "      <td>jeep</td>\n",
       "      <td>NaN</td>\n",
       "      <td>14/03/2016 00:00</td>\n",
       "      <td>0</td>\n",
       "      <td>90480</td>\n",
       "      <td>05/04/2016 12:47</td>\n",
       "    </tr>\n",
       "    <tr>\n",
       "      <th>3</th>\n",
       "      <td>17/03/2016 16:54</td>\n",
       "      <td>1500</td>\n",
       "      <td>small</td>\n",
       "      <td>2001</td>\n",
       "      <td>manual</td>\n",
       "      <td>75</td>\n",
       "      <td>golf</td>\n",
       "      <td>150000</td>\n",
       "      <td>6</td>\n",
       "      <td>petrol</td>\n",
       "      <td>volkswagen</td>\n",
       "      <td>no</td>\n",
       "      <td>17/03/2016 00:00</td>\n",
       "      <td>0</td>\n",
       "      <td>91074</td>\n",
       "      <td>17/03/2016 17:40</td>\n",
       "    </tr>\n",
       "    <tr>\n",
       "      <th>4</th>\n",
       "      <td>31/03/2016 17:25</td>\n",
       "      <td>3600</td>\n",
       "      <td>small</td>\n",
       "      <td>2008</td>\n",
       "      <td>manual</td>\n",
       "      <td>69</td>\n",
       "      <td>fabia</td>\n",
       "      <td>90000</td>\n",
       "      <td>7</td>\n",
       "      <td>gasoline</td>\n",
       "      <td>skoda</td>\n",
       "      <td>no</td>\n",
       "      <td>31/03/2016 00:00</td>\n",
       "      <td>0</td>\n",
       "      <td>60437</td>\n",
       "      <td>06/04/2016 10:17</td>\n",
       "    </tr>\n",
       "  </tbody>\n",
       "</table>\n",
       "</div>"
      ],
      "text/plain": [
       "        DateCrawled  Price VehicleType  RegistrationYear Gearbox  Power  \\\n",
       "0  24/03/2016 11:52    480         NaN              1993  manual      0   \n",
       "1  24/03/2016 10:58  18300       coupe              2011  manual    190   \n",
       "2  14/03/2016 12:52   9800         suv              2004    auto    163   \n",
       "3  17/03/2016 16:54   1500       small              2001  manual     75   \n",
       "4  31/03/2016 17:25   3600       small              2008  manual     69   \n",
       "\n",
       "   Model  Mileage  RegistrationMonth  FuelType       Brand NotRepaired  \\\n",
       "0   golf   150000                  0    petrol  volkswagen         NaN   \n",
       "1    NaN   125000                  5  gasoline        audi         yes   \n",
       "2  grand   125000                  8  gasoline        jeep         NaN   \n",
       "3   golf   150000                  6    petrol  volkswagen          no   \n",
       "4  fabia    90000                  7  gasoline       skoda          no   \n",
       "\n",
       "        DateCreated  NumberOfPictures  PostalCode          LastSeen  \n",
       "0  24/03/2016 00:00                 0       70435  07/04/2016 03:16  \n",
       "1  24/03/2016 00:00                 0       66954  07/04/2016 01:46  \n",
       "2  14/03/2016 00:00                 0       90480  05/04/2016 12:47  \n",
       "3  17/03/2016 00:00                 0       91074  17/03/2016 17:40  \n",
       "4  31/03/2016 00:00                 0       60437  06/04/2016 10:17  "
      ]
     },
     "metadata": {},
     "output_type": "display_data"
    }
   ],
   "source": [
    "# Print a sample of the data\n",
    "display(df.head())"
   ]
  },
  {
   "cell_type": "markdown",
   "metadata": {},
   "source": [
    "## Fix Data <a id='fix_data'></a> <a class=\"tocSkip\">"
   ]
  },
  {
   "cell_type": "code",
   "execution_count": 5,
   "metadata": {},
   "outputs": [
    {
     "name": "stdout",
     "output_type": "stream",
     "text": [
      "Index(['datecrawled', 'price', 'vehicletype', 'registrationyear', 'gearbox',\n",
      "       'power', 'model', 'mileage', 'registrationmonth', 'fueltype', 'brand',\n",
      "       'notrepaired', 'datecreated', 'numberofpictures', 'postalcode',\n",
      "       'lastseen'],\n",
      "      dtype='object')\n"
     ]
    }
   ],
   "source": [
    "# Convert column names to snake case\n",
    "df.columns = [col.lower() for col in df.columns]\n",
    "\n",
    "# Check corrected column names\n",
    "print(df.columns)"
   ]
  },
  {
   "cell_type": "code",
   "execution_count": 6,
   "metadata": {},
   "outputs": [
    {
     "name": "stdout",
     "output_type": "stream",
     "text": [
      "Index(['date_crawled', 'price', 'vehicle_type', 'registration_year', 'gearbox',\n",
      "       'power', 'model', 'mileage', 'registration_month', 'fuel_type', 'brand',\n",
      "       'not_repaired', 'date_created', 'number_of_pictures', 'postal_code',\n",
      "       'last_seen'],\n",
      "      dtype='object')\n"
     ]
    }
   ],
   "source": [
    "# Rename columns\n",
    "df= df.rename(columns = {\n",
    "    'datecrawled':'date_crawled',\n",
    "    'vehicletype':'vehicle_type',\n",
    "    'registrationyear':'registration_year',\n",
    "    'registrationmonth':'registration_month',\n",
    "    'fueltype':'fuel_type',\n",
    "    'notrepaired':'not_repaired',\n",
    "    'datecreated':'date_created',\n",
    "    'numberofpictures':'number_of_pictures',\n",
    "    'postalcode':'postal_code',\n",
    "    'lastseen':'last_seen'\n",
    "})\n",
    "\n",
    "# Check corrected column names\n",
    "print(df.columns)"
   ]
  },
  {
   "cell_type": "code",
   "execution_count": 7,
   "metadata": {
    "scrolled": true
   },
   "outputs": [
    {
     "name": "stdout",
     "output_type": "stream",
     "text": [
      "date_crawled          datetime64[ns]\n",
      "price                          int64\n",
      "vehicle_type                  object\n",
      "registration_year              int64\n",
      "gearbox                       object\n",
      "power                          int64\n",
      "model                         object\n",
      "mileage                        int64\n",
      "registration_month             int64\n",
      "fuel_type                     object\n",
      "brand                         object\n",
      "not_repaired                  object\n",
      "date_created          datetime64[ns]\n",
      "number_of_pictures             int64\n",
      "postal_code                    int64\n",
      "last_seen             datetime64[ns]\n",
      "dtype: object\n"
     ]
    }
   ],
   "source": [
    "# Convert columns to datetime\n",
    "df['date_crawled'] = pd.to_datetime(df['date_crawled'])\n",
    "df['date_created'] = pd.to_datetime(df['date_created'])\n",
    "df['last_seen'] = pd.to_datetime(df['last_seen'])\n",
    "\n",
    "# Check the updated datatypes\n",
    "print(df.dtypes)"
   ]
  },
  {
   "cell_type": "markdown",
   "metadata": {},
   "source": [
    "## Check for Duplicates <a id='duplicates'></a> <a class=\"tocSkip\">"
   ]
  },
  {
   "cell_type": "code",
   "execution_count": 8,
   "metadata": {},
   "outputs": [
    {
     "name": "stdout",
     "output_type": "stream",
     "text": [
      "262\n"
     ]
    }
   ],
   "source": [
    "# checking for obvious duplicated rows in df\n",
    "print(df.duplicated().sum())"
   ]
  },
  {
   "cell_type": "code",
   "execution_count": 9,
   "metadata": {},
   "outputs": [
    {
     "data": {
      "text/html": [
       "<div>\n",
       "<style scoped>\n",
       "    .dataframe tbody tr th:only-of-type {\n",
       "        vertical-align: middle;\n",
       "    }\n",
       "\n",
       "    .dataframe tbody tr th {\n",
       "        vertical-align: top;\n",
       "    }\n",
       "\n",
       "    .dataframe thead th {\n",
       "        text-align: right;\n",
       "    }\n",
       "</style>\n",
       "<table border=\"1\" class=\"dataframe\">\n",
       "  <thead>\n",
       "    <tr style=\"text-align: right;\">\n",
       "      <th></th>\n",
       "      <th>date_crawled</th>\n",
       "      <th>price</th>\n",
       "      <th>vehicle_type</th>\n",
       "      <th>registration_year</th>\n",
       "      <th>gearbox</th>\n",
       "      <th>power</th>\n",
       "      <th>model</th>\n",
       "      <th>mileage</th>\n",
       "      <th>registration_month</th>\n",
       "      <th>fuel_type</th>\n",
       "      <th>brand</th>\n",
       "      <th>not_repaired</th>\n",
       "      <th>date_created</th>\n",
       "      <th>number_of_pictures</th>\n",
       "      <th>postal_code</th>\n",
       "      <th>last_seen</th>\n",
       "    </tr>\n",
       "  </thead>\n",
       "  <tbody>\n",
       "    <tr>\n",
       "      <th>183</th>\n",
       "      <td>2016-03-21 19:06:00</td>\n",
       "      <td>5999</td>\n",
       "      <td>small</td>\n",
       "      <td>2009</td>\n",
       "      <td>manual</td>\n",
       "      <td>80</td>\n",
       "      <td>polo</td>\n",
       "      <td>125000</td>\n",
       "      <td>5</td>\n",
       "      <td>petrol</td>\n",
       "      <td>volkswagen</td>\n",
       "      <td>no</td>\n",
       "      <td>2016-03-21</td>\n",
       "      <td>0</td>\n",
       "      <td>65529</td>\n",
       "      <td>2016-05-04 20:47:00</td>\n",
       "    </tr>\n",
       "    <tr>\n",
       "      <th>1771</th>\n",
       "      <td>2016-06-04 21:25:00</td>\n",
       "      <td>3900</td>\n",
       "      <td>sedan</td>\n",
       "      <td>1999</td>\n",
       "      <td>manual</td>\n",
       "      <td>116</td>\n",
       "      <td>beetle</td>\n",
       "      <td>150000</td>\n",
       "      <td>6</td>\n",
       "      <td>petrol</td>\n",
       "      <td>volkswagen</td>\n",
       "      <td>no</td>\n",
       "      <td>2016-06-04</td>\n",
       "      <td>0</td>\n",
       "      <td>55469</td>\n",
       "      <td>2016-06-04 21:25:00</td>\n",
       "    </tr>\n",
       "    <tr>\n",
       "      <th>1910</th>\n",
       "      <td>2016-05-04 00:59:00</td>\n",
       "      <td>2400</td>\n",
       "      <td>sedan</td>\n",
       "      <td>2002</td>\n",
       "      <td>auto</td>\n",
       "      <td>133</td>\n",
       "      <td>other</td>\n",
       "      <td>150000</td>\n",
       "      <td>12</td>\n",
       "      <td>gasoline</td>\n",
       "      <td>peugeot</td>\n",
       "      <td>no</td>\n",
       "      <td>2016-04-04</td>\n",
       "      <td>0</td>\n",
       "      <td>15517</td>\n",
       "      <td>2016-05-04 08:41:00</td>\n",
       "    </tr>\n",
       "    <tr>\n",
       "      <th>2267</th>\n",
       "      <td>2016-03-13 20:48:00</td>\n",
       "      <td>4200</td>\n",
       "      <td>sedan</td>\n",
       "      <td>2003</td>\n",
       "      <td>manual</td>\n",
       "      <td>105</td>\n",
       "      <td>golf</td>\n",
       "      <td>150000</td>\n",
       "      <td>10</td>\n",
       "      <td>gasoline</td>\n",
       "      <td>volkswagen</td>\n",
       "      <td>no</td>\n",
       "      <td>2016-03-13</td>\n",
       "      <td>0</td>\n",
       "      <td>14482</td>\n",
       "      <td>2016-03-13 20:48:00</td>\n",
       "    </tr>\n",
       "    <tr>\n",
       "      <th>3176</th>\n",
       "      <td>2016-03-23 21:25:00</td>\n",
       "      <td>900</td>\n",
       "      <td>bus</td>\n",
       "      <td>1995</td>\n",
       "      <td>manual</td>\n",
       "      <td>110</td>\n",
       "      <td>transporter</td>\n",
       "      <td>150000</td>\n",
       "      <td>9</td>\n",
       "      <td>petrol</td>\n",
       "      <td>volkswagen</td>\n",
       "      <td>yes</td>\n",
       "      <td>2016-03-23</td>\n",
       "      <td>0</td>\n",
       "      <td>65239</td>\n",
       "      <td>2016-03-30 10:17:00</td>\n",
       "    </tr>\n",
       "    <tr>\n",
       "      <th>...</th>\n",
       "      <td>...</td>\n",
       "      <td>...</td>\n",
       "      <td>...</td>\n",
       "      <td>...</td>\n",
       "      <td>...</td>\n",
       "      <td>...</td>\n",
       "      <td>...</td>\n",
       "      <td>...</td>\n",
       "      <td>...</td>\n",
       "      <td>...</td>\n",
       "      <td>...</td>\n",
       "      <td>...</td>\n",
       "      <td>...</td>\n",
       "      <td>...</td>\n",
       "      <td>...</td>\n",
       "      <td>...</td>\n",
       "    </tr>\n",
       "    <tr>\n",
       "      <th>349709</th>\n",
       "      <td>2016-03-04 20:52:00</td>\n",
       "      <td>700</td>\n",
       "      <td>small</td>\n",
       "      <td>1999</td>\n",
       "      <td>manual</td>\n",
       "      <td>60</td>\n",
       "      <td>ibiza</td>\n",
       "      <td>150000</td>\n",
       "      <td>12</td>\n",
       "      <td>petrol</td>\n",
       "      <td>seat</td>\n",
       "      <td>yes</td>\n",
       "      <td>2016-03-04</td>\n",
       "      <td>0</td>\n",
       "      <td>6268</td>\n",
       "      <td>2016-05-04 21:47:00</td>\n",
       "    </tr>\n",
       "    <tr>\n",
       "      <th>351555</th>\n",
       "      <td>2016-03-26 16:54:00</td>\n",
       "      <td>3150</td>\n",
       "      <td>bus</td>\n",
       "      <td>2003</td>\n",
       "      <td>manual</td>\n",
       "      <td>86</td>\n",
       "      <td>transit</td>\n",
       "      <td>150000</td>\n",
       "      <td>11</td>\n",
       "      <td>gasoline</td>\n",
       "      <td>ford</td>\n",
       "      <td>no</td>\n",
       "      <td>2016-03-26</td>\n",
       "      <td>0</td>\n",
       "      <td>96148</td>\n",
       "      <td>2016-02-04 07:47:00</td>\n",
       "    </tr>\n",
       "    <tr>\n",
       "      <th>352384</th>\n",
       "      <td>2016-03-15 21:54:00</td>\n",
       "      <td>5900</td>\n",
       "      <td>wagon</td>\n",
       "      <td>2006</td>\n",
       "      <td>manual</td>\n",
       "      <td>129</td>\n",
       "      <td>3er</td>\n",
       "      <td>150000</td>\n",
       "      <td>12</td>\n",
       "      <td>petrol</td>\n",
       "      <td>bmw</td>\n",
       "      <td>no</td>\n",
       "      <td>2016-03-15</td>\n",
       "      <td>0</td>\n",
       "      <td>92526</td>\n",
       "      <td>2016-03-20 21:17:00</td>\n",
       "    </tr>\n",
       "    <tr>\n",
       "      <th>353057</th>\n",
       "      <td>2016-05-03 14:16:00</td>\n",
       "      <td>9500</td>\n",
       "      <td>small</td>\n",
       "      <td>2013</td>\n",
       "      <td>manual</td>\n",
       "      <td>105</td>\n",
       "      <td>ibiza</td>\n",
       "      <td>40000</td>\n",
       "      <td>5</td>\n",
       "      <td>petrol</td>\n",
       "      <td>seat</td>\n",
       "      <td>no</td>\n",
       "      <td>2016-04-03</td>\n",
       "      <td>0</td>\n",
       "      <td>61381</td>\n",
       "      <td>2016-05-04 19:18:00</td>\n",
       "    </tr>\n",
       "    <tr>\n",
       "      <th>353727</th>\n",
       "      <td>2016-03-20 17:56:00</td>\n",
       "      <td>1</td>\n",
       "      <td>NaN</td>\n",
       "      <td>2000</td>\n",
       "      <td>NaN</td>\n",
       "      <td>0</td>\n",
       "      <td>NaN</td>\n",
       "      <td>150000</td>\n",
       "      <td>0</td>\n",
       "      <td>NaN</td>\n",
       "      <td>bmw</td>\n",
       "      <td>NaN</td>\n",
       "      <td>2016-03-20</td>\n",
       "      <td>0</td>\n",
       "      <td>42329</td>\n",
       "      <td>2016-07-04 00:46:00</td>\n",
       "    </tr>\n",
       "  </tbody>\n",
       "</table>\n",
       "<p>524 rows × 16 columns</p>\n",
       "</div>"
      ],
      "text/plain": [
       "              date_crawled  price vehicle_type  registration_year gearbox  \\\n",
       "183    2016-03-21 19:06:00   5999        small               2009  manual   \n",
       "1771   2016-06-04 21:25:00   3900        sedan               1999  manual   \n",
       "1910   2016-05-04 00:59:00   2400        sedan               2002    auto   \n",
       "2267   2016-03-13 20:48:00   4200        sedan               2003  manual   \n",
       "3176   2016-03-23 21:25:00    900          bus               1995  manual   \n",
       "...                    ...    ...          ...                ...     ...   \n",
       "349709 2016-03-04 20:52:00    700        small               1999  manual   \n",
       "351555 2016-03-26 16:54:00   3150          bus               2003  manual   \n",
       "352384 2016-03-15 21:54:00   5900        wagon               2006  manual   \n",
       "353057 2016-05-03 14:16:00   9500        small               2013  manual   \n",
       "353727 2016-03-20 17:56:00      1          NaN               2000     NaN   \n",
       "\n",
       "        power        model  mileage  registration_month fuel_type       brand  \\\n",
       "183        80         polo   125000                   5    petrol  volkswagen   \n",
       "1771      116       beetle   150000                   6    petrol  volkswagen   \n",
       "1910      133        other   150000                  12  gasoline     peugeot   \n",
       "2267      105         golf   150000                  10  gasoline  volkswagen   \n",
       "3176      110  transporter   150000                   9    petrol  volkswagen   \n",
       "...       ...          ...      ...                 ...       ...         ...   \n",
       "349709     60        ibiza   150000                  12    petrol        seat   \n",
       "351555     86      transit   150000                  11  gasoline        ford   \n",
       "352384    129          3er   150000                  12    petrol         bmw   \n",
       "353057    105        ibiza    40000                   5    petrol        seat   \n",
       "353727      0          NaN   150000                   0       NaN         bmw   \n",
       "\n",
       "       not_repaired date_created  number_of_pictures  postal_code  \\\n",
       "183              no   2016-03-21                   0        65529   \n",
       "1771             no   2016-06-04                   0        55469   \n",
       "1910             no   2016-04-04                   0        15517   \n",
       "2267             no   2016-03-13                   0        14482   \n",
       "3176            yes   2016-03-23                   0        65239   \n",
       "...             ...          ...                 ...          ...   \n",
       "349709          yes   2016-03-04                   0         6268   \n",
       "351555           no   2016-03-26                   0        96148   \n",
       "352384           no   2016-03-15                   0        92526   \n",
       "353057           no   2016-04-03                   0        61381   \n",
       "353727          NaN   2016-03-20                   0        42329   \n",
       "\n",
       "                 last_seen  \n",
       "183    2016-05-04 20:47:00  \n",
       "1771   2016-06-04 21:25:00  \n",
       "1910   2016-05-04 08:41:00  \n",
       "2267   2016-03-13 20:48:00  \n",
       "3176   2016-03-30 10:17:00  \n",
       "...                    ...  \n",
       "349709 2016-05-04 21:47:00  \n",
       "351555 2016-02-04 07:47:00  \n",
       "352384 2016-03-20 21:17:00  \n",
       "353057 2016-05-04 19:18:00  \n",
       "353727 2016-07-04 00:46:00  \n",
       "\n",
       "[524 rows x 16 columns]"
      ]
     },
     "metadata": {},
     "output_type": "display_data"
    }
   ],
   "source": [
    "# Show duplicated rows\n",
    "duplicates = df[df.duplicated(keep=False)]\n",
    "display(duplicates)"
   ]
  },
  {
   "cell_type": "code",
   "execution_count": 10,
   "metadata": {},
   "outputs": [],
   "source": [
    "# removing obvious duplicates\n",
    "df = df.drop_duplicates().reset_index()"
   ]
  },
  {
   "cell_type": "code",
   "execution_count": 11,
   "metadata": {},
   "outputs": [
    {
     "name": "stdout",
     "output_type": "stream",
     "text": [
      "0\n"
     ]
    }
   ],
   "source": [
    "# checking for duplicates\n",
    "print(df.duplicated().sum())"
   ]
  },
  {
   "cell_type": "markdown",
   "metadata": {},
   "source": [
    "Entire duplicated rows were dropped for data preparation."
   ]
  },
  {
   "cell_type": "markdown",
   "metadata": {},
   "source": [
    "## Check for Missing Values <a id='missing_values'></a> <a class=\"tocSkip\">"
   ]
  },
  {
   "cell_type": "code",
   "execution_count": 12,
   "metadata": {},
   "outputs": [
    {
     "name": "stdout",
     "output_type": "stream",
     "text": [
      "index                     0\n",
      "date_crawled              0\n",
      "price                     0\n",
      "vehicle_type          37484\n",
      "registration_year         0\n",
      "gearbox               19830\n",
      "power                     0\n",
      "model                 19701\n",
      "mileage                   0\n",
      "registration_month        0\n",
      "fuel_type             32889\n",
      "brand                     0\n",
      "not_repaired          71145\n",
      "date_created              0\n",
      "number_of_pictures        0\n",
      "postal_code               0\n",
      "last_seen                 0\n",
      "dtype: int64\n"
     ]
    }
   ],
   "source": [
    "# calculating missing values in df\n",
    "print(df.isna().sum())"
   ]
  },
  {
   "cell_type": "code",
   "execution_count": 13,
   "metadata": {},
   "outputs": [
    {
     "data": {
      "text/html": [
       "<div>\n",
       "<style scoped>\n",
       "    .dataframe tbody tr th:only-of-type {\n",
       "        vertical-align: middle;\n",
       "    }\n",
       "\n",
       "    .dataframe tbody tr th {\n",
       "        vertical-align: top;\n",
       "    }\n",
       "\n",
       "    .dataframe thead th {\n",
       "        text-align: right;\n",
       "    }\n",
       "</style>\n",
       "<table border=\"1\" class=\"dataframe\">\n",
       "  <thead>\n",
       "    <tr style=\"text-align: right;\">\n",
       "      <th></th>\n",
       "      <th>Missing Values</th>\n",
       "      <th>Total Values</th>\n",
       "      <th>Percentage Missing</th>\n",
       "    </tr>\n",
       "  </thead>\n",
       "  <tbody>\n",
       "    <tr>\n",
       "      <th>not_repaired</th>\n",
       "      <td>71145</td>\n",
       "      <td>354107</td>\n",
       "      <td>20.091385</td>\n",
       "    </tr>\n",
       "    <tr>\n",
       "      <th>vehicle_type</th>\n",
       "      <td>37484</td>\n",
       "      <td>354107</td>\n",
       "      <td>10.585501</td>\n",
       "    </tr>\n",
       "    <tr>\n",
       "      <th>fuel_type</th>\n",
       "      <td>32889</td>\n",
       "      <td>354107</td>\n",
       "      <td>9.287871</td>\n",
       "    </tr>\n",
       "    <tr>\n",
       "      <th>gearbox</th>\n",
       "      <td>19830</td>\n",
       "      <td>354107</td>\n",
       "      <td>5.600002</td>\n",
       "    </tr>\n",
       "    <tr>\n",
       "      <th>model</th>\n",
       "      <td>19701</td>\n",
       "      <td>354107</td>\n",
       "      <td>5.563573</td>\n",
       "    </tr>\n",
       "    <tr>\n",
       "      <th>index</th>\n",
       "      <td>0</td>\n",
       "      <td>354107</td>\n",
       "      <td>0.000000</td>\n",
       "    </tr>\n",
       "    <tr>\n",
       "      <th>postal_code</th>\n",
       "      <td>0</td>\n",
       "      <td>354107</td>\n",
       "      <td>0.000000</td>\n",
       "    </tr>\n",
       "    <tr>\n",
       "      <th>number_of_pictures</th>\n",
       "      <td>0</td>\n",
       "      <td>354107</td>\n",
       "      <td>0.000000</td>\n",
       "    </tr>\n",
       "    <tr>\n",
       "      <th>date_created</th>\n",
       "      <td>0</td>\n",
       "      <td>354107</td>\n",
       "      <td>0.000000</td>\n",
       "    </tr>\n",
       "    <tr>\n",
       "      <th>brand</th>\n",
       "      <td>0</td>\n",
       "      <td>354107</td>\n",
       "      <td>0.000000</td>\n",
       "    </tr>\n",
       "    <tr>\n",
       "      <th>mileage</th>\n",
       "      <td>0</td>\n",
       "      <td>354107</td>\n",
       "      <td>0.000000</td>\n",
       "    </tr>\n",
       "    <tr>\n",
       "      <th>registration_month</th>\n",
       "      <td>0</td>\n",
       "      <td>354107</td>\n",
       "      <td>0.000000</td>\n",
       "    </tr>\n",
       "    <tr>\n",
       "      <th>date_crawled</th>\n",
       "      <td>0</td>\n",
       "      <td>354107</td>\n",
       "      <td>0.000000</td>\n",
       "    </tr>\n",
       "    <tr>\n",
       "      <th>power</th>\n",
       "      <td>0</td>\n",
       "      <td>354107</td>\n",
       "      <td>0.000000</td>\n",
       "    </tr>\n",
       "    <tr>\n",
       "      <th>registration_year</th>\n",
       "      <td>0</td>\n",
       "      <td>354107</td>\n",
       "      <td>0.000000</td>\n",
       "    </tr>\n",
       "    <tr>\n",
       "      <th>price</th>\n",
       "      <td>0</td>\n",
       "      <td>354107</td>\n",
       "      <td>0.000000</td>\n",
       "    </tr>\n",
       "    <tr>\n",
       "      <th>last_seen</th>\n",
       "      <td>0</td>\n",
       "      <td>354107</td>\n",
       "      <td>0.000000</td>\n",
       "    </tr>\n",
       "  </tbody>\n",
       "</table>\n",
       "</div>"
      ],
      "text/plain": [
       "                    Missing Values  Total Values  Percentage Missing\n",
       "not_repaired                 71145        354107           20.091385\n",
       "vehicle_type                 37484        354107           10.585501\n",
       "fuel_type                    32889        354107            9.287871\n",
       "gearbox                      19830        354107            5.600002\n",
       "model                        19701        354107            5.563573\n",
       "index                            0        354107            0.000000\n",
       "postal_code                      0        354107            0.000000\n",
       "number_of_pictures               0        354107            0.000000\n",
       "date_created                     0        354107            0.000000\n",
       "brand                            0        354107            0.000000\n",
       "mileage                          0        354107            0.000000\n",
       "registration_month               0        354107            0.000000\n",
       "date_crawled                     0        354107            0.000000\n",
       "power                            0        354107            0.000000\n",
       "registration_year                0        354107            0.000000\n",
       "price                            0        354107            0.000000\n",
       "last_seen                        0        354107            0.000000"
      ]
     },
     "metadata": {},
     "output_type": "display_data"
    }
   ],
   "source": [
    "# Number of missing values per column\n",
    "missing_values = df.isnull().sum()\n",
    "\n",
    "# Total number of values per column\n",
    "total_values = df.shape[0]\n",
    "\n",
    "# Percentage of missing values per column\n",
    "percentage_missing = (missing_values / total_values) * 100\n",
    "\n",
    "# Create a DataFrame to display the results\n",
    "missing_data_summary = pd.DataFrame({\n",
    "    'Missing Values': missing_values,\n",
    "    'Total Values': total_values,\n",
    "    'Percentage Missing': percentage_missing\n",
    "})\n",
    "\n",
    "# Sort by percentage of missing values in descending order\n",
    "missing_data_summary = missing_data_summary.sort_values(by='Percentage Missing', ascending=False)\n",
    "\n",
    "display(missing_data_summary)"
   ]
  },
  {
   "cell_type": "markdown",
   "metadata": {},
   "source": [
    "It appears that most of the missing data is unrecoverable. The vehicle_type, fuel_type, and gearbox may have been recoverable if the precise model was known since a certain model of car can't have two different gearbox types or fuel types. Thus, missing values will be dropped and the missing values in not_repaired will be replaced with `other`."
   ]
  },
  {
   "cell_type": "code",
   "execution_count": 14,
   "metadata": {},
   "outputs": [],
   "source": [
    "# Drop rows with missing values in specified columns\n",
    "columns_to_check = ['vehicle_type', 'fuel_type', 'gearbox', 'model']\n",
    "df.dropna(subset=columns_to_check, inplace=True)\n",
    "\n",
    "# Replace missing values in 'not_repaired' column with 'other'\n",
    "df['not_repaired'] = df['not_repaired'].fillna('other')"
   ]
  },
  {
   "cell_type": "code",
   "execution_count": 15,
   "metadata": {},
   "outputs": [
    {
     "name": "stdout",
     "output_type": "stream",
     "text": [
      "<class 'pandas.core.frame.DataFrame'>\n",
      "Int64Index: 283875 entries, 2 to 354106\n",
      "Data columns (total 17 columns):\n",
      " #   Column              Non-Null Count   Dtype         \n",
      "---  ------              --------------   -----         \n",
      " 0   index               283875 non-null  int64         \n",
      " 1   date_crawled        283875 non-null  datetime64[ns]\n",
      " 2   price               283875 non-null  int64         \n",
      " 3   vehicle_type        283875 non-null  object        \n",
      " 4   registration_year   283875 non-null  int64         \n",
      " 5   gearbox             283875 non-null  object        \n",
      " 6   power               283875 non-null  int64         \n",
      " 7   model               283875 non-null  object        \n",
      " 8   mileage             283875 non-null  int64         \n",
      " 9   registration_month  283875 non-null  int64         \n",
      " 10  fuel_type           283875 non-null  object        \n",
      " 11  brand               283875 non-null  object        \n",
      " 12  not_repaired        283875 non-null  object        \n",
      " 13  date_created        283875 non-null  datetime64[ns]\n",
      " 14  number_of_pictures  283875 non-null  int64         \n",
      " 15  postal_code         283875 non-null  int64         \n",
      " 16  last_seen           283875 non-null  datetime64[ns]\n",
      "dtypes: datetime64[ns](3), int64(8), object(6)\n",
      "memory usage: 39.0+ MB\n"
     ]
    }
   ],
   "source": [
    "df.info()"
   ]
  },
  {
   "cell_type": "code",
   "execution_count": 16,
   "metadata": {},
   "outputs": [
    {
     "data": {
      "text/html": [
       "<div>\n",
       "<style scoped>\n",
       "    .dataframe tbody tr th:only-of-type {\n",
       "        vertical-align: middle;\n",
       "    }\n",
       "\n",
       "    .dataframe tbody tr th {\n",
       "        vertical-align: top;\n",
       "    }\n",
       "\n",
       "    .dataframe thead th {\n",
       "        text-align: right;\n",
       "    }\n",
       "</style>\n",
       "<table border=\"1\" class=\"dataframe\">\n",
       "  <thead>\n",
       "    <tr style=\"text-align: right;\">\n",
       "      <th></th>\n",
       "      <th>index</th>\n",
       "      <th>date_crawled</th>\n",
       "      <th>price</th>\n",
       "      <th>vehicle_type</th>\n",
       "      <th>registration_year</th>\n",
       "      <th>gearbox</th>\n",
       "      <th>power</th>\n",
       "      <th>model</th>\n",
       "      <th>mileage</th>\n",
       "      <th>registration_month</th>\n",
       "      <th>fuel_type</th>\n",
       "      <th>brand</th>\n",
       "      <th>not_repaired</th>\n",
       "      <th>date_created</th>\n",
       "      <th>number_of_pictures</th>\n",
       "      <th>postal_code</th>\n",
       "      <th>last_seen</th>\n",
       "    </tr>\n",
       "  </thead>\n",
       "  <tbody>\n",
       "    <tr>\n",
       "      <th>2</th>\n",
       "      <td>2</td>\n",
       "      <td>2016-03-14 12:52:00</td>\n",
       "      <td>9800</td>\n",
       "      <td>suv</td>\n",
       "      <td>2004</td>\n",
       "      <td>auto</td>\n",
       "      <td>163</td>\n",
       "      <td>grand</td>\n",
       "      <td>125000</td>\n",
       "      <td>8</td>\n",
       "      <td>gasoline</td>\n",
       "      <td>jeep</td>\n",
       "      <td>other</td>\n",
       "      <td>2016-03-14</td>\n",
       "      <td>0</td>\n",
       "      <td>90480</td>\n",
       "      <td>2016-05-04 12:47:00</td>\n",
       "    </tr>\n",
       "    <tr>\n",
       "      <th>3</th>\n",
       "      <td>3</td>\n",
       "      <td>2016-03-17 16:54:00</td>\n",
       "      <td>1500</td>\n",
       "      <td>small</td>\n",
       "      <td>2001</td>\n",
       "      <td>manual</td>\n",
       "      <td>75</td>\n",
       "      <td>golf</td>\n",
       "      <td>150000</td>\n",
       "      <td>6</td>\n",
       "      <td>petrol</td>\n",
       "      <td>volkswagen</td>\n",
       "      <td>no</td>\n",
       "      <td>2016-03-17</td>\n",
       "      <td>0</td>\n",
       "      <td>91074</td>\n",
       "      <td>2016-03-17 17:40:00</td>\n",
       "    </tr>\n",
       "    <tr>\n",
       "      <th>4</th>\n",
       "      <td>4</td>\n",
       "      <td>2016-03-31 17:25:00</td>\n",
       "      <td>3600</td>\n",
       "      <td>small</td>\n",
       "      <td>2008</td>\n",
       "      <td>manual</td>\n",
       "      <td>69</td>\n",
       "      <td>fabia</td>\n",
       "      <td>90000</td>\n",
       "      <td>7</td>\n",
       "      <td>gasoline</td>\n",
       "      <td>skoda</td>\n",
       "      <td>no</td>\n",
       "      <td>2016-03-31</td>\n",
       "      <td>0</td>\n",
       "      <td>60437</td>\n",
       "      <td>2016-06-04 10:17:00</td>\n",
       "    </tr>\n",
       "    <tr>\n",
       "      <th>5</th>\n",
       "      <td>5</td>\n",
       "      <td>2016-04-04 17:36:00</td>\n",
       "      <td>650</td>\n",
       "      <td>sedan</td>\n",
       "      <td>1995</td>\n",
       "      <td>manual</td>\n",
       "      <td>102</td>\n",
       "      <td>3er</td>\n",
       "      <td>150000</td>\n",
       "      <td>10</td>\n",
       "      <td>petrol</td>\n",
       "      <td>bmw</td>\n",
       "      <td>yes</td>\n",
       "      <td>2016-04-04</td>\n",
       "      <td>0</td>\n",
       "      <td>33775</td>\n",
       "      <td>2016-06-04 19:17:00</td>\n",
       "    </tr>\n",
       "    <tr>\n",
       "      <th>6</th>\n",
       "      <td>6</td>\n",
       "      <td>2016-01-04 20:48:00</td>\n",
       "      <td>2200</td>\n",
       "      <td>convertible</td>\n",
       "      <td>2004</td>\n",
       "      <td>manual</td>\n",
       "      <td>109</td>\n",
       "      <td>2_reihe</td>\n",
       "      <td>150000</td>\n",
       "      <td>8</td>\n",
       "      <td>petrol</td>\n",
       "      <td>peugeot</td>\n",
       "      <td>no</td>\n",
       "      <td>2016-01-04</td>\n",
       "      <td>0</td>\n",
       "      <td>67112</td>\n",
       "      <td>2016-05-04 18:18:00</td>\n",
       "    </tr>\n",
       "  </tbody>\n",
       "</table>\n",
       "</div>"
      ],
      "text/plain": [
       "   index        date_crawled  price vehicle_type  registration_year gearbox  \\\n",
       "2      2 2016-03-14 12:52:00   9800          suv               2004    auto   \n",
       "3      3 2016-03-17 16:54:00   1500        small               2001  manual   \n",
       "4      4 2016-03-31 17:25:00   3600        small               2008  manual   \n",
       "5      5 2016-04-04 17:36:00    650        sedan               1995  manual   \n",
       "6      6 2016-01-04 20:48:00   2200  convertible               2004  manual   \n",
       "\n",
       "   power    model  mileage  registration_month fuel_type       brand  \\\n",
       "2    163    grand   125000                   8  gasoline        jeep   \n",
       "3     75     golf   150000                   6    petrol  volkswagen   \n",
       "4     69    fabia    90000                   7  gasoline       skoda   \n",
       "5    102      3er   150000                  10    petrol         bmw   \n",
       "6    109  2_reihe   150000                   8    petrol     peugeot   \n",
       "\n",
       "  not_repaired date_created  number_of_pictures  postal_code  \\\n",
       "2        other   2016-03-14                   0        90480   \n",
       "3           no   2016-03-17                   0        91074   \n",
       "4           no   2016-03-31                   0        60437   \n",
       "5          yes   2016-04-04                   0        33775   \n",
       "6           no   2016-01-04                   0        67112   \n",
       "\n",
       "            last_seen  \n",
       "2 2016-05-04 12:47:00  \n",
       "3 2016-03-17 17:40:00  \n",
       "4 2016-06-04 10:17:00  \n",
       "5 2016-06-04 19:17:00  \n",
       "6 2016-05-04 18:18:00  "
      ]
     },
     "metadata": {},
     "output_type": "display_data"
    }
   ],
   "source": [
    "display(df.head())"
   ]
  },
  {
   "cell_type": "markdown",
   "metadata": {},
   "source": [
    "# Model Training <a id='model_training'></a>"
   ]
  },
  {
   "cell_type": "markdown",
   "metadata": {},
   "source": [
    "Use the RMSE metric to evaluate the models.\n",
    "\n",
    "Linear regression is not very good for hyperparameter tuning, but it is perfect for doing a sanity check of other methods. If gradient boosting performs worse than linear regression, something definitely went wrong.\n",
    "\n",
    "On your own, work with the LightGBM library and use its tools to build gradient boosting models.\n",
    "\n",
    "Ideally, your project should include linear regression for a sanity check, a tree-based algorithm with hyperparameter tuning (preferably, random forrest), LightGBM with hyperparameter tuning (try a couple of sets), and CatBoost and XGBoost with hyperparameter tuning (optional).\n",
    "\n",
    "Take note of the encoding of categorical features for simple algorithms. LightGBM and CatBoost have their implementation, but XGBoost requires OHE.\n",
    "\n",
    "You can use a special command to find the cell code runtime in Jupyter Notebook. Find that command.\n",
    "\n",
    "Since the training of a gradient boosting model can take a long time, change only a few model parameters.\n",
    "\n",
    "\n",
    "Light GBM\n",
    "lin reg for sanity check\n",
    "dec tree hyperparameter\n",
    "random forest hyperparameter\n"
   ]
  },
  {
   "cell_type": "markdown",
   "metadata": {},
   "source": [
    "## Light GBM for gradient boosting models <a id='light_gbm'></a><a class=\"tocSkip\">"
   ]
  },
  {
   "cell_type": "code",
   "execution_count": 17,
   "metadata": {},
   "outputs": [
    {
     "name": "stdout",
     "output_type": "stream",
     "text": [
      "CPU times: user 2.67 s, sys: 16.3 ms, total: 2.68 s\n",
      "Wall time: 2.66 s\n",
      "LightGBM RMSE: 3534.00807025049\n"
     ]
    }
   ],
   "source": [
    "# Selecting specific columns for modeling\n",
    "selected_cols = ['vehicle_type', 'gearbox', 'model', 'fuel_type', 'brand', 'not_repaired', 'price']\n",
    "\n",
    "# Filtering the DataFrame to include only selected columns\n",
    "df_filtered = df[selected_cols].copy()  # Ensure to create a copy to avoid SettingWithCopyWarning\n",
    "\n",
    "# Handling categorical columns (example using Label Encoding)\n",
    "label_encoders = {}\n",
    "categorical_cols = ['vehicle_type', 'gearbox', 'model', 'fuel_type', 'brand', 'not_repaired']\n",
    "for col in categorical_cols:\n",
    "    label_encoders[col] = LabelEncoder()\n",
    "    df_filtered.loc[:, col] = label_encoders[col].fit_transform(df_filtered[col])\n",
    "\n",
    "# Splitting the data into features and target variable\n",
    "X = df_filtered.drop('price', axis=1)\n",
    "y = df_filtered['price']\n",
    "\n",
    "# Train-test split\n",
    "X_train, X_test, y_train, y_test = train_test_split(X, y, test_size=0.2, random_state=42)\n",
    "\n",
    "# Define LightGBM model\n",
    "lgbm = LGBMRegressor()\n",
    "\n",
    "# Measuring the execution time of model training\n",
    "%time lgbm.fit(X_train, y_train)\n",
    "\n",
    "# Predict on test set\n",
    "y_pred = lgbm.predict(X_test)\n",
    "\n",
    "# Evaluate the model using RMSE\n",
    "rmse = mean_squared_error(y_test, y_pred, squared=False)\n",
    "print(f'LightGBM RMSE: {rmse}')"
   ]
  },
  {
   "cell_type": "markdown",
   "metadata": {},
   "source": [
    "### Hyperparameter Tuning for Light GBM <a id='light_gbm_tuning'></a><a class=\"tocSkip\">"
   ]
  },
  {
   "cell_type": "code",
   "execution_count": 18,
   "metadata": {},
   "outputs": [
    {
     "name": "stdout",
     "output_type": "stream",
     "text": [
      "CPU times: user 4min 16s, sys: 1.39 s, total: 4min 18s\n",
      "Wall time: 4min 19s\n",
      "Best Parameters: {'learning_rate': 0.1, 'max_depth': 15, 'num_leaves': 100}\n",
      "LightGBM RMSE after tuning: 3463.7275971362\n"
     ]
    }
   ],
   "source": [
    "# Hyperparameter tuning using GridSearchCV\n",
    "param_grid = {\n",
    "    'num_leaves': [30, 50, 100],\n",
    "    'max_depth': [5, 10, 15],\n",
    "    'learning_rate': [0.01, 0.05, 0.1],\n",
    "    # Add more parameters to tune\n",
    "}\n",
    "\n",
    "lgbm = LGBMRegressor()\n",
    "grid_search = GridSearchCV(lgbm, param_grid, cv=3, scoring='neg_root_mean_squared_error')\n",
    "\n",
    "# Measuring the execution time of grid search\n",
    "%time grid_search.fit(X_train, y_train)\n",
    "\n",
    "# Get the best parameters\n",
    "best_params = grid_search.best_params_\n",
    "print(\"Best Parameters:\", best_params)\n",
    "\n",
    "# Predict on test set using the best model\n",
    "best_lgbm = grid_search.best_estimator_\n",
    "y_pred = best_lgbm.predict(X_test)\n",
    "\n",
    "# Evaluate the model using RMSE\n",
    "rmse = mean_squared_error(y_test, y_pred, squared=False)\n",
    "print(f'LightGBM RMSE after tuning: {rmse}')"
   ]
  },
  {
   "cell_type": "markdown",
   "metadata": {},
   "source": [
    "Hyperparameter tuning of the Light GBM model using `GridSearchCV` has a runtime of approximately 4 minutes and an RMSE 3464."
   ]
  },
  {
   "cell_type": "code",
   "execution_count": 19,
   "metadata": {},
   "outputs": [
    {
     "name": "stdout",
     "output_type": "stream",
     "text": [
      "CPU times: user 1min 35s, sys: 570 ms, total: 1min 36s\n",
      "Wall time: 1min 36s\n",
      "Best Parameters: {'num_leaves': 100, 'max_depth': 15, 'learning_rate': 0.05}\n",
      "LightGBM RMSE after tuning: 3504.3422921877477\n"
     ]
    }
   ],
   "source": [
    "# Define the parameter distributions for LightGBM\n",
    "param_dist = {\n",
    "    'num_leaves': [30, 50, 100],\n",
    "    'max_depth': [5, 10, 15],\n",
    "    'learning_rate': [0.01, 0.05, 0.1],\n",
    "    # Add more parameters to tune\n",
    "}\n",
    "\n",
    "# Create the LightGBM regressor\n",
    "lgbm = LGBMRegressor()\n",
    "\n",
    "# Using RandomizedSearchCV for hyperparameter tuning\n",
    "random_search = RandomizedSearchCV(lgbm, param_distributions=param_dist, n_iter=10, cv=3,\n",
    "                                   scoring='neg_root_mean_squared_error', random_state=42)\n",
    "\n",
    "# Measuring the execution time of random search\n",
    "%time random_search.fit(X_train, y_train)\n",
    "\n",
    "# Get the best parameters and best estimator\n",
    "best_params = random_search.best_params_\n",
    "print(\"Best Parameters:\", best_params)\n",
    "\n",
    "# Predicting on test set using the best model\n",
    "best_lgbm = random_search.best_estimator_\n",
    "y_pred = best_lgbm.predict(X_test)\n",
    "\n",
    "# Evaluate the model using RMSE\n",
    "rmse = mean_squared_error(y_test, y_pred, squared=False)\n",
    "print(f'LightGBM RMSE after tuning: {rmse}')"
   ]
  },
  {
   "cell_type": "markdown",
   "metadata": {},
   "source": [
    "Hyperparameter tuning of the Light GBM model using `RandomizedSearchCV` has a runtime of approximately 1.5 minutes and an RMSE 3504."
   ]
  },
  {
   "cell_type": "markdown",
   "metadata": {},
   "source": [
    "## Linear Regression <a id='linear_regression'></a><a class=\"tocSkip\">"
   ]
  },
  {
   "cell_type": "code",
   "execution_count": 20,
   "metadata": {},
   "outputs": [
    {
     "name": "stdout",
     "output_type": "stream",
     "text": [
      "CPU times: user 27.4 ms, sys: 8.02 ms, total: 35.4 ms\n",
      "Wall time: 28.1 ms\n",
      "Linear Regression RMSE: 4129.996467828162\n"
     ]
    }
   ],
   "source": [
    "# Splitting the data into training and testing sets\n",
    "X_train, X_test, y_train, y_test = train_test_split(X, y, test_size=0.2, random_state=42)\n",
    "\n",
    "# Creating a Linear Regression model\n",
    "linear_model = LinearRegression()\n",
    "\n",
    "# Measuring the execution time of model training\n",
    "%time linear_model.fit(X_train, y_train)\n",
    "\n",
    "# Predicting on the test set\n",
    "y_pred = linear_model.predict(X_test)\n",
    "\n",
    "# Calculating RMSE\n",
    "rmse = mean_squared_error(y_test, y_pred, squared=False)\n",
    "print(f'Linear Regression RMSE: {rmse}')"
   ]
  },
  {
   "cell_type": "markdown",
   "metadata": {},
   "source": [
    "Using linear regression as a sanity check, we see that the RMSE is indeed higher than from the Light GBM, indicating that Light GBM performed better, as expected.  If gradient boosting had performed worse than linear regression, something definitely went wrong."
   ]
  },
  {
   "cell_type": "markdown",
   "metadata": {},
   "source": [
    "## Decision Tree <a id='decision_tree'></a><a class=\"tocSkip\">"
   ]
  },
  {
   "cell_type": "code",
   "execution_count": 21,
   "metadata": {},
   "outputs": [
    {
     "name": "stdout",
     "output_type": "stream",
     "text": [
      "CPU times: user 13.9 s, sys: 7.78 ms, total: 13.9 s\n",
      "Wall time: 14 s\n",
      "Best Parameters: {'max_depth': 15, 'min_samples_leaf': 2, 'min_samples_split': 5}\n",
      "Decision Tree RMSE after tuning: 3495.7158466752003\n"
     ]
    }
   ],
   "source": [
    "# Splitting the data into training and testing sets\n",
    "X_train, X_test, y_train, y_test = train_test_split(X, y, test_size=0.2, random_state=42)\n",
    "\n",
    "# Defining the parameter grid for Decision Tree\n",
    "param_grid = {\n",
    "    'max_depth': [5, 10, 15],\n",
    "    'min_samples_split': [2, 5, 10],\n",
    "    'min_samples_leaf': [1, 2, 4],\n",
    "    # Add more parameters to tune\n",
    "}\n",
    "\n",
    "# Creating the Decision Tree regressor\n",
    "dt = DecisionTreeRegressor()\n",
    "\n",
    "# Using GridSearchCV for hyperparameter tuning\n",
    "grid_search = GridSearchCV(dt, param_grid, cv=3, scoring='neg_root_mean_squared_error')\n",
    "\n",
    "# Measuring the execution time of grid search\n",
    "%time grid_search.fit(X_train, y_train)\n",
    "\n",
    "# Get the best parameters\n",
    "best_params = grid_search.best_params_\n",
    "print(\"Best Parameters:\", best_params)\n",
    "\n",
    "# Predicting on test set using the best model\n",
    "best_dt = grid_search.best_estimator_\n",
    "y_pred = best_dt.predict(X_test)\n",
    "\n",
    "# Evaluate the model using RMSE\n",
    "rmse = mean_squared_error(y_test, y_pred, squared=False)\n",
    "print(f'Decision Tree RMSE after tuning: {rmse}')"
   ]
  },
  {
   "cell_type": "markdown",
   "metadata": {},
   "source": [
    "### Hyperparameter Tuning for Decision Tree <a id='decision_tree_tuning'></a><a class=\"tocSkip\">"
   ]
  },
  {
   "cell_type": "code",
   "execution_count": 22,
   "metadata": {},
   "outputs": [
    {
     "name": "stdout",
     "output_type": "stream",
     "text": [
      "CPU times: user 14.1 s, sys: 11.8 ms, total: 14.1 s\n",
      "Wall time: 14.2 s\n",
      "Decision Tree RMSE after tuning: 3495.6530514895844\n"
     ]
    }
   ],
   "source": [
    "# Splitting the data into training and testing sets\n",
    "X_train, X_test, y_train, y_test = train_test_split(X, y, test_size=0.2, random_state=42)\n",
    "\n",
    "# Defining the parameter grid for Decision Tree\n",
    "param_grid = {\n",
    "    'max_depth': [5, 10, 15],\n",
    "    'min_samples_split': [2, 5, 10],\n",
    "    'min_samples_leaf': [1, 2, 4],\n",
    "    # Add more parameters to tune\n",
    "}\n",
    "\n",
    "# Creating the Decision Tree regressor\n",
    "dt = DecisionTreeRegressor()\n",
    "\n",
    "# Using GridSearchCV for hyperparameter tuning\n",
    "grid_search = GridSearchCV(dt, param_grid, cv=3, scoring='neg_root_mean_squared_error')\n",
    "\n",
    "# Measuring the execution time of grid search\n",
    "%time grid_search.fit(X_train, y_train)\n",
    "\n",
    "# Get the best parameters and best estimator\n",
    "best_params = grid_search.best_params_\n",
    "best_dt = grid_search.best_estimator_\n",
    "\n",
    "# Predicting on the test set using the best model\n",
    "y_pred = best_dt.predict(X_test)\n",
    "\n",
    "# Calculate RMSE\n",
    "rmse = mean_squared_error(y_test, y_pred, squared=False)\n",
    "print(f'Decision Tree RMSE after tuning: {rmse}')"
   ]
  },
  {
   "cell_type": "markdown",
   "metadata": {},
   "source": [
    "The Decision Tree model shows similar RMSE values both with and without hyperparameter tuning."
   ]
  },
  {
   "cell_type": "markdown",
   "metadata": {},
   "source": [
    "## Random  Forest <a id='random_forest'></a><a class=\"tocSkip\">"
   ]
  },
  {
   "cell_type": "code",
   "execution_count": 23,
   "metadata": {},
   "outputs": [
    {
     "name": "stdout",
     "output_type": "stream",
     "text": [
      "CPU times: user 11min 11s, sys: 460 ms, total: 11min 11s\n",
      "Wall time: 11min 12s\n",
      "Best Parameters: {'max_depth': 15, 'n_estimators': 300}\n",
      "Random Forest RMSE after tuning: 3462.8338321245383\n"
     ]
    }
   ],
   "source": [
    "# Splitting the data into training and testing sets\n",
    "X_train, X_test, y_train, y_test = train_test_split(X, y, test_size=0.2, random_state=42)\n",
    "\n",
    "# Defining the parameter grid for Random Forest\n",
    "param_grid = {\n",
    "    'n_estimators': [100, 200, 300],\n",
    "    'max_depth': [5, 10, 15],\n",
    "    # Add more parameters to tune\n",
    "}\n",
    "\n",
    "# Creating the Random Forest regressor\n",
    "rf = RandomForestRegressor()\n",
    "\n",
    "# Using GridSearchCV for hyperparameter tuning\n",
    "grid_search = GridSearchCV(rf, param_grid, cv=3, scoring='neg_root_mean_squared_error')\n",
    "\n",
    "# Measuring the execution time of grid search\n",
    "%time grid_search.fit(X_train, y_train)\n",
    "\n",
    "# Get the best parameters\n",
    "best_params = grid_search.best_params_\n",
    "print(\"Best Parameters:\", best_params)\n",
    "\n",
    "# Predicting on test set using the best model\n",
    "best_rf = grid_search.best_estimator_\n",
    "y_pred = best_rf.predict(X_test)\n",
    "\n",
    "# Evaluate the model using RMSE\n",
    "rmse = mean_squared_error(y_test, y_pred, squared=False)\n",
    "print(f'Random Forest RMSE after tuning: {rmse}')"
   ]
  },
  {
   "cell_type": "markdown",
   "metadata": {},
   "source": [
    "### Hyperparameter for Random Forest <a id='random_forest_tuning'></a><a class=\"tocSkip\">"
   ]
  },
  {
   "cell_type": "code",
   "execution_count": 24,
   "metadata": {},
   "outputs": [
    {
     "name": "stdout",
     "output_type": "stream",
     "text": [
      "CPU times: user 9min 1s, sys: 403 ms, total: 9min 2s\n",
      "Wall time: 9min 2s\n",
      "Random Forest RMSE after tuning: 3463.5662875368857\n"
     ]
    }
   ],
   "source": [
    "# Splitting the data into training and testing sets\n",
    "X_train, X_test, y_train, y_test = train_test_split(X, y, test_size=0.2, random_state=42)\n",
    "\n",
    "# Defining the parameter distributions for Random Forest\n",
    "param_dist = {\n",
    "    'n_estimators': [100, 200, 300],\n",
    "    'max_depth': [5, 10, 15],\n",
    "    'min_samples_split': [2, 5, 10],\n",
    "    'min_samples_leaf': [1, 2, 4],\n",
    "    # Add more parameters to tune\n",
    "}\n",
    "\n",
    "# Creating the Random Forest regressor\n",
    "rf = RandomForestRegressor()\n",
    "\n",
    "# Using RandomizedSearchCV for hyperparameter tuning\n",
    "random_search = RandomizedSearchCV(rf, param_distributions=param_dist, n_iter=10, cv=3,\n",
    "                                   scoring='neg_root_mean_squared_error', random_state=42)\n",
    "\n",
    "# Fitting the randomized search to find the best model\n",
    "%time random_search.fit(X_train, y_train)\n",
    "\n",
    "# Get the best parameters and best estimator\n",
    "best_params = random_search.best_params_\n",
    "best_rf = random_search.best_estimator_\n",
    "\n",
    "# Predicting on the test set using the best model\n",
    "y_pred = best_rf.predict(X_test)\n",
    "\n",
    "# Calculate RMSE\n",
    "rmse = mean_squared_error(y_test, y_pred, squared=False)\n",
    "print(f'Random Forest RMSE after tuning: {rmse}')"
   ]
  },
  {
   "cell_type": "markdown",
   "metadata": {},
   "source": [
    "Hyperparameter tuning was originally done using `GridSearchCV`, but the cell never completed the execution due to the extremely long runtime. To reduce the runtime, `RandomizedSearchCV` was used instead. The Random Forest model shows similar RMSE values both with and without hyperparameter tuning."
   ]
  },
  {
   "cell_type": "markdown",
   "metadata": {},
   "source": [
    "# Model analysis <a id='model_analysis'></a><a class=\"tocSkip\">"
   ]
  },
  {
   "cell_type": "markdown",
   "metadata": {},
   "source": [
    "When comparing different models using RMSE (Root Mean Squared Error), lower values indicate better performance. Lower RMSE means the model's predictions are closer to the actual values, implying better accuracy and less deviation from the true values. Therefore, among different models, you'd prefer the one with the lowest RMSE as it signifies better predictive performance.\n",
    "\n",
    "The LightGBM model has a runtime of about 3 seconds and an RMSE of 3534. One set with hyperparameter tuning using `GridSearchCV` has a runtime of 4 minutes with RMSE of 3463, while another set using `RandomizedSearchCV` has a runtime of 1 minute and and RMSE of 3504.\n",
    "\n",
    "As a sanity check, Linear Regression was also used, and resulted in a runtime of about 30 seconds and RMSE of 4129, which is higher than from the Light GBM, indicating that Light GBM performed better, as expected. If gradient boosting had performed worse than linear regression, something definitely went wrong.\n",
    "\n",
    "To compare LightGBM with other models, Decision Tree and Randomized forest was alo used for comparison. For the Decision Tree model, the runtime was about 14 seconds with an RMSE of 3496. With hyperparameter tuning, the same runtime of 14 seconds and similar RMSE of 3497.\n",
    "\n",
    "The Randomized Forest model overall had the longest runtimes, as expected, with a runtime of 11 minutes and an RMSE of 3463. With hyperparameter tuning, the runtime was 9 minutes and had an RMSE of 3463.\n",
    "\n",
    "Both the Decision Tree model and Random Forest model achieved similar RMSE values, but with the longer runtimes for the Random Forest models, Decision Tree would be preferred. When comparing Decision Tree with LightGBM models, LightGBM achieved the best RMSE overall with the hyperparameter tuning with `GridSearchCV`, but with a runtime of a few minutes whereas the Decision Tree model achieved a slightly higher RMSE, but with the runtime of only a few seconds."
   ]
  },
  {
   "cell_type": "markdown",
   "metadata": {},
   "source": [
    "# Conclusion <a id='conclusion'></a><a class=\"tocSkip\">"
   ]
  },
  {
   "cell_type": "markdown",
   "metadata": {},
   "source": [
    "Based on the model analysis, when taking into account Rusty Bargain's interests in the quality of the prediction, the speed of the prediction, and the time required for training, both the LightGBM and Decision Tree models proved as viable options to be used, depending on if Rusty Bargain prefers more emphasis on time over accuracy. Both models, with hyperparameter tuning, achieved similar RMSE values, though Light GBM was slightly better, and both had relatively short runtimes, with LightGBM being a few minutes whereas Decision Tree was a few seconds. However, since the purpose of the model is for development of Rusty Bargain's app in predicting car market values, with the Decsision Tree models runtime of a few seconds, it would appear to be the optimal model to be used for an app."
   ]
  }
 ],
 "metadata": {
  "kernelspec": {
   "display_name": "Python 3 (ipykernel)",
   "language": "python",
   "name": "python3"
  },
  "language_info": {
   "codemirror_mode": {
    "name": "ipython",
    "version": 3
   },
   "file_extension": ".py",
   "mimetype": "text/x-python",
   "name": "python",
   "nbconvert_exporter": "python",
   "pygments_lexer": "ipython3",
   "version": "3.9.19"
  },
  "toc": {
   "base_numbering": 1,
   "nav_menu": {},
   "number_sections": true,
   "sideBar": true,
   "skip_h1_title": true,
   "title_cell": "Table of Contents",
   "title_sidebar": "Contents",
   "toc_cell": false,
   "toc_position": {},
   "toc_section_display": true,
   "toc_window_display": false
  }
 },
 "nbformat": 4,
 "nbformat_minor": 2
}
