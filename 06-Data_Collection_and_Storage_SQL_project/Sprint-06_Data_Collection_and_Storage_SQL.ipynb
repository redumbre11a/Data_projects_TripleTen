{
 "cells": [
  {
   "cell_type": "markdown",
   "metadata": {},
   "source": [
    "# Ride-sharing Data Analysis for Zuber Launch"
   ]
  },
  {
   "cell_type": "markdown",
   "metadata": {},
   "source": [
    "# Contents <a id='back'></a>\n",
    "\n",
    "* [Introduction](#introduction)\n",
    "* [Data Overview](#data_overview)\n",
    "    * [Initialization](#initialization)\n",
    "    * [Load Data](load_data)\n",
    "* [Prepare the Data](#prepare_data)\n",
    "    * [Viewing the Data](#view_data)\n",
    "    * [Fix Data](#fix_data)\n",
    "* [Analyze the Data](#analyze_data) \n",
    "* [Test statistical hypothesis](#hypothesis)\n",
    "    * [Hypothesis](#hypothesis_one)\n",
    "* [Conclusion](#conclusion)"
   ]
  },
  {
   "cell_type": "markdown",
   "metadata": {},
   "source": [
    "# Introduction <a id='introduction'></a>\n",
    "\n",
    "You're working as an analyst for Zuber, a new ride-sharing company that's launching in Chicago. Your task is to find patterns in the available information. You want to understand passenger preferences and the impact of external factors on rides.\n",
    "Working with a database, the data from competitors will be analyzed and hypothesis test about the impact of weather on ride frequency.\n",
    "\n",
    "To begin the project, data on weather in Chicago in November 2017 was parsed from [https://practicum-content.s3.us-west-1.amazonaws.com/data-analyst-eng/moved_chicago_weather_2017.html]. Afterwards, exploratory data analysis was done on a database containing info on taxi rides in Chicago to use the available data to show a table containing information on rides from the Loop to O'Hare International Airport. The results from that query will be used to test the hypothesis about the impact of weather on ride frequency.\n",
    "    \n",
    "[Back to Contents](#back)"
   ]
  },
  {
   "cell_type": "markdown",
   "metadata": {},
   "source": [
    "# Data Overview <a id='data_overview'></a>"
   ]
  },
  {
   "cell_type": "markdown",
   "metadata": {},
   "source": [
    "## Initialization <a id='initialization'><a class=\"tocSkip\">"
   ]
  },
  {
   "cell_type": "code",
   "execution_count": 1,
   "metadata": {},
   "outputs": [],
   "source": [
    "# Loading all the libraries\n",
    "import pandas as pd\n",
    "from matplotlib import pyplot as plt\n",
    "from scipy import stats as st"
   ]
  },
  {
   "cell_type": "markdown",
   "metadata": {},
   "source": [
    "## Load Data <a id='load_data'></a> <a class=\"tocSkip\">"
   ]
  },
  {
   "cell_type": "code",
   "execution_count": 2,
   "metadata": {},
   "outputs": [],
   "source": [
    "# Load the data file into DataFrames\n",
    "df_01 = pd.read_csv('/datasets/project_sql_result_01.csv')\n",
    "df_04 = pd.read_csv('/datasets/project_sql_result_04.csv')"
   ]
  },
  {
   "cell_type": "markdown",
   "metadata": {},
   "source": [
    "# Prepare the data <a id='prepare_data'></a>"
   ]
  },
  {
   "cell_type": "markdown",
   "metadata": {},
   "source": [
    "## Viewing the data <a id='view_data'></a> <a class=\"tocSkip\">"
   ]
  },
  {
   "cell_type": "code",
   "execution_count": 3,
   "metadata": {},
   "outputs": [
    {
     "name": "stdout",
     "output_type": "stream",
     "text": [
      "<class 'pandas.core.frame.DataFrame'>\n",
      "RangeIndex: 64 entries, 0 to 63\n",
      "Data columns (total 2 columns):\n",
      " #   Column        Non-Null Count  Dtype \n",
      "---  ------        --------------  ----- \n",
      " 0   company_name  64 non-null     object\n",
      " 1   trips_amount  64 non-null     int64 \n",
      "dtypes: int64(1), object(1)\n",
      "memory usage: 1.1+ KB\n",
      "\n",
      "<class 'pandas.core.frame.DataFrame'>\n",
      "RangeIndex: 94 entries, 0 to 93\n",
      "Data columns (total 2 columns):\n",
      " #   Column                 Non-Null Count  Dtype  \n",
      "---  ------                 --------------  -----  \n",
      " 0   dropoff_location_name  94 non-null     object \n",
      " 1   average_trips          94 non-null     float64\n",
      "dtypes: float64(1), object(1)\n",
      "memory usage: 1.6+ KB\n"
     ]
    }
   ],
   "source": [
    "# Print the general/summary information about the DataFrames\n",
    "df_01.info()\n",
    "print()\n",
    "df_04.info()"
   ]
  },
  {
   "cell_type": "code",
   "execution_count": 4,
   "metadata": {},
   "outputs": [
    {
     "data": {
      "text/html": [
       "<div>\n",
       "<style scoped>\n",
       "    .dataframe tbody tr th:only-of-type {\n",
       "        vertical-align: middle;\n",
       "    }\n",
       "\n",
       "    .dataframe tbody tr th {\n",
       "        vertical-align: top;\n",
       "    }\n",
       "\n",
       "    .dataframe thead th {\n",
       "        text-align: right;\n",
       "    }\n",
       "</style>\n",
       "<table border=\"1\" class=\"dataframe\">\n",
       "  <thead>\n",
       "    <tr style=\"text-align: right;\">\n",
       "      <th></th>\n",
       "      <th>company_name</th>\n",
       "      <th>trips_amount</th>\n",
       "    </tr>\n",
       "  </thead>\n",
       "  <tbody>\n",
       "    <tr>\n",
       "      <th>0</th>\n",
       "      <td>Flash Cab</td>\n",
       "      <td>19558</td>\n",
       "    </tr>\n",
       "    <tr>\n",
       "      <th>1</th>\n",
       "      <td>Taxi Affiliation Services</td>\n",
       "      <td>11422</td>\n",
       "    </tr>\n",
       "    <tr>\n",
       "      <th>2</th>\n",
       "      <td>Medallion Leasing</td>\n",
       "      <td>10367</td>\n",
       "    </tr>\n",
       "    <tr>\n",
       "      <th>3</th>\n",
       "      <td>Yellow Cab</td>\n",
       "      <td>9888</td>\n",
       "    </tr>\n",
       "    <tr>\n",
       "      <th>4</th>\n",
       "      <td>Taxi Affiliation Service Yellow</td>\n",
       "      <td>9299</td>\n",
       "    </tr>\n",
       "    <tr>\n",
       "      <th>...</th>\n",
       "      <td>...</td>\n",
       "      <td>...</td>\n",
       "    </tr>\n",
       "    <tr>\n",
       "      <th>59</th>\n",
       "      <td>4053 - 40193 Adwar H. Nikola</td>\n",
       "      <td>7</td>\n",
       "    </tr>\n",
       "    <tr>\n",
       "      <th>60</th>\n",
       "      <td>2733 - 74600 Benny Jona</td>\n",
       "      <td>7</td>\n",
       "    </tr>\n",
       "    <tr>\n",
       "      <th>61</th>\n",
       "      <td>5874 - 73628 Sergey Cab Corp.</td>\n",
       "      <td>5</td>\n",
       "    </tr>\n",
       "    <tr>\n",
       "      <th>62</th>\n",
       "      <td>2241 - 44667 - Felman Corp</td>\n",
       "      <td>3</td>\n",
       "    </tr>\n",
       "    <tr>\n",
       "      <th>63</th>\n",
       "      <td>3556 - 36214 RC Andrews Cab</td>\n",
       "      <td>2</td>\n",
       "    </tr>\n",
       "  </tbody>\n",
       "</table>\n",
       "<p>64 rows × 2 columns</p>\n",
       "</div>"
      ],
      "text/plain": [
       "                       company_name  trips_amount\n",
       "0                         Flash Cab         19558\n",
       "1         Taxi Affiliation Services         11422\n",
       "2                 Medallion Leasing         10367\n",
       "3                        Yellow Cab          9888\n",
       "4   Taxi Affiliation Service Yellow          9299\n",
       "..                              ...           ...\n",
       "59     4053 - 40193 Adwar H. Nikola             7\n",
       "60          2733 - 74600 Benny Jona             7\n",
       "61    5874 - 73628 Sergey Cab Corp.             5\n",
       "62       2241 - 44667 - Felman Corp             3\n",
       "63      3556 - 36214 RC Andrews Cab             2\n",
       "\n",
       "[64 rows x 2 columns]"
      ]
     },
     "metadata": {},
     "output_type": "display_data"
    },
    {
     "name": "stdout",
     "output_type": "stream",
     "text": [
      "\n"
     ]
    },
    {
     "data": {
      "text/html": [
       "<div>\n",
       "<style scoped>\n",
       "    .dataframe tbody tr th:only-of-type {\n",
       "        vertical-align: middle;\n",
       "    }\n",
       "\n",
       "    .dataframe tbody tr th {\n",
       "        vertical-align: top;\n",
       "    }\n",
       "\n",
       "    .dataframe thead th {\n",
       "        text-align: right;\n",
       "    }\n",
       "</style>\n",
       "<table border=\"1\" class=\"dataframe\">\n",
       "  <thead>\n",
       "    <tr style=\"text-align: right;\">\n",
       "      <th></th>\n",
       "      <th>dropoff_location_name</th>\n",
       "      <th>average_trips</th>\n",
       "    </tr>\n",
       "  </thead>\n",
       "  <tbody>\n",
       "    <tr>\n",
       "      <th>0</th>\n",
       "      <td>Loop</td>\n",
       "      <td>10727.466667</td>\n",
       "    </tr>\n",
       "    <tr>\n",
       "      <th>1</th>\n",
       "      <td>River North</td>\n",
       "      <td>9523.666667</td>\n",
       "    </tr>\n",
       "    <tr>\n",
       "      <th>2</th>\n",
       "      <td>Streeterville</td>\n",
       "      <td>6664.666667</td>\n",
       "    </tr>\n",
       "    <tr>\n",
       "      <th>3</th>\n",
       "      <td>West Loop</td>\n",
       "      <td>5163.666667</td>\n",
       "    </tr>\n",
       "    <tr>\n",
       "      <th>4</th>\n",
       "      <td>O'Hare</td>\n",
       "      <td>2546.900000</td>\n",
       "    </tr>\n",
       "    <tr>\n",
       "      <th>...</th>\n",
       "      <td>...</td>\n",
       "      <td>...</td>\n",
       "    </tr>\n",
       "    <tr>\n",
       "      <th>89</th>\n",
       "      <td>Mount Greenwood</td>\n",
       "      <td>3.137931</td>\n",
       "    </tr>\n",
       "    <tr>\n",
       "      <th>90</th>\n",
       "      <td>Hegewisch</td>\n",
       "      <td>3.117647</td>\n",
       "    </tr>\n",
       "    <tr>\n",
       "      <th>91</th>\n",
       "      <td>Burnside</td>\n",
       "      <td>2.333333</td>\n",
       "    </tr>\n",
       "    <tr>\n",
       "      <th>92</th>\n",
       "      <td>East Side</td>\n",
       "      <td>1.961538</td>\n",
       "    </tr>\n",
       "    <tr>\n",
       "      <th>93</th>\n",
       "      <td>Riverdale</td>\n",
       "      <td>1.800000</td>\n",
       "    </tr>\n",
       "  </tbody>\n",
       "</table>\n",
       "<p>94 rows × 2 columns</p>\n",
       "</div>"
      ],
      "text/plain": [
       "   dropoff_location_name  average_trips\n",
       "0                   Loop   10727.466667\n",
       "1            River North    9523.666667\n",
       "2          Streeterville    6664.666667\n",
       "3              West Loop    5163.666667\n",
       "4                 O'Hare    2546.900000\n",
       "..                   ...            ...\n",
       "89       Mount Greenwood       3.137931\n",
       "90             Hegewisch       3.117647\n",
       "91              Burnside       2.333333\n",
       "92             East Side       1.961538\n",
       "93             Riverdale       1.800000\n",
       "\n",
       "[94 rows x 2 columns]"
      ]
     },
     "metadata": {},
     "output_type": "display_data"
    }
   ],
   "source": [
    "# Print a sample of data for the dataframes\n",
    "display(df_01)\n",
    "print()\n",
    "display(df_04)"
   ]
  },
  {
   "cell_type": "markdown",
   "metadata": {},
   "source": [
    "## Fix data <a id='fix_data'></a> <a class=\"tocSkip\">"
   ]
  },
  {
   "cell_type": "code",
   "execution_count": 5,
   "metadata": {},
   "outputs": [
    {
     "name": "stdout",
     "output_type": "stream",
     "text": [
      "0\n",
      "0\n",
      "\n",
      "0\n",
      "0\n",
      "\n",
      "['0118 - 42111 Godfrey S. Awir', '1085 - 72312 N and W Cab Co', '1469 - 64126 Omar Jada', '2092 - 61288 Sbeih Company', '2192 - 73487 Zeymane Corp', '2241 - 44667 - Felman Corp', '24 Seven Taxi', '2733 - 74600 Benny Jona', '2809 - 95474 C & D Cab Co Inc.', '2823 - 73307 Lee Express Inc', '3011 - 66308 JBL Cab Inc.', '303 Taxi', '3556 - 36214 RC Andrews Cab', '3591 - 63480 Chuks Cab', '3620 - 52292 David K. Cab Corp.', '3623 - 72222 Arrington Enterprises', '3721 - Santamaria Express', '4053 - 40193 Adwar H. Nikola', '4615 - 83503 Tyrone Henderson', '4623 - 27290 Jay Kim', '5 Star Taxi', '5006 - 39261 Salifu Bawa', '5062 - 34841 Sam Mestas', '5074 - 54002 Ahzmi Inc', '5874 - 73628 Sergey Cab Corp.', '5997 - 65283 AW Services Inc.', '6057 - 24657 Richard Addo', '6574 - Babylon Express Inc.', '6742 - 83735 Tasha Ride Inc', '6743 - 78771 Luhak Corp', 'American United', 'American United Taxi Affiliation', 'Blue Diamond', 'Blue Ribbon Taxi Association Inc.', 'Checker Taxi', 'Checker Taxi Affiliation', 'Chicago Carriage Cab Corp', 'Chicago Independents', 'Chicago Medallion Leasing INC', 'Chicago Medallion Management', 'Chicago Star Taxicab', 'Chicago Taxicab', 'Choice Taxi Association', 'City Service', 'Dispatch Taxi Affiliation', 'Flash Cab', 'Globe Taxi', 'Gold Coast Taxi', 'KOAM Taxi Association', 'Leonard Cab Co', 'Medallion Leasing', 'Metro Group', 'Metro Jet Taxi A', 'Norshore Cab', 'Nova Taxi Affiliation Llc', 'Patriot Taxi Dba Peace Taxi Association', 'Service Taxi Association', 'Setare Inc', 'Star North Management LLC', 'Sun Taxi', 'Taxi Affiliation Service Yellow', 'Taxi Affiliation Services', 'Top Cab Affiliation', 'Yellow Cab']\n",
      "\n",
      "['Albany Park', 'Andersonville', 'Archer Heights', 'Armour Square', 'Ashburn', 'Auburn Gresham', 'Austin', 'Avalon Park', 'Avondale', 'Belmont Cragin', 'Beverly', 'Boystown', 'Bridgeport', 'Brighton Park', 'Bucktown', 'Burnside', 'Calumet Heights', 'Chatham', 'Chicago Lawn', 'Chinatown', 'Clearing', 'Douglas', 'Dunning', 'East Side', 'East Village', 'Edgewater', 'Edison Park', 'Englewood', 'Fuller Park', 'Gage Park', 'Garfield Park', 'Garfield Ridge', 'Gold Coast', 'Grand Boulevard', 'Grand Crossing', 'Grant Park', 'Hegewisch', 'Hermosa', 'Humboldt Park', 'Hyde Park', 'Irving Park', 'Jackson Park', 'Jefferson Park', 'Kenwood', 'Lake View', 'Lincoln Park', 'Lincoln Square', 'Little Italy, UIC', 'Little Village', 'Logan Square', 'Loop', 'Lower West Side', 'Mckinley Park', 'Montclare', 'Morgan Park', 'Mount Greenwood', 'Museum Campus', 'Near South Side', 'New City', 'North Center', 'North Lawndale', 'North Park', 'Norwood Park', \"O'Hare\", 'Oakland', 'Old Town', 'Portage Park', 'Pullman', 'River North', 'Riverdale', 'Rogers Park', 'Roseland', 'Rush & Division', 'Sauganash,Forest Glen', 'Sheffield & DePaul', 'South Chicago', 'South Deering', 'South Shore', 'Streeterville', 'Ukrainian Village', 'Undef', 'United Center', 'Uptown', 'Washington Heights', 'Washington Park', 'West Elsdon', 'West Lawn', 'West Loop', 'West Pullman', 'West Ridge', 'West Town', 'Wicker Park', 'Woodlawn', 'Wrigleyville']\n"
     ]
    }
   ],
   "source": [
    "# checking for duplicated rows\n",
    "print(df_01.duplicated().sum())\n",
    "print(df_04.duplicated().sum())\n",
    "print()\n",
    "\n",
    "# checking for duplicates in first column of respective dataframes\n",
    "print(df_01.duplicated(subset='company_name').sum())\n",
    "print(df_04.duplicated(subset='dropoff_location_name').sum())\n",
    "print()\n",
    "\n",
    "# checking for implicit duplicates\n",
    "sorted_df_01 = sorted(df_01['company_name'].unique())\n",
    "print(sorted_df_01)\n",
    "print()\n",
    "\n",
    "sorted_df_04 = sorted(df_04['dropoff_location_name'].unique())\n",
    "print(sorted_df_04)"
   ]
  },
  {
   "cell_type": "markdown",
   "metadata": {},
   "source": [
    "Based on the data preprocessing, there are no missing values or duplicates. Datatypes can also remain as is, and there is no improper formatting with heading titles."
   ]
  },
  {
   "cell_type": "markdown",
   "metadata": {},
   "source": [
    "# Analyze the data <a id='analyze_data'></a>"
   ]
  },
  {
   "cell_type": "code",
   "execution_count": 6,
   "metadata": {},
   "outputs": [
    {
     "data": {
      "text/html": [
       "<div>\n",
       "<style scoped>\n",
       "    .dataframe tbody tr th:only-of-type {\n",
       "        vertical-align: middle;\n",
       "    }\n",
       "\n",
       "    .dataframe tbody tr th {\n",
       "        vertical-align: top;\n",
       "    }\n",
       "\n",
       "    .dataframe thead th {\n",
       "        text-align: right;\n",
       "    }\n",
       "</style>\n",
       "<table border=\"1\" class=\"dataframe\">\n",
       "  <thead>\n",
       "    <tr style=\"text-align: right;\">\n",
       "      <th></th>\n",
       "      <th>dropoff_location_name</th>\n",
       "      <th>average_trips</th>\n",
       "    </tr>\n",
       "  </thead>\n",
       "  <tbody>\n",
       "    <tr>\n",
       "      <th>0</th>\n",
       "      <td>Loop</td>\n",
       "      <td>10727.466667</td>\n",
       "    </tr>\n",
       "    <tr>\n",
       "      <th>1</th>\n",
       "      <td>River North</td>\n",
       "      <td>9523.666667</td>\n",
       "    </tr>\n",
       "    <tr>\n",
       "      <th>2</th>\n",
       "      <td>Streeterville</td>\n",
       "      <td>6664.666667</td>\n",
       "    </tr>\n",
       "    <tr>\n",
       "      <th>3</th>\n",
       "      <td>West Loop</td>\n",
       "      <td>5163.666667</td>\n",
       "    </tr>\n",
       "    <tr>\n",
       "      <th>4</th>\n",
       "      <td>O'Hare</td>\n",
       "      <td>2546.900000</td>\n",
       "    </tr>\n",
       "    <tr>\n",
       "      <th>5</th>\n",
       "      <td>Lake View</td>\n",
       "      <td>2420.966667</td>\n",
       "    </tr>\n",
       "    <tr>\n",
       "      <th>6</th>\n",
       "      <td>Grant Park</td>\n",
       "      <td>2068.533333</td>\n",
       "    </tr>\n",
       "    <tr>\n",
       "      <th>7</th>\n",
       "      <td>Museum Campus</td>\n",
       "      <td>1510.000000</td>\n",
       "    </tr>\n",
       "    <tr>\n",
       "      <th>8</th>\n",
       "      <td>Gold Coast</td>\n",
       "      <td>1364.233333</td>\n",
       "    </tr>\n",
       "    <tr>\n",
       "      <th>9</th>\n",
       "      <td>Sheffield &amp; DePaul</td>\n",
       "      <td>1259.766667</td>\n",
       "    </tr>\n",
       "  </tbody>\n",
       "</table>\n",
       "</div>"
      ],
      "text/plain": [
       "  dropoff_location_name  average_trips\n",
       "0                  Loop   10727.466667\n",
       "1           River North    9523.666667\n",
       "2         Streeterville    6664.666667\n",
       "3             West Loop    5163.666667\n",
       "4                O'Hare    2546.900000\n",
       "5             Lake View    2420.966667\n",
       "6            Grant Park    2068.533333\n",
       "7         Museum Campus    1510.000000\n",
       "8            Gold Coast    1364.233333\n",
       "9    Sheffield & DePaul    1259.766667"
      ]
     },
     "metadata": {},
     "output_type": "display_data"
    }
   ],
   "source": [
    "# identify the top 10 neighborhoods in terms of drop-offs\n",
    "\n",
    "# Sorting the DataFrame in descending order based on 'average_trips'\n",
    "df_04_sorted = df_04.sort_values(by='average_trips', ascending=False)\n",
    "\n",
    "# Selecting the top 10 neighborhoods\n",
    "top_10_neighborhoods = df_04_sorted.head(10)\n",
    "\n",
    "display(top_10_neighborhoods)"
   ]
  },
  {
   "cell_type": "code",
   "execution_count": 7,
   "metadata": {},
   "outputs": [
    {
     "data": {
      "image/png": "[encoded data removed]",
      "text/plain": [
       "<Figure size 720x432 with 1 Axes>"
      ]
     },
     "metadata": {
      "needs_background": "light"
     },
     "output_type": "display_data"
    }
   ],
   "source": [
    "# Create a bar plot for taxi companies and the number of rides\n",
    "plt.figure(figsize=(10, 6))\n",
    "plt.bar(df_01['company_name'], df_01['trips_amount'])\n",
    "plt.xlabel('Taxi Company')\n",
    "plt.ylabel('Number of Rides')\n",
    "plt.title('Number of Rides for Each Taxi Company')\n",
    "plt.xticks(rotation=90, ha='right')\n",
    "plt.tight_layout()\n",
    "plt.show()"
   ]
  },
  {
   "cell_type": "markdown",
   "metadata": {},
   "source": [
    "Flash Cab by far has the most number of rides compared to all the other taxi companies with almost 20000 rides, while the company with the second most taxi rides, Taxi Affiliation Services, has about 12000. There is a gradual decline seen in the bar graph for the succeeding taxi companies, with the lower half of taxi companies have barely visible data seen on the graph. It is noted however that most of the taxi companies with much lower amounts of rides have a series of numbers in their comapny name, which may have made it more difficult for people to look up or remember when trying to book taxi rides, which could be a possible explanation for their lower ride numbers."
   ]
  },
  {
   "cell_type": "code",
   "execution_count": 8,
   "metadata": {},
   "outputs": [
    {
     "data": {
      "image/png": "[encoded data removed]",
      "text/plain": [
       "<Figure size 720x432 with 1 Axes>"
      ]
     },
     "metadata": {
      "needs_background": "light"
     },
     "output_type": "display_data"
    }
   ],
   "source": [
    "# Create a bar plot for the top 10 neighborhoods by the number of drop-offs\n",
    "top_10_neighborhoods = df_04.sort_values(by='average_trips', ascending=False).head(10)\n",
    "plt.figure(figsize=(10, 6))\n",
    "plt.bar(top_10_neighborhoods['dropoff_location_name'], top_10_neighborhoods['average_trips'])\n",
    "plt.xlabel('Neighborhood')\n",
    "plt.ylabel('Average Number of Drop-offs')\n",
    "plt.title('Top 10 Neighborhoods by Average Number of Drop-offs')\n",
    "plt.xticks(rotation=45, ha='right')\n",
    "plt.tight_layout()\n",
    "plt.show()"
   ]
  },
  {
   "cell_type": "markdown",
   "metadata": {},
   "source": [
    "The Loop has the highest average number of drop-offs of about 10000, which makes sense considering that geographically the Loop is where the main train system is for transportion throughout other areas of Chicago, which would make it easier for people to get to their destination. Afterwards, there is a steady decline in average number of drop-offs which begins to plateau around 3000 drop-offs."
   ]
  },
  {
   "cell_type": "markdown",
   "metadata": {},
   "source": [
    "# Test Statistical Hypothesis <a id='hypotheses'></a>"
   ]
  },
  {
   "cell_type": "code",
   "execution_count": 9,
   "metadata": {},
   "outputs": [],
   "source": [
    "# Load the data file into DataFrames\n",
    "df_07 = pd.read_csv('/datasets/project_sql_result_07.csv')"
   ]
  },
  {
   "cell_type": "code",
   "execution_count": 10,
   "metadata": {},
   "outputs": [
    {
     "name": "stdout",
     "output_type": "stream",
     "text": [
      "<class 'pandas.core.frame.DataFrame'>\n",
      "RangeIndex: 1068 entries, 0 to 1067\n",
      "Data columns (total 3 columns):\n",
      " #   Column              Non-Null Count  Dtype  \n",
      "---  ------              --------------  -----  \n",
      " 0   start_ts            1068 non-null   object \n",
      " 1   weather_conditions  1068 non-null   object \n",
      " 2   duration_seconds    1068 non-null   float64\n",
      "dtypes: float64(1), object(2)\n",
      "memory usage: 25.2+ KB\n"
     ]
    }
   ],
   "source": [
    "# Print the general/summary information about the DataFrames\n",
    "df_07.info()"
   ]
  },
  {
   "cell_type": "code",
   "execution_count": 11,
   "metadata": {},
   "outputs": [
    {
     "data": {
      "text/html": [
       "<div>\n",
       "<style scoped>\n",
       "    .dataframe tbody tr th:only-of-type {\n",
       "        vertical-align: middle;\n",
       "    }\n",
       "\n",
       "    .dataframe tbody tr th {\n",
       "        vertical-align: top;\n",
       "    }\n",
       "\n",
       "    .dataframe thead th {\n",
       "        text-align: right;\n",
       "    }\n",
       "</style>\n",
       "<table border=\"1\" class=\"dataframe\">\n",
       "  <thead>\n",
       "    <tr style=\"text-align: right;\">\n",
       "      <th></th>\n",
       "      <th>start_ts</th>\n",
       "      <th>weather_conditions</th>\n",
       "      <th>duration_seconds</th>\n",
       "    </tr>\n",
       "  </thead>\n",
       "  <tbody>\n",
       "    <tr>\n",
       "      <th>0</th>\n",
       "      <td>2017-11-25 16:00:00</td>\n",
       "      <td>Good</td>\n",
       "      <td>2410.0</td>\n",
       "    </tr>\n",
       "    <tr>\n",
       "      <th>1</th>\n",
       "      <td>2017-11-25 14:00:00</td>\n",
       "      <td>Good</td>\n",
       "      <td>1920.0</td>\n",
       "    </tr>\n",
       "    <tr>\n",
       "      <th>2</th>\n",
       "      <td>2017-11-25 12:00:00</td>\n",
       "      <td>Good</td>\n",
       "      <td>1543.0</td>\n",
       "    </tr>\n",
       "    <tr>\n",
       "      <th>3</th>\n",
       "      <td>2017-11-04 10:00:00</td>\n",
       "      <td>Good</td>\n",
       "      <td>2512.0</td>\n",
       "    </tr>\n",
       "    <tr>\n",
       "      <th>4</th>\n",
       "      <td>2017-11-11 07:00:00</td>\n",
       "      <td>Good</td>\n",
       "      <td>1440.0</td>\n",
       "    </tr>\n",
       "    <tr>\n",
       "      <th>...</th>\n",
       "      <td>...</td>\n",
       "      <td>...</td>\n",
       "      <td>...</td>\n",
       "    </tr>\n",
       "    <tr>\n",
       "      <th>1063</th>\n",
       "      <td>2017-11-25 11:00:00</td>\n",
       "      <td>Good</td>\n",
       "      <td>0.0</td>\n",
       "    </tr>\n",
       "    <tr>\n",
       "      <th>1064</th>\n",
       "      <td>2017-11-11 10:00:00</td>\n",
       "      <td>Good</td>\n",
       "      <td>1318.0</td>\n",
       "    </tr>\n",
       "    <tr>\n",
       "      <th>1065</th>\n",
       "      <td>2017-11-11 13:00:00</td>\n",
       "      <td>Good</td>\n",
       "      <td>2100.0</td>\n",
       "    </tr>\n",
       "    <tr>\n",
       "      <th>1066</th>\n",
       "      <td>2017-11-11 08:00:00</td>\n",
       "      <td>Good</td>\n",
       "      <td>1380.0</td>\n",
       "    </tr>\n",
       "    <tr>\n",
       "      <th>1067</th>\n",
       "      <td>2017-11-04 16:00:00</td>\n",
       "      <td>Bad</td>\n",
       "      <td>2834.0</td>\n",
       "    </tr>\n",
       "  </tbody>\n",
       "</table>\n",
       "<p>1068 rows × 3 columns</p>\n",
       "</div>"
      ],
      "text/plain": [
       "                 start_ts weather_conditions  duration_seconds\n",
       "0     2017-11-25 16:00:00               Good            2410.0\n",
       "1     2017-11-25 14:00:00               Good            1920.0\n",
       "2     2017-11-25 12:00:00               Good            1543.0\n",
       "3     2017-11-04 10:00:00               Good            2512.0\n",
       "4     2017-11-11 07:00:00               Good            1440.0\n",
       "...                   ...                ...               ...\n",
       "1063  2017-11-25 11:00:00               Good               0.0\n",
       "1064  2017-11-11 10:00:00               Good            1318.0\n",
       "1065  2017-11-11 13:00:00               Good            2100.0\n",
       "1066  2017-11-11 08:00:00               Good            1380.0\n",
       "1067  2017-11-04 16:00:00                Bad            2834.0\n",
       "\n",
       "[1068 rows x 3 columns]"
      ]
     },
     "metadata": {},
     "output_type": "display_data"
    }
   ],
   "source": [
    "# Print a sample of data for the dataframes\n",
    "display(df_07)"
   ]
  },
  {
   "cell_type": "markdown",
   "metadata": {},
   "source": [
    "## Hypothesis <a id='hypotheses_one'></a> <a class=\"tocSkip\">"
   ]
  },
  {
   "cell_type": "markdown",
   "metadata": {},
   "source": [
    "Null Hypothesis (H0): The average duration of rides from the Loop to O'Hare International Airport is the same on rainy Saturdays as on other days.\n",
    "\n",
    "Alternative Hypothesis (HA): The average duration of rides from the Loop to O'Hare International Airport is different on rainy Saturdays compared to other days.\n",
    "\n",
    "We will use a two-sample t-test to compare the average duration of rides between the rainy Saturdays and other days. The t-test compares the means of two groups (rainy Saturdays vs. other days) and provides a p-value, which indicates the probability of observing the data under the assumption that the null hypothesis is true.\n",
    "\n",
    "The significance level (alpha) is the threshold we use to determine whether the results of the hypothesis test are statistically significant or due to chance. A common alpha value is 0.05, which means we are willing to accept a 5% chance of making a Type I error (rejecting the null hypothesis when it is true). However, the significance level can be adjusted depending on the specific requirements and the consequences of making Type I or Type II errors."
   ]
  },
  {
   "cell_type": "code",
   "execution_count": 12,
   "metadata": {},
   "outputs": [
    {
     "name": "stdout",
     "output_type": "stream",
     "text": [
      "p-value: 6.738994326108734e-12\n",
      "Reject the null hypothesis. There is a significant difference in average duration between rainy Saturdays and other days.\n"
     ]
    }
   ],
   "source": [
    "df_07['start_ts'] = pd.to_datetime(df_07['start_ts'])\n",
    "\n",
    "# Separate data for rainy Saturdays and other days\n",
    "rainy_saturdays_data = df_07[df_07['weather_conditions'] == 'Bad']['duration_seconds']\n",
    "other_days_data = df_07[df_07['weather_conditions'] == 'Good']['duration_seconds']\n",
    "\n",
    "# Perform two-sample t-test\n",
    "alpha = 0.05\n",
    "results = st.ttest_ind(rainy_saturdays_data, other_days_data, equal_var=False)\n",
    "\n",
    "print(\"p-value:\", results.pvalue)\n",
    "\n",
    "# Check the result against the significance level (alpha)\n",
    "if results.pvalue < alpha:\n",
    "    print(\"Reject the null hypothesis. There is a significant difference in average duration between rainy Saturdays and other days.\")\n",
    "else:\n",
    "    print(\"Fail to reject the null hypothesis. There is no significant difference in average duration between rainy Saturdays and other days.\")"
   ]
  },
  {
   "cell_type": "markdown",
   "metadata": {},
   "source": [
    "Based on the results of the hypothesis test with a p-value of approximately 6.74e-12 (p < 0.05), we reject the null hypothesis. This indicates that there is a statistically significant difference in the average duration of rides from the Loop to O'Hare International Airport between rainy Saturdays and other days in November 2017.\n",
    "\n",
    "The extremely low p-value suggests that the observed difference in average ride duration is unlikely to be due to random chance alone. Instead, it provides strong evidence to support the alternative hypothesis, which states that the average duration of rides on rainy Saturdays is different from the average duration on other days.\n",
    "\n",
    "Therefore, based on this analysis, we can conclude that rainy Saturdays have a significantly different average ride duration compared to other days. Further investigation may be warranted to understand the underlying factors contributing to this difference and to explore potential implications for taxi services during rainy weekends."
   ]
  },
  {
   "cell_type": "markdown",
   "metadata": {},
   "source": [
    "# Conclusion <a id='conclusion'></a>"
   ]
  },
  {
   "cell_type": "markdown",
   "metadata": {},
   "source": [
    "Based on analysis, it appears that taxi companies that contain more complicated names, such as those with a series of numbers within the company name, have significantly lower numbers of taxi rides, perhaps due to it being more difficult to remember or find. The top ten neighborhoods with average number of drop-offs were also found. The Loop contains the most. Using those results would be beneficial when starting up a new ride-share company to know which areas of Chicago are most popular to have a larger clientele.\n",
    "\n",
    "Based on the hypothesis test to determine if the average duratin of rides from the Loop to O'Hare International Airport changes on rainy Saturdays, it was concluded that there is a sgnificant difference when the Saturdays are rainy comapred to other days. This result makes sense considering that people would most likely not want to be walking in the rain and prefer to getting a ride. However, to truly understand the underlying factors that contribute to this difference, further investigation may be needed."
   ]
  }
 ],
 "metadata": {
  "kernelspec": {
   "display_name": "Python 3 (ipykernel)",
   "language": "python",
   "name": "python3"
  },
  "language_info": {
   "codemirror_mode": {
    "name": "ipython",
    "version": 3
   },
   "file_extension": ".py",
   "mimetype": "text/x-python",
   "name": "python",
   "nbconvert_exporter": "python",
   "pygments_lexer": "ipython3",
   "version": "3.9.19"
  },
  "toc": {
   "base_numbering": 1,
   "nav_menu": {},
   "number_sections": true,
   "sideBar": true,
   "skip_h1_title": true,
   "title_cell": "Table of Contents",
   "title_sidebar": "Contents",
   "toc_cell": false,
   "toc_position": {},
   "toc_section_display": true,
   "toc_window_display": false
  }
 },
 "nbformat": 4,
 "nbformat_minor": 2
}
