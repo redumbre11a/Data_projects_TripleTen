{
 "cells": [
  {
   "cell_type": "markdown",
   "metadata": {},
   "source": [
    "# Megaline Phone Plan Comparison <a class=\"tocSkip\">"
   ]
  },
  {
   "cell_type": "markdown",
   "metadata": {},
   "source": [
    "# Contents <a class=\"tocSkip\"> <a id='back'></a>\n",
    "\n",
    "* [Introduction](#introduction)\n",
    "* [1. Data Overview](#data_overview)\n",
    "    * [1.1 Initialization](#initialization)\n",
    "    * [1.2 Load Data](load_data)\n",
    "* [2. Prepare the Data](#prepare_data)\n",
    "    * [2.1 `plans` dataframe](#plans_df)\n",
    "        * [2.1.1 Fix `plans` dataframe](#fix_plans_df)\n",
    "        * [2.1.2 Enrich `plans` dataframe](#enrich_plans_df)\n",
    "    * [2.2 `users` dataframe](#users_df)\n",
    "        * [2.2.1 Fix `users` dataframe](#fix_users_df)\n",
    "        * [2.2.2 Enrich `users` dataframe](#enrich_users_df)\n",
    "    * [2.3 `calls` dataframe](#calls_df)\n",
    "        * [2.3.1 Fix `calls` dataframe](#fix_calls_df)\n",
    "        * [2.3.2 Enrich `calls` dataframe](#enrich_calls_df)\n",
    "    * [2.4 `messages` dataframe](#messages_df)\n",
    "        * [2.4.1 Fix `messages` dataframe](#fix_messages_df)\n",
    "        * [2.4.2 Enrich `messages` dataframe](#enrich_messages_df)\n",
    "    * [2.5 `internet` dataframe](#internet_df)\n",
    "        * [2.5.1 Fix `internet` dataframe](#fix_internet_df)\n",
    "        * [2.5.2 Enrich `internet` dataframe](#enrich_internet_df)\n",
    "    * [2.6 Study plan conditions](#study_plan_conditions)\n",
    "    * [2.7 Aggregate data per user](#aggregate)\n",
    "* [3. Analysis: Study user behavious](#analysis)\n",
    "    * [3.1 Calls](#calls)\n",
    "    * [3.2 Messages](#messages)\n",
    "    * [3.3 Internet](#internet)\n",
    "    * [3.4 Revenue](#revenue)\n",
    "* [4. Test statistical hypothesis](#hypothesis)\n",
    "* [5. General conclusion](#conclusion)"
   ]
  },
  {
   "cell_type": "markdown",
   "metadata": {},
   "source": [
    "# Introduction <a class=\"tocSkip\"> <a id='introduction'></a>\n",
    "\n",
    "You work as an analyst for the telecom operator Megaline. The company offers its clients two prepaid plans, Surf and Ultimate. The commercial department wants to know which of the plans brings in more revenue in order to adjust the advertising budget.\n",
    "\n",
    "You are going to carry out a preliminary analysis of the plans based on a relatively small client selection. You'll have the data on 500 Megaline clients: who the clients are, where they're from, which plan they use, and the number of calls they made and text messages they sent in 2018. Your job is to analyze the clients' behavior and determine which prepaid plan brings in more revenue."
   ]
  },
  {
   "cell_type": "markdown",
   "metadata": {},
   "source": [
    "Megaline rounds seconds up to minutes, and megabytes to gigabytes. For calls, each individual call is rounded up: even if the call lasted just one second, it will be counted as one minute. For web traffic, individual web sessions are not rounded up. Instead, the total for the month is rounded up. If someone uses 1025 megabytes this month, they will be charged for 2 gigabytes.\n",
    "\n",
    "## Which one is a better plan? <a class=\"tocSkip\">\n",
    "\n",
    "### Surf <a class=\"tocSkip\">\n",
    "    Monthly charge: $20\n",
    "    500 monthly minutes, 50 texts, and 15 GB of data\n",
    "    After exceeding the package limits:\n",
    "       1 minute: 3 cents\n",
    "       1 text message: 3 cents\n",
    "       1 GB of data: $10\n",
    "\n",
    "### Ultimate <a class=\"tocSkip\">\n",
    "    Monthly charge: $70\n",
    "    3000 monthly minutes, 1000 text messages, and 30 GB of data\n",
    "    After exceeding the package limits:\n",
    "       1 minute: 1 cent\n",
    "       1 text message: 1 cent\n",
    "       1 GB of data: $7"
   ]
  },
  {
   "cell_type": "markdown",
   "metadata": {},
   "source": [
    "Five different data files are to be analyzed: `/datasets/megaline_calls.csv`, `/datasets/megaline_internet.csv`, `/datasets/megaline_messages.csv`, `/datasets/megaline_plans.csv`, `/datasets/megaline_users.csv`. These data files will be viewed and edited as necessary regarding format changes and preprocessing.\n",
    "\n",
    "[Back to Contents](#back)"
   ]
  },
  {
   "cell_type": "markdown",
   "metadata": {},
   "source": [
    "# Data Overview <a id='data_overview'></a>"
   ]
  },
  {
   "cell_type": "markdown",
   "metadata": {},
   "source": [
    "## Initialization <a id='initialization'></a>"
   ]
  },
  {
   "cell_type": "markdown",
   "metadata": {},
   "source": []
  },
  {
   "cell_type": "code",
   "execution_count": 1,
   "metadata": {},
   "outputs": [],
   "source": [
    "# Loading all the libraries\n",
    "import pandas as pd\n",
    "from matplotlib import pyplot as plt\n",
    "import math\n",
    "import numpy as np\n",
    "from scipy import stats as st"
   ]
  },
  {
   "cell_type": "markdown",
   "metadata": {},
   "source": [
    "## Load data <a id='load_data'></a>"
   ]
  },
  {
   "cell_type": "markdown",
   "metadata": {},
   "source": []
  },
  {
   "cell_type": "code",
   "execution_count": 2,
   "metadata": {},
   "outputs": [],
   "source": [
    "# Load the data files into different DataFrames\n",
    "\n",
    "# Reading the `megaline_plans` dataframe file and storing it to plans_df\n",
    "plans_df = pd.read_csv('/datasets/megaline_plans.csv')\n",
    "\n",
    "# Reading the `megaline_users` dataframe file and storing it to users_df\n",
    "users_df = pd.read_csv('/datasets/megaline_users.csv')\n",
    "\n",
    "# Reading the `megaline_calls` dataframe file and storing it to calls_df\n",
    "calls_df = pd.read_csv('/datasets/megaline_calls.csv')\n",
    "\n",
    "# Reading the `megaline_messages` dataframe file and storing it to messages_df\n",
    "messages_df = pd.read_csv('/datasets/megaline_messages.csv')\n",
    "\n",
    "# Reading the `megaline_internet` dataframe file and storing it to internet_df\n",
    "internet_df = pd.read_csv('/datasets/megaline_internet.csv')"
   ]
  },
  {
   "cell_type": "markdown",
   "metadata": {},
   "source": [
    "# Prepare the data <a id='prepare_data'></a>"
   ]
  },
  {
   "cell_type": "markdown",
   "metadata": {},
   "source": [
    "## Plans <a id='plans_df'></a>"
   ]
  },
  {
   "cell_type": "code",
   "execution_count": 3,
   "metadata": {},
   "outputs": [
    {
     "name": "stdout",
     "output_type": "stream",
     "text": [
      "<class 'pandas.core.frame.DataFrame'>\n",
      "RangeIndex: 2 entries, 0 to 1\n",
      "Data columns (total 8 columns):\n",
      " #   Column                 Non-Null Count  Dtype  \n",
      "---  ------                 --------------  -----  \n",
      " 0   messages_included      2 non-null      int64  \n",
      " 1   mb_per_month_included  2 non-null      int64  \n",
      " 2   minutes_included       2 non-null      int64  \n",
      " 3   usd_monthly_pay        2 non-null      int64  \n",
      " 4   usd_per_gb             2 non-null      int64  \n",
      " 5   usd_per_message        2 non-null      float64\n",
      " 6   usd_per_minute         2 non-null      float64\n",
      " 7   plan_name              2 non-null      object \n",
      "dtypes: float64(2), int64(5), object(1)\n",
      "memory usage: 256.0+ bytes\n"
     ]
    }
   ],
   "source": [
    "# Print the general/summary information about the plans' DataFrame\n",
    "plans_df.info()"
   ]
  },
  {
   "cell_type": "code",
   "execution_count": 4,
   "metadata": {},
   "outputs": [
    {
     "data": {
      "text/html": [
       "<div>\n",
       "<style scoped>\n",
       "    .dataframe tbody tr th:only-of-type {\n",
       "        vertical-align: middle;\n",
       "    }\n",
       "\n",
       "    .dataframe tbody tr th {\n",
       "        vertical-align: top;\n",
       "    }\n",
       "\n",
       "    .dataframe thead th {\n",
       "        text-align: right;\n",
       "    }\n",
       "</style>\n",
       "<table border=\"1\" class=\"dataframe\">\n",
       "  <thead>\n",
       "    <tr style=\"text-align: right;\">\n",
       "      <th></th>\n",
       "      <th>messages_included</th>\n",
       "      <th>mb_per_month_included</th>\n",
       "      <th>minutes_included</th>\n",
       "      <th>usd_monthly_pay</th>\n",
       "      <th>usd_per_gb</th>\n",
       "      <th>usd_per_message</th>\n",
       "      <th>usd_per_minute</th>\n",
       "      <th>plan_name</th>\n",
       "    </tr>\n",
       "  </thead>\n",
       "  <tbody>\n",
       "    <tr>\n",
       "      <th>0</th>\n",
       "      <td>50</td>\n",
       "      <td>15360</td>\n",
       "      <td>500</td>\n",
       "      <td>20</td>\n",
       "      <td>10</td>\n",
       "      <td>0.03</td>\n",
       "      <td>0.03</td>\n",
       "      <td>surf</td>\n",
       "    </tr>\n",
       "    <tr>\n",
       "      <th>1</th>\n",
       "      <td>1000</td>\n",
       "      <td>30720</td>\n",
       "      <td>3000</td>\n",
       "      <td>70</td>\n",
       "      <td>7</td>\n",
       "      <td>0.01</td>\n",
       "      <td>0.01</td>\n",
       "      <td>ultimate</td>\n",
       "    </tr>\n",
       "  </tbody>\n",
       "</table>\n",
       "</div>"
      ],
      "text/plain": [
       "   messages_included  mb_per_month_included  minutes_included  \\\n",
       "0                 50                  15360               500   \n",
       "1               1000                  30720              3000   \n",
       "\n",
       "   usd_monthly_pay  usd_per_gb  usd_per_message  usd_per_minute plan_name  \n",
       "0               20          10             0.03            0.03      surf  \n",
       "1               70           7             0.01            0.01  ultimate  "
      ]
     },
     "metadata": {},
     "output_type": "display_data"
    }
   ],
   "source": [
    "# Print a sample of data for plans\n",
    "display(plans_df.head())"
   ]
  },
  {
   "cell_type": "markdown",
   "metadata": {},
   "source": [
    "The plans_df is small enough that the entire table can be displayed. There appears to be no missing values, duplicates, or formatting issues. Appropriate data types are used."
   ]
  },
  {
   "cell_type": "markdown",
   "metadata": {},
   "source": [
    " "
   ]
  },
  {
   "cell_type": "markdown",
   "metadata": {},
   "source": [
    "### Fix data <a id='fix_plans_df'></a>"
   ]
  },
  {
   "cell_type": "markdown",
   "metadata": {},
   "source": [
    "No obvious issues with the data need to be fixed given the initial observations"
   ]
  },
  {
   "cell_type": "markdown",
   "metadata": {},
   "source": [
    "### Enrich data <a id='enrich_plans_df'></a>"
   ]
  },
  {
   "cell_type": "markdown",
   "metadata": {},
   "source": [
    "No additional factors needed."
   ]
  },
  {
   "cell_type": "markdown",
   "metadata": {},
   "source": [
    "## Users <a id='users_df'></a>"
   ]
  },
  {
   "cell_type": "code",
   "execution_count": 5,
   "metadata": {},
   "outputs": [
    {
     "name": "stdout",
     "output_type": "stream",
     "text": [
      "<class 'pandas.core.frame.DataFrame'>\n",
      "RangeIndex: 500 entries, 0 to 499\n",
      "Data columns (total 8 columns):\n",
      " #   Column      Non-Null Count  Dtype \n",
      "---  ------      --------------  ----- \n",
      " 0   user_id     500 non-null    int64 \n",
      " 1   first_name  500 non-null    object\n",
      " 2   last_name   500 non-null    object\n",
      " 3   age         500 non-null    int64 \n",
      " 4   city        500 non-null    object\n",
      " 5   reg_date    500 non-null    object\n",
      " 6   plan        500 non-null    object\n",
      " 7   churn_date  34 non-null     object\n",
      "dtypes: int64(2), object(6)\n",
      "memory usage: 31.4+ KB\n"
     ]
    }
   ],
   "source": [
    "# Print the general/summary information about the users' DataFrame\n",
    "users_df.info()"
   ]
  },
  {
   "cell_type": "code",
   "execution_count": 6,
   "metadata": {},
   "outputs": [
    {
     "data": {
      "text/html": [
       "<div>\n",
       "<style scoped>\n",
       "    .dataframe tbody tr th:only-of-type {\n",
       "        vertical-align: middle;\n",
       "    }\n",
       "\n",
       "    .dataframe tbody tr th {\n",
       "        vertical-align: top;\n",
       "    }\n",
       "\n",
       "    .dataframe thead th {\n",
       "        text-align: right;\n",
       "    }\n",
       "</style>\n",
       "<table border=\"1\" class=\"dataframe\">\n",
       "  <thead>\n",
       "    <tr style=\"text-align: right;\">\n",
       "      <th></th>\n",
       "      <th>user_id</th>\n",
       "      <th>first_name</th>\n",
       "      <th>last_name</th>\n",
       "      <th>age</th>\n",
       "      <th>city</th>\n",
       "      <th>reg_date</th>\n",
       "      <th>plan</th>\n",
       "      <th>churn_date</th>\n",
       "    </tr>\n",
       "  </thead>\n",
       "  <tbody>\n",
       "    <tr>\n",
       "      <th>0</th>\n",
       "      <td>1000</td>\n",
       "      <td>Anamaria</td>\n",
       "      <td>Bauer</td>\n",
       "      <td>45</td>\n",
       "      <td>Atlanta-Sandy Springs-Roswell, GA MSA</td>\n",
       "      <td>2018-12-24</td>\n",
       "      <td>ultimate</td>\n",
       "      <td>NaN</td>\n",
       "    </tr>\n",
       "    <tr>\n",
       "      <th>1</th>\n",
       "      <td>1001</td>\n",
       "      <td>Mickey</td>\n",
       "      <td>Wilkerson</td>\n",
       "      <td>28</td>\n",
       "      <td>Seattle-Tacoma-Bellevue, WA MSA</td>\n",
       "      <td>2018-08-13</td>\n",
       "      <td>surf</td>\n",
       "      <td>NaN</td>\n",
       "    </tr>\n",
       "    <tr>\n",
       "      <th>2</th>\n",
       "      <td>1002</td>\n",
       "      <td>Carlee</td>\n",
       "      <td>Hoffman</td>\n",
       "      <td>36</td>\n",
       "      <td>Las Vegas-Henderson-Paradise, NV MSA</td>\n",
       "      <td>2018-10-21</td>\n",
       "      <td>surf</td>\n",
       "      <td>NaN</td>\n",
       "    </tr>\n",
       "    <tr>\n",
       "      <th>3</th>\n",
       "      <td>1003</td>\n",
       "      <td>Reynaldo</td>\n",
       "      <td>Jenkins</td>\n",
       "      <td>52</td>\n",
       "      <td>Tulsa, OK MSA</td>\n",
       "      <td>2018-01-28</td>\n",
       "      <td>surf</td>\n",
       "      <td>NaN</td>\n",
       "    </tr>\n",
       "    <tr>\n",
       "      <th>4</th>\n",
       "      <td>1004</td>\n",
       "      <td>Leonila</td>\n",
       "      <td>Thompson</td>\n",
       "      <td>40</td>\n",
       "      <td>Seattle-Tacoma-Bellevue, WA MSA</td>\n",
       "      <td>2018-05-23</td>\n",
       "      <td>surf</td>\n",
       "      <td>NaN</td>\n",
       "    </tr>\n",
       "    <tr>\n",
       "      <th>...</th>\n",
       "      <td>...</td>\n",
       "      <td>...</td>\n",
       "      <td>...</td>\n",
       "      <td>...</td>\n",
       "      <td>...</td>\n",
       "      <td>...</td>\n",
       "      <td>...</td>\n",
       "      <td>...</td>\n",
       "    </tr>\n",
       "    <tr>\n",
       "      <th>495</th>\n",
       "      <td>1495</td>\n",
       "      <td>Fidel</td>\n",
       "      <td>Sharpe</td>\n",
       "      <td>67</td>\n",
       "      <td>New York-Newark-Jersey City, NY-NJ-PA MSA</td>\n",
       "      <td>2018-09-04</td>\n",
       "      <td>surf</td>\n",
       "      <td>NaN</td>\n",
       "    </tr>\n",
       "    <tr>\n",
       "      <th>496</th>\n",
       "      <td>1496</td>\n",
       "      <td>Ariel</td>\n",
       "      <td>Shepherd</td>\n",
       "      <td>49</td>\n",
       "      <td>New Orleans-Metairie, LA MSA</td>\n",
       "      <td>2018-02-20</td>\n",
       "      <td>surf</td>\n",
       "      <td>NaN</td>\n",
       "    </tr>\n",
       "    <tr>\n",
       "      <th>497</th>\n",
       "      <td>1497</td>\n",
       "      <td>Donte</td>\n",
       "      <td>Barrera</td>\n",
       "      <td>49</td>\n",
       "      <td>Los Angeles-Long Beach-Anaheim, CA MSA</td>\n",
       "      <td>2018-12-10</td>\n",
       "      <td>ultimate</td>\n",
       "      <td>NaN</td>\n",
       "    </tr>\n",
       "    <tr>\n",
       "      <th>498</th>\n",
       "      <td>1498</td>\n",
       "      <td>Scot</td>\n",
       "      <td>Williamson</td>\n",
       "      <td>51</td>\n",
       "      <td>New York-Newark-Jersey City, NY-NJ-PA MSA</td>\n",
       "      <td>2018-02-04</td>\n",
       "      <td>surf</td>\n",
       "      <td>NaN</td>\n",
       "    </tr>\n",
       "    <tr>\n",
       "      <th>499</th>\n",
       "      <td>1499</td>\n",
       "      <td>Shena</td>\n",
       "      <td>Dickson</td>\n",
       "      <td>37</td>\n",
       "      <td>Orlando-Kissimmee-Sanford, FL MSA</td>\n",
       "      <td>2018-05-06</td>\n",
       "      <td>surf</td>\n",
       "      <td>NaN</td>\n",
       "    </tr>\n",
       "  </tbody>\n",
       "</table>\n",
       "<p>500 rows × 8 columns</p>\n",
       "</div>"
      ],
      "text/plain": [
       "     user_id first_name   last_name  age  \\\n",
       "0       1000   Anamaria       Bauer   45   \n",
       "1       1001     Mickey   Wilkerson   28   \n",
       "2       1002     Carlee     Hoffman   36   \n",
       "3       1003   Reynaldo     Jenkins   52   \n",
       "4       1004    Leonila    Thompson   40   \n",
       "..       ...        ...         ...  ...   \n",
       "495     1495      Fidel      Sharpe   67   \n",
       "496     1496      Ariel    Shepherd   49   \n",
       "497     1497      Donte     Barrera   49   \n",
       "498     1498       Scot  Williamson   51   \n",
       "499     1499      Shena     Dickson   37   \n",
       "\n",
       "                                          city    reg_date      plan  \\\n",
       "0        Atlanta-Sandy Springs-Roswell, GA MSA  2018-12-24  ultimate   \n",
       "1              Seattle-Tacoma-Bellevue, WA MSA  2018-08-13      surf   \n",
       "2         Las Vegas-Henderson-Paradise, NV MSA  2018-10-21      surf   \n",
       "3                                Tulsa, OK MSA  2018-01-28      surf   \n",
       "4              Seattle-Tacoma-Bellevue, WA MSA  2018-05-23      surf   \n",
       "..                                         ...         ...       ...   \n",
       "495  New York-Newark-Jersey City, NY-NJ-PA MSA  2018-09-04      surf   \n",
       "496               New Orleans-Metairie, LA MSA  2018-02-20      surf   \n",
       "497     Los Angeles-Long Beach-Anaheim, CA MSA  2018-12-10  ultimate   \n",
       "498  New York-Newark-Jersey City, NY-NJ-PA MSA  2018-02-04      surf   \n",
       "499          Orlando-Kissimmee-Sanford, FL MSA  2018-05-06      surf   \n",
       "\n",
       "    churn_date  \n",
       "0          NaN  \n",
       "1          NaN  \n",
       "2          NaN  \n",
       "3          NaN  \n",
       "4          NaN  \n",
       "..         ...  \n",
       "495        NaN  \n",
       "496        NaN  \n",
       "497        NaN  \n",
       "498        NaN  \n",
       "499        NaN  \n",
       "\n",
       "[500 rows x 8 columns]"
      ]
     },
     "metadata": {},
     "output_type": "display_data"
    }
   ],
   "source": [
    "# Print a sample of data for users\n",
    "display(users_df)"
   ]
  },
  {
   "cell_type": "code",
   "execution_count": 7,
   "metadata": {},
   "outputs": [
    {
     "name": "stdout",
     "output_type": "stream",
     "text": [
      "0\n",
      "\n",
      "0\n",
      "\n",
      "user_id         0\n",
      "first_name      0\n",
      "last_name       0\n",
      "age             0\n",
      "city            0\n",
      "reg_date        0\n",
      "plan            0\n",
      "churn_date    466\n",
      "dtype: int64\n",
      "\n",
      "['Albany-Schenectady-Troy, NY MSA', 'Albuquerque, NM MSA', 'Atlanta-Sandy Springs-Roswell, GA MSA', 'Austin-Round Rock-Georgetown, TX MSA', 'Bakersfield, CA MSA', 'Baltimore-Columbia-Towson, MD MSA', 'Baton Rouge, LA MSA', 'Birmingham-Hoover, AL MSA', 'Boston-Cambridge-Newton, MA-NH MSA', 'Bridgeport-Stamford-Norwalk, CT MSA', 'Buffalo-Cheektowaga, NY MSA', 'Cape Coral-Fort Myers, FL MSA', 'Charleston-North Charleston, SC MSA', 'Charlotte-Concord-Gastonia, NC-SC MSA', 'Chicago-Naperville-Elgin, IL-IN-WI MSA', 'Cincinnati, OH-KY-IN MSA', 'Cleveland-Elyria, OH MSA', 'Colorado Springs, CO MSA', 'Columbia, SC MSA', 'Columbus, OH MSA', 'Dallas-Fort Worth-Arlington, TX MSA', 'Dayton-Kettering, OH MSA', 'Denver-Aurora-Lakewood, CO MSA', 'Detroit-Warren-Dearborn, MI MSA', 'El Paso, TX MSA', 'Fresno, CA MSA', 'Grand Rapids-Kentwood, MI MSA', 'Greensboro-High Point, NC MSA', 'Houston-The Woodlands-Sugar Land, TX MSA', 'Indianapolis-Carmel-Anderson, IN MSA', 'Jacksonville, FL MSA', 'Kansas City, MO-KS MSA', 'Knoxville, TN MSA', 'Las Vegas-Henderson-Paradise, NV MSA', 'Los Angeles-Long Beach-Anaheim, CA MSA', 'Louisville/Jefferson County, KY-IN MSA', 'Memphis, TN-MS-AR MSA', 'Miami-Fort Lauderdale-West Palm Beach, FL MSA', 'Milwaukee-Waukesha, WI MSA', 'Minneapolis-St. Paul-Bloomington, MN-WI MSA', 'Nashville-Davidson–Murfreesboro–Franklin, TN MSA', 'New Haven-Milford, CT MSA', 'New Orleans-Metairie, LA MSA', 'New York-Newark-Jersey City, NY-NJ-PA MSA', 'North Port-Sarasota-Bradenton, FL MSA', 'Oklahoma City, OK MSA', 'Omaha-Council Bluffs, NE-IA MSA', 'Orlando-Kissimmee-Sanford, FL MSA', 'Oxnard-Thousand Oaks-Ventura, CA MSA', 'Philadelphia-Camden-Wilmington, PA-NJ-DE-MD MSA', 'Phoenix-Mesa-Chandler, AZ MSA', 'Pittsburgh, PA MSA', 'Portland-Vancouver-Hillsboro, OR-WA MSA', 'Providence-Warwick, RI-MA MSA', 'Raleigh-Cary, NC MSA', 'Richmond, VA MSA', 'Riverside-San Bernardino-Ontario, CA MSA', 'Rochester, NY MSA', 'Sacramento–Roseville–Folsom, CA MSA', 'Salt Lake City, UT MSA', 'San Antonio-New Braunfels, TX MSA', 'San Diego-Chula Vista-Carlsbad, CA MSA', 'San Francisco-Oakland-Berkeley, CA MSA', 'San Jose-Sunnyvale-Santa Clara, CA MSA', 'Seattle-Tacoma-Bellevue, WA MSA', 'St. Louis, MO-IL MSA', 'Stockton, CA MSA', 'Tampa-St. Petersburg-Clearwater, FL MSA', 'Tucson, AZ MSA', 'Tulsa, OK MSA', 'Urban Honolulu, HI MSA', 'Virginia Beach-Norfolk-Newport News, VA-NC MSA', 'Washington-Arlington-Alexandria, DC-VA-MD-WV MSA']\n"
     ]
    }
   ],
   "source": [
    "# checking for duplicated rows\n",
    "print(users_df.duplicated().sum())\n",
    "print()\n",
    "\n",
    "# checking for duplicate user IDs\n",
    "print(users_df.duplicated(subset='user_id').sum())\n",
    "print()\n",
    "\n",
    "# counting the number of missing values\n",
    "print(users_df.isna().sum())\n",
    "print()\n",
    "\n",
    "# checking for implicit duplicates\n",
    "sorted_cities = sorted(users_df['city'].unique())\n",
    "print(sorted_cities)"
   ]
  },
  {
   "cell_type": "markdown",
   "metadata": {},
   "source": [
    "There appears to be no duplicates or formatting issues and appropriate data types are used, but if calculations are to be done with the dates, they should be converted to datetime instead of being kept as object. \n",
    "\n",
    "There are many missing values in the churn_date column, but information about this data file indicates that if the value is missing, the calling plan was being used when this database was extracted). Since the missing values in the churn_date column indicate that the corresponding users have not churned yet, it can be replaced with a value that represents the end of the observation period, i.e., the last date in the dataset. The maximum date in the reg_date column will be used as the replacement value for the missing values in the churn_date column so that the column can be used to calculate any future metrics. \n",
    "\n",
    "Also while there are no formatting issues with using 'plan' as the column name, for consistency with the plans_df having the column name 'plan_name', it should be changed so the data frames can potentially be merged during analysis."
   ]
  },
  {
   "cell_type": "markdown",
   "metadata": {},
   "source": [
    " "
   ]
  },
  {
   "cell_type": "markdown",
   "metadata": {},
   "source": [
    "### Fix Data <a id='fix_users_df'></a>"
   ]
  },
  {
   "cell_type": "code",
   "execution_count": 8,
   "metadata": {},
   "outputs": [
    {
     "name": "stdout",
     "output_type": "stream",
     "text": [
      "<class 'pandas.core.frame.DataFrame'>\n",
      "RangeIndex: 500 entries, 0 to 499\n",
      "Data columns (total 8 columns):\n",
      " #   Column      Non-Null Count  Dtype         \n",
      "---  ------      --------------  -----         \n",
      " 0   user_id     500 non-null    int64         \n",
      " 1   first_name  500 non-null    object        \n",
      " 2   last_name   500 non-null    object        \n",
      " 3   age         500 non-null    int64         \n",
      " 4   city        500 non-null    object        \n",
      " 5   reg_date    500 non-null    datetime64[ns]\n",
      " 6   plan_name   500 non-null    object        \n",
      " 7   churn_date  500 non-null    datetime64[ns]\n",
      "dtypes: datetime64[ns](2), int64(2), object(4)\n",
      "memory usage: 31.4+ KB\n"
     ]
    }
   ],
   "source": [
    "# Convert the reg_date column to a pandas datetime format\n",
    "users_df['reg_date'] = pd.to_datetime(users_df['reg_date'])\n",
    "\n",
    "# Convert the churn_date column to a pandas datetime format\n",
    "users_df['churn_date'] = pd.to_datetime(users_df['churn_date'])\n",
    "\n",
    "# Replace missing\n",
    "max_date = users_df['reg_date'].max()\n",
    "users_df['churn_date'] = users_df['churn_date'].fillna(max_date)\n",
    "\n",
    "# Renaming plan column to plan_names to match column name in the plans_df for consistency\n",
    "users_df = users_df.rename(columns={'plan': 'plan_name'})\n",
    "\n",
    "# Confirm no more missing values and data type was changed successfully\n",
    "users_df.info()"
   ]
  },
  {
   "cell_type": "markdown",
   "metadata": {},
   "source": [
    "### Enrich Data <a id='fix_users_df'></a>"
   ]
  },
  {
   "cell_type": "markdown",
   "metadata": {},
   "source": [
    "No additional factors needed"
   ]
  },
  {
   "cell_type": "markdown",
   "metadata": {},
   "source": [
    "## Calls <a id='calls_df'></a>"
   ]
  },
  {
   "cell_type": "code",
   "execution_count": 9,
   "metadata": {},
   "outputs": [
    {
     "name": "stdout",
     "output_type": "stream",
     "text": [
      "<class 'pandas.core.frame.DataFrame'>\n",
      "RangeIndex: 137735 entries, 0 to 137734\n",
      "Data columns (total 4 columns):\n",
      " #   Column     Non-Null Count   Dtype  \n",
      "---  ------     --------------   -----  \n",
      " 0   id         137735 non-null  object \n",
      " 1   user_id    137735 non-null  int64  \n",
      " 2   call_date  137735 non-null  object \n",
      " 3   duration   137735 non-null  float64\n",
      "dtypes: float64(1), int64(1), object(2)\n",
      "memory usage: 4.2+ MB\n"
     ]
    }
   ],
   "source": [
    "# Print the general/summary information about the calls' DataFrame\n",
    "calls_df.info()"
   ]
  },
  {
   "cell_type": "code",
   "execution_count": 10,
   "metadata": {},
   "outputs": [
    {
     "data": {
      "text/html": [
       "<div>\n",
       "<style scoped>\n",
       "    .dataframe tbody tr th:only-of-type {\n",
       "        vertical-align: middle;\n",
       "    }\n",
       "\n",
       "    .dataframe tbody tr th {\n",
       "        vertical-align: top;\n",
       "    }\n",
       "\n",
       "    .dataframe thead th {\n",
       "        text-align: right;\n",
       "    }\n",
       "</style>\n",
       "<table border=\"1\" class=\"dataframe\">\n",
       "  <thead>\n",
       "    <tr style=\"text-align: right;\">\n",
       "      <th></th>\n",
       "      <th>id</th>\n",
       "      <th>user_id</th>\n",
       "      <th>call_date</th>\n",
       "      <th>duration</th>\n",
       "    </tr>\n",
       "  </thead>\n",
       "  <tbody>\n",
       "    <tr>\n",
       "      <th>0</th>\n",
       "      <td>1000_93</td>\n",
       "      <td>1000</td>\n",
       "      <td>2018-12-27</td>\n",
       "      <td>8.52</td>\n",
       "    </tr>\n",
       "    <tr>\n",
       "      <th>1</th>\n",
       "      <td>1000_145</td>\n",
       "      <td>1000</td>\n",
       "      <td>2018-12-27</td>\n",
       "      <td>13.66</td>\n",
       "    </tr>\n",
       "    <tr>\n",
       "      <th>2</th>\n",
       "      <td>1000_247</td>\n",
       "      <td>1000</td>\n",
       "      <td>2018-12-27</td>\n",
       "      <td>14.48</td>\n",
       "    </tr>\n",
       "    <tr>\n",
       "      <th>3</th>\n",
       "      <td>1000_309</td>\n",
       "      <td>1000</td>\n",
       "      <td>2018-12-28</td>\n",
       "      <td>5.76</td>\n",
       "    </tr>\n",
       "    <tr>\n",
       "      <th>4</th>\n",
       "      <td>1000_380</td>\n",
       "      <td>1000</td>\n",
       "      <td>2018-12-30</td>\n",
       "      <td>4.22</td>\n",
       "    </tr>\n",
       "    <tr>\n",
       "      <th>...</th>\n",
       "      <td>...</td>\n",
       "      <td>...</td>\n",
       "      <td>...</td>\n",
       "      <td>...</td>\n",
       "    </tr>\n",
       "    <tr>\n",
       "      <th>137730</th>\n",
       "      <td>1499_199</td>\n",
       "      <td>1499</td>\n",
       "      <td>2018-11-21</td>\n",
       "      <td>8.72</td>\n",
       "    </tr>\n",
       "    <tr>\n",
       "      <th>137731</th>\n",
       "      <td>1499_200</td>\n",
       "      <td>1499</td>\n",
       "      <td>2018-10-20</td>\n",
       "      <td>10.89</td>\n",
       "    </tr>\n",
       "    <tr>\n",
       "      <th>137732</th>\n",
       "      <td>1499_201</td>\n",
       "      <td>1499</td>\n",
       "      <td>2018-09-21</td>\n",
       "      <td>8.12</td>\n",
       "    </tr>\n",
       "    <tr>\n",
       "      <th>137733</th>\n",
       "      <td>1499_202</td>\n",
       "      <td>1499</td>\n",
       "      <td>2018-10-10</td>\n",
       "      <td>0.37</td>\n",
       "    </tr>\n",
       "    <tr>\n",
       "      <th>137734</th>\n",
       "      <td>1499_203</td>\n",
       "      <td>1499</td>\n",
       "      <td>2018-12-29</td>\n",
       "      <td>13.86</td>\n",
       "    </tr>\n",
       "  </tbody>\n",
       "</table>\n",
       "<p>137735 rows × 4 columns</p>\n",
       "</div>"
      ],
      "text/plain": [
       "              id  user_id   call_date  duration\n",
       "0        1000_93     1000  2018-12-27      8.52\n",
       "1       1000_145     1000  2018-12-27     13.66\n",
       "2       1000_247     1000  2018-12-27     14.48\n",
       "3       1000_309     1000  2018-12-28      5.76\n",
       "4       1000_380     1000  2018-12-30      4.22\n",
       "...          ...      ...         ...       ...\n",
       "137730  1499_199     1499  2018-11-21      8.72\n",
       "137731  1499_200     1499  2018-10-20     10.89\n",
       "137732  1499_201     1499  2018-09-21      8.12\n",
       "137733  1499_202     1499  2018-10-10      0.37\n",
       "137734  1499_203     1499  2018-12-29     13.86\n",
       "\n",
       "[137735 rows x 4 columns]"
      ]
     },
     "metadata": {},
     "output_type": "display_data"
    }
   ],
   "source": [
    "# Print a sample of data for calls\n",
    "display(calls_df)"
   ]
  },
  {
   "cell_type": "code",
   "execution_count": 11,
   "metadata": {},
   "outputs": [
    {
     "name": "stdout",
     "output_type": "stream",
     "text": [
      "0\n",
      "\n",
      "0\n",
      "\n",
      "duration\n",
      "0.00     26834\n",
      "8.37       102\n",
      "4.02       102\n",
      "3.91       101\n",
      "4.30       100\n",
      "         ...  \n",
      "26.41        1\n",
      "26.44        1\n",
      "26.47        1\n",
      "26.48        1\n",
      "37.60        1\n",
      "Length: 2802, dtype: int64\n",
      "\n",
      "19.482339274694162\n"
     ]
    }
   ],
   "source": [
    "# checking for duplicated rows\n",
    "print(calls_df.duplicated().sum())\n",
    "print()\n",
    "\n",
    "# checking for duplicate IDs\n",
    "print(calls_df.duplicated(subset='id').sum())\n",
    "print()\n",
    "\n",
    "# determining number of entries for each unique value in duration column\n",
    "print(calls_df.value_counts('duration'))\n",
    "print()\n",
    "\n",
    "# calculating percentage of duration column that contains 0.0\n",
    "zero_percentage = 26834/137735*100\n",
    "print(zero_percentage)"
   ]
  },
  {
   "cell_type": "markdown",
   "metadata": {},
   "source": [
    "There appear to be no duplicate rows, missing values, formatting issues, or inappropriate data types, but if calculations are to be done with the call_date column, it should be converted to datetime instead of being kept as object. \n",
    "\n",
    "A large portion, almost 20% of the entries in the duration column are 0.0. While 0 is sometimes used as a placeholder for missing values, there are too many to justify ignoring. Since the data owner cannot be asked for clarification, it is best to keep the data. \n",
    "\n",
    "Since Megaline rounds seconds up to minutes for calls, each individual call is rounded up: even if the call lasted just one second, it will be counted as one minute. The datafile will need to include a column for the rounded call durations. \n",
    "\n",
    "It may also be beneficial during analysis if a month column was added to the data as well."
   ]
  },
  {
   "cell_type": "markdown",
   "metadata": {},
   "source": [
    " "
   ]
  },
  {
   "cell_type": "markdown",
   "metadata": {},
   "source": [
    "### Fix data <a id='fix_calls_df'></a>"
   ]
  },
  {
   "cell_type": "code",
   "execution_count": 12,
   "metadata": {},
   "outputs": [
    {
     "name": "stdout",
     "output_type": "stream",
     "text": [
      "<class 'pandas.core.frame.DataFrame'>\n",
      "RangeIndex: 137735 entries, 0 to 137734\n",
      "Data columns (total 4 columns):\n",
      " #   Column     Non-Null Count   Dtype         \n",
      "---  ------     --------------   -----         \n",
      " 0   id         137735 non-null  object        \n",
      " 1   user_id    137735 non-null  int64         \n",
      " 2   call_date  137735 non-null  datetime64[ns]\n",
      " 3   duration   137735 non-null  float64       \n",
      "dtypes: datetime64[ns](1), float64(1), int64(1), object(1)\n",
      "memory usage: 4.2+ MB\n"
     ]
    }
   ],
   "source": [
    "# Convert the call_date column to a pandas datetime format\n",
    "calls_df['call_date'] = pd.to_datetime(calls_df['call_date'])\n",
    "\n",
    "# Confirm data type was changed successfully\n",
    "calls_df.info()"
   ]
  },
  {
   "cell_type": "markdown",
   "metadata": {},
   "source": [
    "### Enrich data <a id='enrich_calls_df'></a>"
   ]
  },
  {
   "cell_type": "code",
   "execution_count": 13,
   "metadata": {},
   "outputs": [
    {
     "name": "stdout",
     "output_type": "stream",
     "text": [
      "<class 'pandas.core.frame.DataFrame'>\n",
      "RangeIndex: 137735 entries, 0 to 137734\n",
      "Data columns (total 6 columns):\n",
      " #   Column            Non-Null Count   Dtype         \n",
      "---  ------            --------------   -----         \n",
      " 0   id                137735 non-null  object        \n",
      " 1   user_id           137735 non-null  int64         \n",
      " 2   call_date         137735 non-null  datetime64[ns]\n",
      " 3   duration          137735 non-null  float64       \n",
      " 4   duration_rounded  137735 non-null  int64         \n",
      " 5   month             137735 non-null  period[M]     \n",
      "dtypes: datetime64[ns](1), float64(1), int64(2), object(1), period[M](1)\n",
      "memory usage: 6.3+ MB\n"
     ]
    },
    {
     "data": {
      "text/html": [
       "<div>\n",
       "<style scoped>\n",
       "    .dataframe tbody tr th:only-of-type {\n",
       "        vertical-align: middle;\n",
       "    }\n",
       "\n",
       "    .dataframe tbody tr th {\n",
       "        vertical-align: top;\n",
       "    }\n",
       "\n",
       "    .dataframe thead th {\n",
       "        text-align: right;\n",
       "    }\n",
       "</style>\n",
       "<table border=\"1\" class=\"dataframe\">\n",
       "  <thead>\n",
       "    <tr style=\"text-align: right;\">\n",
       "      <th></th>\n",
       "      <th>id</th>\n",
       "      <th>user_id</th>\n",
       "      <th>call_date</th>\n",
       "      <th>duration</th>\n",
       "      <th>duration_rounded</th>\n",
       "      <th>month</th>\n",
       "    </tr>\n",
       "  </thead>\n",
       "  <tbody>\n",
       "    <tr>\n",
       "      <th>0</th>\n",
       "      <td>1000_93</td>\n",
       "      <td>1000</td>\n",
       "      <td>2018-12-27</td>\n",
       "      <td>8.52</td>\n",
       "      <td>9</td>\n",
       "      <td>2018-12</td>\n",
       "    </tr>\n",
       "    <tr>\n",
       "      <th>1</th>\n",
       "      <td>1000_145</td>\n",
       "      <td>1000</td>\n",
       "      <td>2018-12-27</td>\n",
       "      <td>13.66</td>\n",
       "      <td>14</td>\n",
       "      <td>2018-12</td>\n",
       "    </tr>\n",
       "    <tr>\n",
       "      <th>2</th>\n",
       "      <td>1000_247</td>\n",
       "      <td>1000</td>\n",
       "      <td>2018-12-27</td>\n",
       "      <td>14.48</td>\n",
       "      <td>15</td>\n",
       "      <td>2018-12</td>\n",
       "    </tr>\n",
       "    <tr>\n",
       "      <th>3</th>\n",
       "      <td>1000_309</td>\n",
       "      <td>1000</td>\n",
       "      <td>2018-12-28</td>\n",
       "      <td>5.76</td>\n",
       "      <td>6</td>\n",
       "      <td>2018-12</td>\n",
       "    </tr>\n",
       "    <tr>\n",
       "      <th>4</th>\n",
       "      <td>1000_380</td>\n",
       "      <td>1000</td>\n",
       "      <td>2018-12-30</td>\n",
       "      <td>4.22</td>\n",
       "      <td>5</td>\n",
       "      <td>2018-12</td>\n",
       "    </tr>\n",
       "    <tr>\n",
       "      <th>...</th>\n",
       "      <td>...</td>\n",
       "      <td>...</td>\n",
       "      <td>...</td>\n",
       "      <td>...</td>\n",
       "      <td>...</td>\n",
       "      <td>...</td>\n",
       "    </tr>\n",
       "    <tr>\n",
       "      <th>137730</th>\n",
       "      <td>1499_199</td>\n",
       "      <td>1499</td>\n",
       "      <td>2018-11-21</td>\n",
       "      <td>8.72</td>\n",
       "      <td>9</td>\n",
       "      <td>2018-11</td>\n",
       "    </tr>\n",
       "    <tr>\n",
       "      <th>137731</th>\n",
       "      <td>1499_200</td>\n",
       "      <td>1499</td>\n",
       "      <td>2018-10-20</td>\n",
       "      <td>10.89</td>\n",
       "      <td>11</td>\n",
       "      <td>2018-10</td>\n",
       "    </tr>\n",
       "    <tr>\n",
       "      <th>137732</th>\n",
       "      <td>1499_201</td>\n",
       "      <td>1499</td>\n",
       "      <td>2018-09-21</td>\n",
       "      <td>8.12</td>\n",
       "      <td>9</td>\n",
       "      <td>2018-09</td>\n",
       "    </tr>\n",
       "    <tr>\n",
       "      <th>137733</th>\n",
       "      <td>1499_202</td>\n",
       "      <td>1499</td>\n",
       "      <td>2018-10-10</td>\n",
       "      <td>0.37</td>\n",
       "      <td>1</td>\n",
       "      <td>2018-10</td>\n",
       "    </tr>\n",
       "    <tr>\n",
       "      <th>137734</th>\n",
       "      <td>1499_203</td>\n",
       "      <td>1499</td>\n",
       "      <td>2018-12-29</td>\n",
       "      <td>13.86</td>\n",
       "      <td>14</td>\n",
       "      <td>2018-12</td>\n",
       "    </tr>\n",
       "  </tbody>\n",
       "</table>\n",
       "<p>137735 rows × 6 columns</p>\n",
       "</div>"
      ],
      "text/plain": [
       "              id  user_id  call_date  duration  duration_rounded    month\n",
       "0        1000_93     1000 2018-12-27      8.52                 9  2018-12\n",
       "1       1000_145     1000 2018-12-27     13.66                14  2018-12\n",
       "2       1000_247     1000 2018-12-27     14.48                15  2018-12\n",
       "3       1000_309     1000 2018-12-28      5.76                 6  2018-12\n",
       "4       1000_380     1000 2018-12-30      4.22                 5  2018-12\n",
       "...          ...      ...        ...       ...               ...      ...\n",
       "137730  1499_199     1499 2018-11-21      8.72                 9  2018-11\n",
       "137731  1499_200     1499 2018-10-20     10.89                11  2018-10\n",
       "137732  1499_201     1499 2018-09-21      8.12                 9  2018-09\n",
       "137733  1499_202     1499 2018-10-10      0.37                 1  2018-10\n",
       "137734  1499_203     1499 2018-12-29     13.86                14  2018-12\n",
       "\n",
       "[137735 rows x 6 columns]"
      ]
     },
     "metadata": {},
     "output_type": "display_data"
    }
   ],
   "source": [
    "# Adding a column showing the duration time rounded up to the nearest integer and replacing the 0.0 values with 1\n",
    "calls_df['duration_rounded'] = calls_df['duration'].apply(lambda x: math.ceil(x) if x > 0 else 1)\n",
    "\n",
    "# Add a new column month to the dataframe\n",
    "calls_df['month'] = calls_df['call_date'].dt.to_period('M')\n",
    "\n",
    "# Confirm data type was changed successfully\n",
    "calls_df.info()\n",
    "\n",
    "display(calls_df)"
   ]
  },
  {
   "cell_type": "markdown",
   "metadata": {},
   "source": [
    "## Messages <a id='messages_df'></a>"
   ]
  },
  {
   "cell_type": "code",
   "execution_count": 14,
   "metadata": {},
   "outputs": [
    {
     "name": "stdout",
     "output_type": "stream",
     "text": [
      "<class 'pandas.core.frame.DataFrame'>\n",
      "RangeIndex: 76051 entries, 0 to 76050\n",
      "Data columns (total 3 columns):\n",
      " #   Column        Non-Null Count  Dtype \n",
      "---  ------        --------------  ----- \n",
      " 0   id            76051 non-null  object\n",
      " 1   user_id       76051 non-null  int64 \n",
      " 2   message_date  76051 non-null  object\n",
      "dtypes: int64(1), object(2)\n",
      "memory usage: 1.7+ MB\n"
     ]
    }
   ],
   "source": [
    "# Print the general/summary information about the messages' DataFrame\n",
    "messages_df.info()"
   ]
  },
  {
   "cell_type": "code",
   "execution_count": 15,
   "metadata": {},
   "outputs": [
    {
     "data": {
      "text/html": [
       "<div>\n",
       "<style scoped>\n",
       "    .dataframe tbody tr th:only-of-type {\n",
       "        vertical-align: middle;\n",
       "    }\n",
       "\n",
       "    .dataframe tbody tr th {\n",
       "        vertical-align: top;\n",
       "    }\n",
       "\n",
       "    .dataframe thead th {\n",
       "        text-align: right;\n",
       "    }\n",
       "</style>\n",
       "<table border=\"1\" class=\"dataframe\">\n",
       "  <thead>\n",
       "    <tr style=\"text-align: right;\">\n",
       "      <th></th>\n",
       "      <th>id</th>\n",
       "      <th>user_id</th>\n",
       "      <th>message_date</th>\n",
       "    </tr>\n",
       "  </thead>\n",
       "  <tbody>\n",
       "    <tr>\n",
       "      <th>0</th>\n",
       "      <td>1000_125</td>\n",
       "      <td>1000</td>\n",
       "      <td>2018-12-27</td>\n",
       "    </tr>\n",
       "    <tr>\n",
       "      <th>1</th>\n",
       "      <td>1000_160</td>\n",
       "      <td>1000</td>\n",
       "      <td>2018-12-31</td>\n",
       "    </tr>\n",
       "    <tr>\n",
       "      <th>2</th>\n",
       "      <td>1000_223</td>\n",
       "      <td>1000</td>\n",
       "      <td>2018-12-31</td>\n",
       "    </tr>\n",
       "    <tr>\n",
       "      <th>3</th>\n",
       "      <td>1000_251</td>\n",
       "      <td>1000</td>\n",
       "      <td>2018-12-27</td>\n",
       "    </tr>\n",
       "    <tr>\n",
       "      <th>4</th>\n",
       "      <td>1000_255</td>\n",
       "      <td>1000</td>\n",
       "      <td>2018-12-26</td>\n",
       "    </tr>\n",
       "    <tr>\n",
       "      <th>...</th>\n",
       "      <td>...</td>\n",
       "      <td>...</td>\n",
       "      <td>...</td>\n",
       "    </tr>\n",
       "    <tr>\n",
       "      <th>76046</th>\n",
       "      <td>1497_526</td>\n",
       "      <td>1497</td>\n",
       "      <td>2018-12-24</td>\n",
       "    </tr>\n",
       "    <tr>\n",
       "      <th>76047</th>\n",
       "      <td>1497_536</td>\n",
       "      <td>1497</td>\n",
       "      <td>2018-12-24</td>\n",
       "    </tr>\n",
       "    <tr>\n",
       "      <th>76048</th>\n",
       "      <td>1497_547</td>\n",
       "      <td>1497</td>\n",
       "      <td>2018-12-31</td>\n",
       "    </tr>\n",
       "    <tr>\n",
       "      <th>76049</th>\n",
       "      <td>1497_558</td>\n",
       "      <td>1497</td>\n",
       "      <td>2018-12-24</td>\n",
       "    </tr>\n",
       "    <tr>\n",
       "      <th>76050</th>\n",
       "      <td>1497_613</td>\n",
       "      <td>1497</td>\n",
       "      <td>2018-12-23</td>\n",
       "    </tr>\n",
       "  </tbody>\n",
       "</table>\n",
       "<p>76051 rows × 3 columns</p>\n",
       "</div>"
      ],
      "text/plain": [
       "             id  user_id message_date\n",
       "0      1000_125     1000   2018-12-27\n",
       "1      1000_160     1000   2018-12-31\n",
       "2      1000_223     1000   2018-12-31\n",
       "3      1000_251     1000   2018-12-27\n",
       "4      1000_255     1000   2018-12-26\n",
       "...         ...      ...          ...\n",
       "76046  1497_526     1497   2018-12-24\n",
       "76047  1497_536     1497   2018-12-24\n",
       "76048  1497_547     1497   2018-12-31\n",
       "76049  1497_558     1497   2018-12-24\n",
       "76050  1497_613     1497   2018-12-23\n",
       "\n",
       "[76051 rows x 3 columns]"
      ]
     },
     "metadata": {},
     "output_type": "display_data"
    }
   ],
   "source": [
    "# Print a sample of data for messages\n",
    "display(messages_df)"
   ]
  },
  {
   "cell_type": "code",
   "execution_count": 16,
   "metadata": {},
   "outputs": [
    {
     "name": "stdout",
     "output_type": "stream",
     "text": [
      "0\n",
      "\n",
      "0\n",
      "\n"
     ]
    }
   ],
   "source": [
    "# checking for duplicated rows\n",
    "print(messages_df.duplicated().sum())\n",
    "print()\n",
    "\n",
    "# checking for duplicate IDs\n",
    "print(messages_df.duplicated(subset='id').sum())\n",
    "print()"
   ]
  },
  {
   "cell_type": "markdown",
   "metadata": {},
   "source": [
    "There appears to be no missing values, duplicates, or formatting issues. Appropriate data types are used, but if calculations are to be done with the message_date column, it should be converted to datetime instead of being kept as object. \n",
    "\n",
    "It may also be beneficial during analysis if a month column was added to the data as well."
   ]
  },
  {
   "cell_type": "markdown",
   "metadata": {},
   "source": [
    "### Fix data <a id='fix_messages_df'></a>"
   ]
  },
  {
   "cell_type": "code",
   "execution_count": 17,
   "metadata": {},
   "outputs": [
    {
     "name": "stdout",
     "output_type": "stream",
     "text": [
      "<class 'pandas.core.frame.DataFrame'>\n",
      "RangeIndex: 76051 entries, 0 to 76050\n",
      "Data columns (total 3 columns):\n",
      " #   Column        Non-Null Count  Dtype         \n",
      "---  ------        --------------  -----         \n",
      " 0   id            76051 non-null  object        \n",
      " 1   user_id       76051 non-null  int64         \n",
      " 2   message_date  76051 non-null  datetime64[ns]\n",
      "dtypes: datetime64[ns](1), int64(1), object(1)\n",
      "memory usage: 1.7+ MB\n"
     ]
    }
   ],
   "source": [
    "# Convert the call_date column to a pandas datetime format\n",
    "messages_df['message_date'] = pd.to_datetime(messages_df['message_date'])\n",
    "\n",
    "# Confirm data type was changed successfully\n",
    "messages_df.info()"
   ]
  },
  {
   "cell_type": "markdown",
   "metadata": {},
   "source": [
    "### Enrich data <a id='enrich_messages_df'></a>"
   ]
  },
  {
   "cell_type": "code",
   "execution_count": 18,
   "metadata": {},
   "outputs": [
    {
     "data": {
      "text/html": [
       "<div>\n",
       "<style scoped>\n",
       "    .dataframe tbody tr th:only-of-type {\n",
       "        vertical-align: middle;\n",
       "    }\n",
       "\n",
       "    .dataframe tbody tr th {\n",
       "        vertical-align: top;\n",
       "    }\n",
       "\n",
       "    .dataframe thead th {\n",
       "        text-align: right;\n",
       "    }\n",
       "</style>\n",
       "<table border=\"1\" class=\"dataframe\">\n",
       "  <thead>\n",
       "    <tr style=\"text-align: right;\">\n",
       "      <th></th>\n",
       "      <th>id</th>\n",
       "      <th>user_id</th>\n",
       "      <th>message_date</th>\n",
       "      <th>month</th>\n",
       "    </tr>\n",
       "  </thead>\n",
       "  <tbody>\n",
       "    <tr>\n",
       "      <th>0</th>\n",
       "      <td>1000_125</td>\n",
       "      <td>1000</td>\n",
       "      <td>2018-12-27</td>\n",
       "      <td>2018-12</td>\n",
       "    </tr>\n",
       "    <tr>\n",
       "      <th>1</th>\n",
       "      <td>1000_160</td>\n",
       "      <td>1000</td>\n",
       "      <td>2018-12-31</td>\n",
       "      <td>2018-12</td>\n",
       "    </tr>\n",
       "    <tr>\n",
       "      <th>2</th>\n",
       "      <td>1000_223</td>\n",
       "      <td>1000</td>\n",
       "      <td>2018-12-31</td>\n",
       "      <td>2018-12</td>\n",
       "    </tr>\n",
       "    <tr>\n",
       "      <th>3</th>\n",
       "      <td>1000_251</td>\n",
       "      <td>1000</td>\n",
       "      <td>2018-12-27</td>\n",
       "      <td>2018-12</td>\n",
       "    </tr>\n",
       "    <tr>\n",
       "      <th>4</th>\n",
       "      <td>1000_255</td>\n",
       "      <td>1000</td>\n",
       "      <td>2018-12-26</td>\n",
       "      <td>2018-12</td>\n",
       "    </tr>\n",
       "    <tr>\n",
       "      <th>...</th>\n",
       "      <td>...</td>\n",
       "      <td>...</td>\n",
       "      <td>...</td>\n",
       "      <td>...</td>\n",
       "    </tr>\n",
       "    <tr>\n",
       "      <th>76046</th>\n",
       "      <td>1497_526</td>\n",
       "      <td>1497</td>\n",
       "      <td>2018-12-24</td>\n",
       "      <td>2018-12</td>\n",
       "    </tr>\n",
       "    <tr>\n",
       "      <th>76047</th>\n",
       "      <td>1497_536</td>\n",
       "      <td>1497</td>\n",
       "      <td>2018-12-24</td>\n",
       "      <td>2018-12</td>\n",
       "    </tr>\n",
       "    <tr>\n",
       "      <th>76048</th>\n",
       "      <td>1497_547</td>\n",
       "      <td>1497</td>\n",
       "      <td>2018-12-31</td>\n",
       "      <td>2018-12</td>\n",
       "    </tr>\n",
       "    <tr>\n",
       "      <th>76049</th>\n",
       "      <td>1497_558</td>\n",
       "      <td>1497</td>\n",
       "      <td>2018-12-24</td>\n",
       "      <td>2018-12</td>\n",
       "    </tr>\n",
       "    <tr>\n",
       "      <th>76050</th>\n",
       "      <td>1497_613</td>\n",
       "      <td>1497</td>\n",
       "      <td>2018-12-23</td>\n",
       "      <td>2018-12</td>\n",
       "    </tr>\n",
       "  </tbody>\n",
       "</table>\n",
       "<p>76051 rows × 4 columns</p>\n",
       "</div>"
      ],
      "text/plain": [
       "             id  user_id message_date    month\n",
       "0      1000_125     1000   2018-12-27  2018-12\n",
       "1      1000_160     1000   2018-12-31  2018-12\n",
       "2      1000_223     1000   2018-12-31  2018-12\n",
       "3      1000_251     1000   2018-12-27  2018-12\n",
       "4      1000_255     1000   2018-12-26  2018-12\n",
       "...         ...      ...          ...      ...\n",
       "76046  1497_526     1497   2018-12-24  2018-12\n",
       "76047  1497_536     1497   2018-12-24  2018-12\n",
       "76048  1497_547     1497   2018-12-31  2018-12\n",
       "76049  1497_558     1497   2018-12-24  2018-12\n",
       "76050  1497_613     1497   2018-12-23  2018-12\n",
       "\n",
       "[76051 rows x 4 columns]"
      ]
     },
     "metadata": {},
     "output_type": "display_data"
    }
   ],
   "source": [
    "# Add a new column month to the dataframe\n",
    "messages_df['month'] = messages_df['message_date'].dt.to_period('M')\n",
    "\n",
    "display(messages_df)"
   ]
  },
  {
   "cell_type": "markdown",
   "metadata": {},
   "source": [
    "## Internet <a id='internet_df'></a>"
   ]
  },
  {
   "cell_type": "code",
   "execution_count": 19,
   "metadata": {},
   "outputs": [
    {
     "name": "stdout",
     "output_type": "stream",
     "text": [
      "<class 'pandas.core.frame.DataFrame'>\n",
      "RangeIndex: 104825 entries, 0 to 104824\n",
      "Data columns (total 4 columns):\n",
      " #   Column        Non-Null Count   Dtype  \n",
      "---  ------        --------------   -----  \n",
      " 0   id            104825 non-null  object \n",
      " 1   user_id       104825 non-null  int64  \n",
      " 2   session_date  104825 non-null  object \n",
      " 3   mb_used       104825 non-null  float64\n",
      "dtypes: float64(1), int64(1), object(2)\n",
      "memory usage: 3.2+ MB\n"
     ]
    }
   ],
   "source": [
    "# Print the general/summary information about the internet DataFrame\n",
    "internet_df.info()"
   ]
  },
  {
   "cell_type": "code",
   "execution_count": 20,
   "metadata": {},
   "outputs": [
    {
     "data": {
      "text/html": [
       "<div>\n",
       "<style scoped>\n",
       "    .dataframe tbody tr th:only-of-type {\n",
       "        vertical-align: middle;\n",
       "    }\n",
       "\n",
       "    .dataframe tbody tr th {\n",
       "        vertical-align: top;\n",
       "    }\n",
       "\n",
       "    .dataframe thead th {\n",
       "        text-align: right;\n",
       "    }\n",
       "</style>\n",
       "<table border=\"1\" class=\"dataframe\">\n",
       "  <thead>\n",
       "    <tr style=\"text-align: right;\">\n",
       "      <th></th>\n",
       "      <th>id</th>\n",
       "      <th>user_id</th>\n",
       "      <th>session_date</th>\n",
       "      <th>mb_used</th>\n",
       "    </tr>\n",
       "  </thead>\n",
       "  <tbody>\n",
       "    <tr>\n",
       "      <th>0</th>\n",
       "      <td>1000_13</td>\n",
       "      <td>1000</td>\n",
       "      <td>2018-12-29</td>\n",
       "      <td>89.86</td>\n",
       "    </tr>\n",
       "    <tr>\n",
       "      <th>1</th>\n",
       "      <td>1000_204</td>\n",
       "      <td>1000</td>\n",
       "      <td>2018-12-31</td>\n",
       "      <td>0.00</td>\n",
       "    </tr>\n",
       "    <tr>\n",
       "      <th>2</th>\n",
       "      <td>1000_379</td>\n",
       "      <td>1000</td>\n",
       "      <td>2018-12-28</td>\n",
       "      <td>660.40</td>\n",
       "    </tr>\n",
       "    <tr>\n",
       "      <th>3</th>\n",
       "      <td>1000_413</td>\n",
       "      <td>1000</td>\n",
       "      <td>2018-12-26</td>\n",
       "      <td>270.99</td>\n",
       "    </tr>\n",
       "    <tr>\n",
       "      <th>4</th>\n",
       "      <td>1000_442</td>\n",
       "      <td>1000</td>\n",
       "      <td>2018-12-27</td>\n",
       "      <td>880.22</td>\n",
       "    </tr>\n",
       "    <tr>\n",
       "      <th>...</th>\n",
       "      <td>...</td>\n",
       "      <td>...</td>\n",
       "      <td>...</td>\n",
       "      <td>...</td>\n",
       "    </tr>\n",
       "    <tr>\n",
       "      <th>104820</th>\n",
       "      <td>1499_215</td>\n",
       "      <td>1499</td>\n",
       "      <td>2018-10-20</td>\n",
       "      <td>218.06</td>\n",
       "    </tr>\n",
       "    <tr>\n",
       "      <th>104821</th>\n",
       "      <td>1499_216</td>\n",
       "      <td>1499</td>\n",
       "      <td>2018-12-30</td>\n",
       "      <td>304.72</td>\n",
       "    </tr>\n",
       "    <tr>\n",
       "      <th>104822</th>\n",
       "      <td>1499_217</td>\n",
       "      <td>1499</td>\n",
       "      <td>2018-09-22</td>\n",
       "      <td>292.75</td>\n",
       "    </tr>\n",
       "    <tr>\n",
       "      <th>104823</th>\n",
       "      <td>1499_218</td>\n",
       "      <td>1499</td>\n",
       "      <td>2018-12-07</td>\n",
       "      <td>0.00</td>\n",
       "    </tr>\n",
       "    <tr>\n",
       "      <th>104824</th>\n",
       "      <td>1499_219</td>\n",
       "      <td>1499</td>\n",
       "      <td>2018-12-24</td>\n",
       "      <td>758.31</td>\n",
       "    </tr>\n",
       "  </tbody>\n",
       "</table>\n",
       "<p>104825 rows × 4 columns</p>\n",
       "</div>"
      ],
      "text/plain": [
       "              id  user_id session_date  mb_used\n",
       "0        1000_13     1000   2018-12-29    89.86\n",
       "1       1000_204     1000   2018-12-31     0.00\n",
       "2       1000_379     1000   2018-12-28   660.40\n",
       "3       1000_413     1000   2018-12-26   270.99\n",
       "4       1000_442     1000   2018-12-27   880.22\n",
       "...          ...      ...          ...      ...\n",
       "104820  1499_215     1499   2018-10-20   218.06\n",
       "104821  1499_216     1499   2018-12-30   304.72\n",
       "104822  1499_217     1499   2018-09-22   292.75\n",
       "104823  1499_218     1499   2018-12-07     0.00\n",
       "104824  1499_219     1499   2018-12-24   758.31\n",
       "\n",
       "[104825 rows x 4 columns]"
      ]
     },
     "metadata": {},
     "output_type": "display_data"
    }
   ],
   "source": [
    "# Print a sample of data for the internet traffic\n",
    "display(internet_df)"
   ]
  },
  {
   "cell_type": "code",
   "execution_count": 21,
   "metadata": {},
   "outputs": [
    {
     "name": "stdout",
     "output_type": "stream",
     "text": [
      "0\n",
      "\n",
      "0\n",
      "\n",
      "mb_used\n",
      "0.00       13747\n",
      "435.77         8\n",
      "414.46         8\n",
      "355.33         7\n",
      "309.68         7\n",
      "           ...  \n",
      "369.32         1\n",
      "369.35         1\n",
      "369.36         1\n",
      "369.37         1\n",
      "1693.47        1\n",
      "Length: 57624, dtype: int64\n",
      "\n",
      "13.11423801574052\n"
     ]
    }
   ],
   "source": [
    "# checking for duplicated rows\n",
    "print(internet_df.duplicated().sum())\n",
    "print()\n",
    "\n",
    "# checking for duplicate IDs\n",
    "print(internet_df.duplicated(subset='id').sum())\n",
    "print()\n",
    "\n",
    "# determining number of entries for each unique value in mb_used column\n",
    "print(internet_df.value_counts('mb_used'))\n",
    "print()\n",
    "\n",
    "# calculating percentage of duration column that contains 0.0\n",
    "zero_percentage_mb = 13747/104825*100\n",
    "print(zero_percentage_mb)"
   ]
  },
  {
   "cell_type": "markdown",
   "metadata": {},
   "source": [
    "There appear to be no duplicate rows, missing values, formatting issues, or inappropriate data types, but if calculations are to be done with the message_date column, it should be converted to datetime instead of being kept as object.\n",
    "\n",
    "However a large portion, about 13% of the entries in the mb_used column are 0.00. While 0 is sometimes used as a placeholder for missing values, there are too many to justify ignoring. Since the data owner cannot be asked for clarification, it is best to keep the data. \n",
    "\n",
    "It may also be beneficial during analysis if a month column was added to the data as well."
   ]
  },
  {
   "cell_type": "markdown",
   "metadata": {},
   "source": [
    " "
   ]
  },
  {
   "cell_type": "markdown",
   "metadata": {},
   "source": [
    "### Fix data <a id='fix_internet_df'></a>"
   ]
  },
  {
   "cell_type": "code",
   "execution_count": 22,
   "metadata": {},
   "outputs": [
    {
     "name": "stdout",
     "output_type": "stream",
     "text": [
      "<class 'pandas.core.frame.DataFrame'>\n",
      "RangeIndex: 104825 entries, 0 to 104824\n",
      "Data columns (total 4 columns):\n",
      " #   Column        Non-Null Count   Dtype         \n",
      "---  ------        --------------   -----         \n",
      " 0   id            104825 non-null  object        \n",
      " 1   user_id       104825 non-null  int64         \n",
      " 2   session_date  104825 non-null  datetime64[ns]\n",
      " 3   mb_used       104825 non-null  float64       \n",
      "dtypes: datetime64[ns](1), float64(1), int64(1), object(1)\n",
      "memory usage: 3.2+ MB\n"
     ]
    }
   ],
   "source": [
    "# Convert the session_date column to a pandas datetime format\n",
    "internet_df['session_date'] = pd.to_datetime(internet_df['session_date'])\n",
    "\n",
    "# Confirm data type was changed successfully\n",
    "internet_df.info()"
   ]
  },
  {
   "cell_type": "markdown",
   "metadata": {},
   "source": [
    "### Enrich data <a id='enrich_internet_df'></a>"
   ]
  },
  {
   "cell_type": "code",
   "execution_count": 23,
   "metadata": {},
   "outputs": [
    {
     "data": {
      "text/html": [
       "<div>\n",
       "<style scoped>\n",
       "    .dataframe tbody tr th:only-of-type {\n",
       "        vertical-align: middle;\n",
       "    }\n",
       "\n",
       "    .dataframe tbody tr th {\n",
       "        vertical-align: top;\n",
       "    }\n",
       "\n",
       "    .dataframe thead th {\n",
       "        text-align: right;\n",
       "    }\n",
       "</style>\n",
       "<table border=\"1\" class=\"dataframe\">\n",
       "  <thead>\n",
       "    <tr style=\"text-align: right;\">\n",
       "      <th></th>\n",
       "      <th>id</th>\n",
       "      <th>user_id</th>\n",
       "      <th>session_date</th>\n",
       "      <th>mb_used</th>\n",
       "      <th>month</th>\n",
       "    </tr>\n",
       "  </thead>\n",
       "  <tbody>\n",
       "    <tr>\n",
       "      <th>0</th>\n",
       "      <td>1000_13</td>\n",
       "      <td>1000</td>\n",
       "      <td>2018-12-29</td>\n",
       "      <td>89.86</td>\n",
       "      <td>2018-12</td>\n",
       "    </tr>\n",
       "    <tr>\n",
       "      <th>1</th>\n",
       "      <td>1000_204</td>\n",
       "      <td>1000</td>\n",
       "      <td>2018-12-31</td>\n",
       "      <td>0.00</td>\n",
       "      <td>2018-12</td>\n",
       "    </tr>\n",
       "    <tr>\n",
       "      <th>2</th>\n",
       "      <td>1000_379</td>\n",
       "      <td>1000</td>\n",
       "      <td>2018-12-28</td>\n",
       "      <td>660.40</td>\n",
       "      <td>2018-12</td>\n",
       "    </tr>\n",
       "    <tr>\n",
       "      <th>3</th>\n",
       "      <td>1000_413</td>\n",
       "      <td>1000</td>\n",
       "      <td>2018-12-26</td>\n",
       "      <td>270.99</td>\n",
       "      <td>2018-12</td>\n",
       "    </tr>\n",
       "    <tr>\n",
       "      <th>4</th>\n",
       "      <td>1000_442</td>\n",
       "      <td>1000</td>\n",
       "      <td>2018-12-27</td>\n",
       "      <td>880.22</td>\n",
       "      <td>2018-12</td>\n",
       "    </tr>\n",
       "    <tr>\n",
       "      <th>...</th>\n",
       "      <td>...</td>\n",
       "      <td>...</td>\n",
       "      <td>...</td>\n",
       "      <td>...</td>\n",
       "      <td>...</td>\n",
       "    </tr>\n",
       "    <tr>\n",
       "      <th>104820</th>\n",
       "      <td>1499_215</td>\n",
       "      <td>1499</td>\n",
       "      <td>2018-10-20</td>\n",
       "      <td>218.06</td>\n",
       "      <td>2018-10</td>\n",
       "    </tr>\n",
       "    <tr>\n",
       "      <th>104821</th>\n",
       "      <td>1499_216</td>\n",
       "      <td>1499</td>\n",
       "      <td>2018-12-30</td>\n",
       "      <td>304.72</td>\n",
       "      <td>2018-12</td>\n",
       "    </tr>\n",
       "    <tr>\n",
       "      <th>104822</th>\n",
       "      <td>1499_217</td>\n",
       "      <td>1499</td>\n",
       "      <td>2018-09-22</td>\n",
       "      <td>292.75</td>\n",
       "      <td>2018-09</td>\n",
       "    </tr>\n",
       "    <tr>\n",
       "      <th>104823</th>\n",
       "      <td>1499_218</td>\n",
       "      <td>1499</td>\n",
       "      <td>2018-12-07</td>\n",
       "      <td>0.00</td>\n",
       "      <td>2018-12</td>\n",
       "    </tr>\n",
       "    <tr>\n",
       "      <th>104824</th>\n",
       "      <td>1499_219</td>\n",
       "      <td>1499</td>\n",
       "      <td>2018-12-24</td>\n",
       "      <td>758.31</td>\n",
       "      <td>2018-12</td>\n",
       "    </tr>\n",
       "  </tbody>\n",
       "</table>\n",
       "<p>104825 rows × 5 columns</p>\n",
       "</div>"
      ],
      "text/plain": [
       "              id  user_id session_date  mb_used    month\n",
       "0        1000_13     1000   2018-12-29    89.86  2018-12\n",
       "1       1000_204     1000   2018-12-31     0.00  2018-12\n",
       "2       1000_379     1000   2018-12-28   660.40  2018-12\n",
       "3       1000_413     1000   2018-12-26   270.99  2018-12\n",
       "4       1000_442     1000   2018-12-27   880.22  2018-12\n",
       "...          ...      ...          ...      ...      ...\n",
       "104820  1499_215     1499   2018-10-20   218.06  2018-10\n",
       "104821  1499_216     1499   2018-12-30   304.72  2018-12\n",
       "104822  1499_217     1499   2018-09-22   292.75  2018-09\n",
       "104823  1499_218     1499   2018-12-07     0.00  2018-12\n",
       "104824  1499_219     1499   2018-12-24   758.31  2018-12\n",
       "\n",
       "[104825 rows x 5 columns]"
      ]
     },
     "metadata": {},
     "output_type": "display_data"
    }
   ],
   "source": [
    "# Add a new column month to the dataframe\n",
    "internet_df['month'] = internet_df['session_date'].dt.to_period('M')\n",
    "\n",
    "display(internet_df)"
   ]
  },
  {
   "cell_type": "markdown",
   "metadata": {},
   "source": [
    "## Study plan conditions <a id='study_plan_conditions'></a>"
   ]
  },
  {
   "cell_type": "markdown",
   "metadata": {},
   "source": [
    "Print out the plan conditions and make sure they are clear for you\n",
    "\n",
    "### Surf <a class=\"tocSkip\">\n",
    "    Monthly charge: $20\n",
    "    500 monthly minutes, 50 texts, and 15 GB of data\n",
    "    After exceeding the package limits:\n",
    "       1 minute: 3 cents\n",
    "       1 text message: 3 cents\n",
    "       1 GB of data: $10\n",
    "\n",
    "### Ultimate <a class=\"tocSkip\">\n",
    "    Monthly charge: $70\n",
    "    3000 monthly minutes, 1000 text messages, and 30 GB of data\n",
    "    After exceeding the package limits:\n",
    "       1 minute: 1 cent\n",
    "       1 text message: 1 cent\n",
    "       1 GB of data: $7"
   ]
  },
  {
   "cell_type": "markdown",
   "metadata": {},
   "source": [
    "## Aggregate data per user <a id='aggregate'></a>"
   ]
  },
  {
   "cell_type": "code",
   "execution_count": 24,
   "metadata": {},
   "outputs": [
    {
     "data": {
      "text/html": [
       "<div>\n",
       "<style scoped>\n",
       "    .dataframe tbody tr th:only-of-type {\n",
       "        vertical-align: middle;\n",
       "    }\n",
       "\n",
       "    .dataframe tbody tr th {\n",
       "        vertical-align: top;\n",
       "    }\n",
       "\n",
       "    .dataframe thead th {\n",
       "        text-align: right;\n",
       "    }\n",
       "</style>\n",
       "<table border=\"1\" class=\"dataframe\">\n",
       "  <thead>\n",
       "    <tr style=\"text-align: right;\">\n",
       "      <th></th>\n",
       "      <th>user_id</th>\n",
       "      <th>month</th>\n",
       "      <th>calls</th>\n",
       "    </tr>\n",
       "  </thead>\n",
       "  <tbody>\n",
       "    <tr>\n",
       "      <th>0</th>\n",
       "      <td>1000</td>\n",
       "      <td>2018-12</td>\n",
       "      <td>16</td>\n",
       "    </tr>\n",
       "    <tr>\n",
       "      <th>1</th>\n",
       "      <td>1001</td>\n",
       "      <td>2018-08</td>\n",
       "      <td>27</td>\n",
       "    </tr>\n",
       "    <tr>\n",
       "      <th>2</th>\n",
       "      <td>1001</td>\n",
       "      <td>2018-09</td>\n",
       "      <td>49</td>\n",
       "    </tr>\n",
       "    <tr>\n",
       "      <th>3</th>\n",
       "      <td>1001</td>\n",
       "      <td>2018-10</td>\n",
       "      <td>65</td>\n",
       "    </tr>\n",
       "    <tr>\n",
       "      <th>4</th>\n",
       "      <td>1001</td>\n",
       "      <td>2018-11</td>\n",
       "      <td>64</td>\n",
       "    </tr>\n",
       "    <tr>\n",
       "      <th>...</th>\n",
       "      <td>...</td>\n",
       "      <td>...</td>\n",
       "      <td>...</td>\n",
       "    </tr>\n",
       "    <tr>\n",
       "      <th>2253</th>\n",
       "      <td>1498</td>\n",
       "      <td>2018-12</td>\n",
       "      <td>39</td>\n",
       "    </tr>\n",
       "    <tr>\n",
       "      <th>2254</th>\n",
       "      <td>1499</td>\n",
       "      <td>2018-09</td>\n",
       "      <td>41</td>\n",
       "    </tr>\n",
       "    <tr>\n",
       "      <th>2255</th>\n",
       "      <td>1499</td>\n",
       "      <td>2018-10</td>\n",
       "      <td>53</td>\n",
       "    </tr>\n",
       "    <tr>\n",
       "      <th>2256</th>\n",
       "      <td>1499</td>\n",
       "      <td>2018-11</td>\n",
       "      <td>45</td>\n",
       "    </tr>\n",
       "    <tr>\n",
       "      <th>2257</th>\n",
       "      <td>1499</td>\n",
       "      <td>2018-12</td>\n",
       "      <td>65</td>\n",
       "    </tr>\n",
       "  </tbody>\n",
       "</table>\n",
       "<p>2258 rows × 3 columns</p>\n",
       "</div>"
      ],
      "text/plain": [
       "      user_id    month  calls\n",
       "0        1000  2018-12     16\n",
       "1        1001  2018-08     27\n",
       "2        1001  2018-09     49\n",
       "3        1001  2018-10     65\n",
       "4        1001  2018-11     64\n",
       "...       ...      ...    ...\n",
       "2253     1498  2018-12     39\n",
       "2254     1499  2018-09     41\n",
       "2255     1499  2018-10     53\n",
       "2256     1499  2018-11     45\n",
       "2257     1499  2018-12     65\n",
       "\n",
       "[2258 rows x 3 columns]"
      ]
     },
     "metadata": {},
     "output_type": "display_data"
    }
   ],
   "source": [
    "# Calculate the number of calls made by each user per month. Save the result.\n",
    "calls_per_month = calls_df.groupby(['user_id', 'month']).size()\n",
    "\n",
    "calls_per_month = calls_df.groupby(['user_id', 'month']).size().reset_index(name='calls')\n",
    "\n",
    "display(calls_per_month)"
   ]
  },
  {
   "cell_type": "code",
   "execution_count": 25,
   "metadata": {},
   "outputs": [
    {
     "data": {
      "text/html": [
       "<div>\n",
       "<style scoped>\n",
       "    .dataframe tbody tr th:only-of-type {\n",
       "        vertical-align: middle;\n",
       "    }\n",
       "\n",
       "    .dataframe tbody tr th {\n",
       "        vertical-align: top;\n",
       "    }\n",
       "\n",
       "    .dataframe thead th {\n",
       "        text-align: right;\n",
       "    }\n",
       "</style>\n",
       "<table border=\"1\" class=\"dataframe\">\n",
       "  <thead>\n",
       "    <tr style=\"text-align: right;\">\n",
       "      <th></th>\n",
       "      <th></th>\n",
       "      <th>total_duration</th>\n",
       "    </tr>\n",
       "    <tr>\n",
       "      <th>user_id</th>\n",
       "      <th>month</th>\n",
       "      <th></th>\n",
       "    </tr>\n",
       "  </thead>\n",
       "  <tbody>\n",
       "    <tr>\n",
       "      <th>1000</th>\n",
       "      <th>2018-12</th>\n",
       "      <td>124</td>\n",
       "    </tr>\n",
       "    <tr>\n",
       "      <th rowspan=\"4\" valign=\"top\">1001</th>\n",
       "      <th>2018-08</th>\n",
       "      <td>187</td>\n",
       "    </tr>\n",
       "    <tr>\n",
       "      <th>2018-09</th>\n",
       "      <td>326</td>\n",
       "    </tr>\n",
       "    <tr>\n",
       "      <th>2018-10</th>\n",
       "      <td>411</td>\n",
       "    </tr>\n",
       "    <tr>\n",
       "      <th>2018-11</th>\n",
       "      <td>441</td>\n",
       "    </tr>\n",
       "    <tr>\n",
       "      <th>...</th>\n",
       "      <th>...</th>\n",
       "      <td>...</td>\n",
       "    </tr>\n",
       "    <tr>\n",
       "      <th>1498</th>\n",
       "      <th>2018-12</th>\n",
       "      <td>346</td>\n",
       "    </tr>\n",
       "    <tr>\n",
       "      <th rowspan=\"4\" valign=\"top\">1499</th>\n",
       "      <th>2018-09</th>\n",
       "      <td>352</td>\n",
       "    </tr>\n",
       "    <tr>\n",
       "      <th>2018-10</th>\n",
       "      <td>397</td>\n",
       "    </tr>\n",
       "    <tr>\n",
       "      <th>2018-11</th>\n",
       "      <td>314</td>\n",
       "    </tr>\n",
       "    <tr>\n",
       "      <th>2018-12</th>\n",
       "      <td>505</td>\n",
       "    </tr>\n",
       "  </tbody>\n",
       "</table>\n",
       "<p>2258 rows × 1 columns</p>\n",
       "</div>"
      ],
      "text/plain": [
       "                 total_duration\n",
       "user_id month                  \n",
       "1000    2018-12             124\n",
       "1001    2018-08             187\n",
       "        2018-09             326\n",
       "        2018-10             411\n",
       "        2018-11             441\n",
       "...                         ...\n",
       "1498    2018-12             346\n",
       "1499    2018-09             352\n",
       "        2018-10             397\n",
       "        2018-11             314\n",
       "        2018-12             505\n",
       "\n",
       "[2258 rows x 1 columns]"
      ]
     },
     "metadata": {},
     "output_type": "display_data"
    }
   ],
   "source": [
    "# Calculate the amount of minutes spent by each user per month. Save the result.\n",
    "\n",
    "# Group the data by user_id and month and calculate the sum of duration for each group\n",
    "minutes_per_month = calls_df.groupby(['user_id', 'month']).agg({'duration_rounded': 'sum'})\n",
    "\n",
    "# Rename the resulting column to total_duration\n",
    "minutes_per_month = minutes_per_month.rename(columns={'duration_rounded': 'total_duration'})\n",
    "\n",
    "display(minutes_per_month)"
   ]
  },
  {
   "cell_type": "code",
   "execution_count": 26,
   "metadata": {},
   "outputs": [
    {
     "data": {
      "text/html": [
       "<div>\n",
       "<style scoped>\n",
       "    .dataframe tbody tr th:only-of-type {\n",
       "        vertical-align: middle;\n",
       "    }\n",
       "\n",
       "    .dataframe tbody tr th {\n",
       "        vertical-align: top;\n",
       "    }\n",
       "\n",
       "    .dataframe thead th {\n",
       "        text-align: right;\n",
       "    }\n",
       "</style>\n",
       "<table border=\"1\" class=\"dataframe\">\n",
       "  <thead>\n",
       "    <tr style=\"text-align: right;\">\n",
       "      <th></th>\n",
       "      <th>user_id</th>\n",
       "      <th>month</th>\n",
       "      <th>messages</th>\n",
       "    </tr>\n",
       "  </thead>\n",
       "  <tbody>\n",
       "    <tr>\n",
       "      <th>0</th>\n",
       "      <td>1000</td>\n",
       "      <td>2018-12</td>\n",
       "      <td>11</td>\n",
       "    </tr>\n",
       "    <tr>\n",
       "      <th>1</th>\n",
       "      <td>1001</td>\n",
       "      <td>2018-08</td>\n",
       "      <td>30</td>\n",
       "    </tr>\n",
       "    <tr>\n",
       "      <th>2</th>\n",
       "      <td>1001</td>\n",
       "      <td>2018-09</td>\n",
       "      <td>44</td>\n",
       "    </tr>\n",
       "    <tr>\n",
       "      <th>3</th>\n",
       "      <td>1001</td>\n",
       "      <td>2018-10</td>\n",
       "      <td>53</td>\n",
       "    </tr>\n",
       "    <tr>\n",
       "      <th>4</th>\n",
       "      <td>1001</td>\n",
       "      <td>2018-11</td>\n",
       "      <td>36</td>\n",
       "    </tr>\n",
       "    <tr>\n",
       "      <th>...</th>\n",
       "      <td>...</td>\n",
       "      <td>...</td>\n",
       "      <td>...</td>\n",
       "    </tr>\n",
       "    <tr>\n",
       "      <th>1801</th>\n",
       "      <td>1496</td>\n",
       "      <td>2018-09</td>\n",
       "      <td>21</td>\n",
       "    </tr>\n",
       "    <tr>\n",
       "      <th>1802</th>\n",
       "      <td>1496</td>\n",
       "      <td>2018-10</td>\n",
       "      <td>18</td>\n",
       "    </tr>\n",
       "    <tr>\n",
       "      <th>1803</th>\n",
       "      <td>1496</td>\n",
       "      <td>2018-11</td>\n",
       "      <td>13</td>\n",
       "    </tr>\n",
       "    <tr>\n",
       "      <th>1804</th>\n",
       "      <td>1496</td>\n",
       "      <td>2018-12</td>\n",
       "      <td>11</td>\n",
       "    </tr>\n",
       "    <tr>\n",
       "      <th>1805</th>\n",
       "      <td>1497</td>\n",
       "      <td>2018-12</td>\n",
       "      <td>50</td>\n",
       "    </tr>\n",
       "  </tbody>\n",
       "</table>\n",
       "<p>1806 rows × 3 columns</p>\n",
       "</div>"
      ],
      "text/plain": [
       "      user_id    month  messages\n",
       "0        1000  2018-12        11\n",
       "1        1001  2018-08        30\n",
       "2        1001  2018-09        44\n",
       "3        1001  2018-10        53\n",
       "4        1001  2018-11        36\n",
       "...       ...      ...       ...\n",
       "1801     1496  2018-09        21\n",
       "1802     1496  2018-10        18\n",
       "1803     1496  2018-11        13\n",
       "1804     1496  2018-12        11\n",
       "1805     1497  2018-12        50\n",
       "\n",
       "[1806 rows x 3 columns]"
      ]
     },
     "metadata": {},
     "output_type": "display_data"
    }
   ],
   "source": [
    "# Calculate the number of messages sent by each user per month. Save the result.\n",
    "messages_per_month = messages_df.groupby(['user_id', 'month']).size()\n",
    "\n",
    "messages_per_month = messages_df.groupby(['user_id', 'month']).size().reset_index(name='messages')\n",
    "\n",
    "display(messages_per_month)"
   ]
  },
  {
   "cell_type": "code",
   "execution_count": 27,
   "metadata": {},
   "outputs": [
    {
     "data": {
      "text/html": [
       "<div>\n",
       "<style scoped>\n",
       "    .dataframe tbody tr th:only-of-type {\n",
       "        vertical-align: middle;\n",
       "    }\n",
       "\n",
       "    .dataframe tbody tr th {\n",
       "        vertical-align: top;\n",
       "    }\n",
       "\n",
       "    .dataframe thead th {\n",
       "        text-align: right;\n",
       "    }\n",
       "</style>\n",
       "<table border=\"1\" class=\"dataframe\">\n",
       "  <thead>\n",
       "    <tr style=\"text-align: right;\">\n",
       "      <th></th>\n",
       "      <th>user_id</th>\n",
       "      <th>month</th>\n",
       "      <th>mb_used</th>\n",
       "      <th>traffic_gb</th>\n",
       "    </tr>\n",
       "  </thead>\n",
       "  <tbody>\n",
       "    <tr>\n",
       "      <th>0</th>\n",
       "      <td>1000</td>\n",
       "      <td>2018-12</td>\n",
       "      <td>1901.47</td>\n",
       "      <td>2</td>\n",
       "    </tr>\n",
       "    <tr>\n",
       "      <th>1</th>\n",
       "      <td>1001</td>\n",
       "      <td>2018-08</td>\n",
       "      <td>6919.15</td>\n",
       "      <td>7</td>\n",
       "    </tr>\n",
       "    <tr>\n",
       "      <th>2</th>\n",
       "      <td>1001</td>\n",
       "      <td>2018-09</td>\n",
       "      <td>13314.82</td>\n",
       "      <td>14</td>\n",
       "    </tr>\n",
       "    <tr>\n",
       "      <th>3</th>\n",
       "      <td>1001</td>\n",
       "      <td>2018-10</td>\n",
       "      <td>22330.49</td>\n",
       "      <td>22</td>\n",
       "    </tr>\n",
       "    <tr>\n",
       "      <th>4</th>\n",
       "      <td>1001</td>\n",
       "      <td>2018-11</td>\n",
       "      <td>18504.30</td>\n",
       "      <td>19</td>\n",
       "    </tr>\n",
       "    <tr>\n",
       "      <th>...</th>\n",
       "      <td>...</td>\n",
       "      <td>...</td>\n",
       "      <td>...</td>\n",
       "      <td>...</td>\n",
       "    </tr>\n",
       "    <tr>\n",
       "      <th>2272</th>\n",
       "      <td>1498</td>\n",
       "      <td>2018-12</td>\n",
       "      <td>23137.69</td>\n",
       "      <td>23</td>\n",
       "    </tr>\n",
       "    <tr>\n",
       "      <th>2273</th>\n",
       "      <td>1499</td>\n",
       "      <td>2018-09</td>\n",
       "      <td>12984.76</td>\n",
       "      <td>13</td>\n",
       "    </tr>\n",
       "    <tr>\n",
       "      <th>2274</th>\n",
       "      <td>1499</td>\n",
       "      <td>2018-10</td>\n",
       "      <td>19492.43</td>\n",
       "      <td>20</td>\n",
       "    </tr>\n",
       "    <tr>\n",
       "      <th>2275</th>\n",
       "      <td>1499</td>\n",
       "      <td>2018-11</td>\n",
       "      <td>16813.83</td>\n",
       "      <td>17</td>\n",
       "    </tr>\n",
       "    <tr>\n",
       "      <th>2276</th>\n",
       "      <td>1499</td>\n",
       "      <td>2018-12</td>\n",
       "      <td>22059.21</td>\n",
       "      <td>22</td>\n",
       "    </tr>\n",
       "  </tbody>\n",
       "</table>\n",
       "<p>2277 rows × 4 columns</p>\n",
       "</div>"
      ],
      "text/plain": [
       "      user_id    month   mb_used  traffic_gb\n",
       "0        1000  2018-12   1901.47           2\n",
       "1        1001  2018-08   6919.15           7\n",
       "2        1001  2018-09  13314.82          14\n",
       "3        1001  2018-10  22330.49          22\n",
       "4        1001  2018-11  18504.30          19\n",
       "...       ...      ...       ...         ...\n",
       "2272     1498  2018-12  23137.69          23\n",
       "2273     1499  2018-09  12984.76          13\n",
       "2274     1499  2018-10  19492.43          20\n",
       "2275     1499  2018-11  16813.83          17\n",
       "2276     1499  2018-12  22059.21          22\n",
       "\n",
       "[2277 rows x 4 columns]"
      ]
     },
     "metadata": {},
     "output_type": "display_data"
    }
   ],
   "source": [
    "# Calculate the volume of internet traffic used by each user per month. Save the result.\n",
    "\n",
    "# group by user_id and month, and sum the mb_used column\n",
    "user_month_traffic = internet_df.groupby(['user_id', 'month'])['mb_used'].sum().reset_index()\n",
    "\n",
    "# apply the rounding up rule to the traffic column\n",
    "user_month_traffic['traffic_gb'] = user_month_traffic['mb_used'].apply(lambda x: math.ceil(x / 1024))\n",
    "\n",
    "display(user_month_traffic)"
   ]
  },
  {
   "cell_type": "code",
   "execution_count": 28,
   "metadata": {},
   "outputs": [
    {
     "data": {
      "text/html": [
       "<div>\n",
       "<style scoped>\n",
       "    .dataframe tbody tr th:only-of-type {\n",
       "        vertical-align: middle;\n",
       "    }\n",
       "\n",
       "    .dataframe tbody tr th {\n",
       "        vertical-align: top;\n",
       "    }\n",
       "\n",
       "    .dataframe thead th {\n",
       "        text-align: right;\n",
       "    }\n",
       "</style>\n",
       "<table border=\"1\" class=\"dataframe\">\n",
       "  <thead>\n",
       "    <tr style=\"text-align: right;\">\n",
       "      <th></th>\n",
       "      <th>user_id</th>\n",
       "      <th>month</th>\n",
       "      <th>calls</th>\n",
       "      <th>total_duration</th>\n",
       "      <th>messages</th>\n",
       "      <th>mb_used</th>\n",
       "      <th>traffic_gb</th>\n",
       "    </tr>\n",
       "  </thead>\n",
       "  <tbody>\n",
       "    <tr>\n",
       "      <th>0</th>\n",
       "      <td>1000</td>\n",
       "      <td>2018-12</td>\n",
       "      <td>16.0</td>\n",
       "      <td>124.0</td>\n",
       "      <td>11.0</td>\n",
       "      <td>1901.47</td>\n",
       "      <td>2.0</td>\n",
       "    </tr>\n",
       "    <tr>\n",
       "      <th>1</th>\n",
       "      <td>1001</td>\n",
       "      <td>2018-08</td>\n",
       "      <td>27.0</td>\n",
       "      <td>187.0</td>\n",
       "      <td>30.0</td>\n",
       "      <td>6919.15</td>\n",
       "      <td>7.0</td>\n",
       "    </tr>\n",
       "    <tr>\n",
       "      <th>2</th>\n",
       "      <td>1001</td>\n",
       "      <td>2018-09</td>\n",
       "      <td>49.0</td>\n",
       "      <td>326.0</td>\n",
       "      <td>44.0</td>\n",
       "      <td>13314.82</td>\n",
       "      <td>14.0</td>\n",
       "    </tr>\n",
       "    <tr>\n",
       "      <th>3</th>\n",
       "      <td>1001</td>\n",
       "      <td>2018-10</td>\n",
       "      <td>65.0</td>\n",
       "      <td>411.0</td>\n",
       "      <td>53.0</td>\n",
       "      <td>22330.49</td>\n",
       "      <td>22.0</td>\n",
       "    </tr>\n",
       "    <tr>\n",
       "      <th>4</th>\n",
       "      <td>1001</td>\n",
       "      <td>2018-11</td>\n",
       "      <td>64.0</td>\n",
       "      <td>441.0</td>\n",
       "      <td>36.0</td>\n",
       "      <td>18504.30</td>\n",
       "      <td>19.0</td>\n",
       "    </tr>\n",
       "    <tr>\n",
       "      <th>...</th>\n",
       "      <td>...</td>\n",
       "      <td>...</td>\n",
       "      <td>...</td>\n",
       "      <td>...</td>\n",
       "      <td>...</td>\n",
       "      <td>...</td>\n",
       "      <td>...</td>\n",
       "    </tr>\n",
       "    <tr>\n",
       "      <th>2288</th>\n",
       "      <td>1349</td>\n",
       "      <td>2018-12</td>\n",
       "      <td>NaN</td>\n",
       "      <td>NaN</td>\n",
       "      <td>61.0</td>\n",
       "      <td>13039.91</td>\n",
       "      <td>13.0</td>\n",
       "    </tr>\n",
       "    <tr>\n",
       "      <th>2289</th>\n",
       "      <td>1361</td>\n",
       "      <td>2018-05</td>\n",
       "      <td>NaN</td>\n",
       "      <td>NaN</td>\n",
       "      <td>2.0</td>\n",
       "      <td>1519.69</td>\n",
       "      <td>2.0</td>\n",
       "    </tr>\n",
       "    <tr>\n",
       "      <th>2290</th>\n",
       "      <td>1482</td>\n",
       "      <td>2018-10</td>\n",
       "      <td>NaN</td>\n",
       "      <td>NaN</td>\n",
       "      <td>2.0</td>\n",
       "      <td>NaN</td>\n",
       "      <td>NaN</td>\n",
       "    </tr>\n",
       "    <tr>\n",
       "      <th>2291</th>\n",
       "      <td>1108</td>\n",
       "      <td>2018-12</td>\n",
       "      <td>NaN</td>\n",
       "      <td>NaN</td>\n",
       "      <td>NaN</td>\n",
       "      <td>233.17</td>\n",
       "      <td>1.0</td>\n",
       "    </tr>\n",
       "    <tr>\n",
       "      <th>2292</th>\n",
       "      <td>1311</td>\n",
       "      <td>2018-06</td>\n",
       "      <td>NaN</td>\n",
       "      <td>NaN</td>\n",
       "      <td>NaN</td>\n",
       "      <td>1498.83</td>\n",
       "      <td>2.0</td>\n",
       "    </tr>\n",
       "  </tbody>\n",
       "</table>\n",
       "<p>2293 rows × 7 columns</p>\n",
       "</div>"
      ],
      "text/plain": [
       "      user_id    month  calls  total_duration  messages   mb_used  traffic_gb\n",
       "0        1000  2018-12   16.0           124.0      11.0   1901.47         2.0\n",
       "1        1001  2018-08   27.0           187.0      30.0   6919.15         7.0\n",
       "2        1001  2018-09   49.0           326.0      44.0  13314.82        14.0\n",
       "3        1001  2018-10   65.0           411.0      53.0  22330.49        22.0\n",
       "4        1001  2018-11   64.0           441.0      36.0  18504.30        19.0\n",
       "...       ...      ...    ...             ...       ...       ...         ...\n",
       "2288     1349  2018-12    NaN             NaN      61.0  13039.91        13.0\n",
       "2289     1361  2018-05    NaN             NaN       2.0   1519.69         2.0\n",
       "2290     1482  2018-10    NaN             NaN       2.0       NaN         NaN\n",
       "2291     1108  2018-12    NaN             NaN       NaN    233.17         1.0\n",
       "2292     1311  2018-06    NaN             NaN       NaN   1498.83         2.0\n",
       "\n",
       "[2293 rows x 7 columns]"
      ]
     },
     "metadata": {},
     "output_type": "display_data"
    },
    {
     "name": "stdout",
     "output_type": "stream",
     "text": [
      "<class 'pandas.core.frame.DataFrame'>\n",
      "Int64Index: 2293 entries, 0 to 2292\n",
      "Data columns (total 7 columns):\n",
      " #   Column          Non-Null Count  Dtype    \n",
      "---  ------          --------------  -----    \n",
      " 0   user_id         2293 non-null   int64    \n",
      " 1   month           2293 non-null   period[M]\n",
      " 2   calls           2293 non-null   float64  \n",
      " 3   total_duration  2293 non-null   float64  \n",
      " 4   messages        2293 non-null   float64  \n",
      " 5   mb_used         2293 non-null   float64  \n",
      " 6   traffic_gb      2293 non-null   float64  \n",
      "dtypes: float64(5), int64(1), period[M](1)\n",
      "memory usage: 143.3 KB\n"
     ]
    }
   ],
   "source": [
    "# Merge the data for calls, minutes, messages, internet based on user_id and month\n",
    "merge_df = pd.merge(calls_per_month, minutes_per_month, on=['user_id', 'month'], how='outer')\n",
    "merge_df = pd.merge(merge_df, messages_per_month, on=['user_id', 'month'], how='outer')\n",
    "merge_df = pd.merge(merge_df, user_month_traffic, on=['user_id', 'month'], how='outer')\n",
    "\n",
    "# print the merged dataframe\n",
    "display(merge_df)\n",
    "\n",
    "# NaN values in the merged dataframe indicates those users did not use any calls, messages, or data in the given month, and thus can be replaed with 0\n",
    "merge_df = merge_df.fillna(0)\n",
    "\n",
    "# confirming no more missing values in merged_df\n",
    "merge_df.info()"
   ]
  },
  {
   "cell_type": "markdown",
   "metadata": {},
   "source": [
    "Add the plan information\n",
    "\n",
    "### Surf <a class=\"tocSkip\">\n",
    "    Monthly charge: $20\n",
    "    500 monthly minutes, 50 texts, and 15 GB of data\n",
    "    After exceeding the package limits:\n",
    "       1 minute: 3 cents\n",
    "       1 text message: 3 cents\n",
    "       1 GB of data: $10\n",
    "\n",
    "### Ultimate <a class=\"tocSkip\">\n",
    "    Monthly charge: $70\n",
    "    3000 monthly minutes, 1000 text messages, and 30 GB of data\n",
    "    After exceeding the package limits:\n",
    "       1 minute: 1 cent\n",
    "       1 text message: 1 cent\n",
    "       1 GB of data: $7"
   ]
  },
  {
   "cell_type": "code",
   "execution_count": 48,
   "metadata": {
    "scrolled": false
   },
   "outputs": [
    {
     "name": "stdout",
     "output_type": "stream",
     "text": [
      "<class 'pandas.core.frame.DataFrame'>\n",
      "Int64Index: 2293 entries, 0 to 2292\n",
      "Data columns (total 25 columns):\n",
      " #   Column                 Non-Null Count  Dtype         \n",
      "---  ------                 --------------  -----         \n",
      " 0   user_id                2293 non-null   int64         \n",
      " 1   month                  2293 non-null   period[M]     \n",
      " 2   calls                  2293 non-null   float64       \n",
      " 3   total_duration         2293 non-null   float64       \n",
      " 4   messages               2293 non-null   float64       \n",
      " 5   mb_used                2293 non-null   float64       \n",
      " 6   traffic_gb             2293 non-null   float64       \n",
      " 7   first_name             2293 non-null   object        \n",
      " 8   last_name              2293 non-null   object        \n",
      " 9   age                    2293 non-null   int64         \n",
      " 10  city                   2293 non-null   object        \n",
      " 11  reg_date               2293 non-null   datetime64[ns]\n",
      " 12  plan_name              2293 non-null   object        \n",
      " 13  churn_date             2293 non-null   datetime64[ns]\n",
      " 14  messages_included      2293 non-null   int64         \n",
      " 15  mb_per_month_included  2293 non-null   int64         \n",
      " 16  minutes_included       2293 non-null   int64         \n",
      " 17  usd_monthly_pay        2293 non-null   int64         \n",
      " 18  usd_per_gb             2293 non-null   int64         \n",
      " 19  usd_per_message        2293 non-null   float64       \n",
      " 20  usd_per_minute         2293 non-null   float64       \n",
      " 21  extra_calls            2293 non-null   float64       \n",
      " 22  extra_messages         2293 non-null   float64       \n",
      " 23  extra_data_gb          2293 non-null   float64       \n",
      " 24  revenue                2293 non-null   float64       \n",
      "dtypes: datetime64[ns](2), float64(11), int64(7), object(4), period[M](1)\n",
      "memory usage: 465.8+ KB\n"
     ]
    },
    {
     "data": {
      "text/html": [
       "<div>\n",
       "<style scoped>\n",
       "    .dataframe tbody tr th:only-of-type {\n",
       "        vertical-align: middle;\n",
       "    }\n",
       "\n",
       "    .dataframe tbody tr th {\n",
       "        vertical-align: top;\n",
       "    }\n",
       "\n",
       "    .dataframe thead th {\n",
       "        text-align: right;\n",
       "    }\n",
       "</style>\n",
       "<table border=\"1\" class=\"dataframe\">\n",
       "  <thead>\n",
       "    <tr style=\"text-align: right;\">\n",
       "      <th></th>\n",
       "      <th>user_id</th>\n",
       "      <th>month</th>\n",
       "      <th>calls</th>\n",
       "      <th>total_duration</th>\n",
       "      <th>messages</th>\n",
       "      <th>mb_used</th>\n",
       "      <th>traffic_gb</th>\n",
       "      <th>first_name</th>\n",
       "      <th>last_name</th>\n",
       "      <th>age</th>\n",
       "      <th>city</th>\n",
       "      <th>reg_date</th>\n",
       "      <th>plan_name</th>\n",
       "      <th>churn_date</th>\n",
       "      <th>messages_included</th>\n",
       "      <th>mb_per_month_included</th>\n",
       "      <th>minutes_included</th>\n",
       "      <th>usd_monthly_pay</th>\n",
       "      <th>usd_per_gb</th>\n",
       "      <th>usd_per_message</th>\n",
       "      <th>usd_per_minute</th>\n",
       "      <th>extra_calls</th>\n",
       "      <th>extra_messages</th>\n",
       "      <th>extra_data_gb</th>\n",
       "      <th>revenue</th>\n",
       "    </tr>\n",
       "  </thead>\n",
       "  <tbody>\n",
       "    <tr>\n",
       "      <th>0</th>\n",
       "      <td>1000</td>\n",
       "      <td>2018-12</td>\n",
       "      <td>16.0</td>\n",
       "      <td>124.0</td>\n",
       "      <td>11.0</td>\n",
       "      <td>1901.47</td>\n",
       "      <td>2.0</td>\n",
       "      <td>Anamaria</td>\n",
       "      <td>Bauer</td>\n",
       "      <td>45</td>\n",
       "      <td>Atlanta-Sandy Springs-Roswell, GA MSA</td>\n",
       "      <td>2018-12-24</td>\n",
       "      <td>ultimate</td>\n",
       "      <td>2018-12-31</td>\n",
       "      <td>1000</td>\n",
       "      <td>30720</td>\n",
       "      <td>3000</td>\n",
       "      <td>70</td>\n",
       "      <td>7</td>\n",
       "      <td>0.01</td>\n",
       "      <td>0.01</td>\n",
       "      <td>0.0</td>\n",
       "      <td>0.0</td>\n",
       "      <td>0.0</td>\n",
       "      <td>70.00</td>\n",
       "    </tr>\n",
       "    <tr>\n",
       "      <th>1</th>\n",
       "      <td>1006</td>\n",
       "      <td>2018-11</td>\n",
       "      <td>2.0</td>\n",
       "      <td>10.0</td>\n",
       "      <td>15.0</td>\n",
       "      <td>2068.37</td>\n",
       "      <td>3.0</td>\n",
       "      <td>Jesusa</td>\n",
       "      <td>Bradford</td>\n",
       "      <td>73</td>\n",
       "      <td>San Francisco-Oakland-Berkeley, CA MSA</td>\n",
       "      <td>2018-11-27</td>\n",
       "      <td>ultimate</td>\n",
       "      <td>2018-12-18</td>\n",
       "      <td>1000</td>\n",
       "      <td>30720</td>\n",
       "      <td>3000</td>\n",
       "      <td>70</td>\n",
       "      <td>7</td>\n",
       "      <td>0.01</td>\n",
       "      <td>0.01</td>\n",
       "      <td>0.0</td>\n",
       "      <td>0.0</td>\n",
       "      <td>0.0</td>\n",
       "      <td>70.00</td>\n",
       "    </tr>\n",
       "    <tr>\n",
       "      <th>2</th>\n",
       "      <td>1006</td>\n",
       "      <td>2018-12</td>\n",
       "      <td>9.0</td>\n",
       "      <td>61.0</td>\n",
       "      <td>139.0</td>\n",
       "      <td>32118.82</td>\n",
       "      <td>32.0</td>\n",
       "      <td>Jesusa</td>\n",
       "      <td>Bradford</td>\n",
       "      <td>73</td>\n",
       "      <td>San Francisco-Oakland-Berkeley, CA MSA</td>\n",
       "      <td>2018-11-27</td>\n",
       "      <td>ultimate</td>\n",
       "      <td>2018-12-18</td>\n",
       "      <td>1000</td>\n",
       "      <td>30720</td>\n",
       "      <td>3000</td>\n",
       "      <td>70</td>\n",
       "      <td>7</td>\n",
       "      <td>0.01</td>\n",
       "      <td>0.01</td>\n",
       "      <td>0.0</td>\n",
       "      <td>0.0</td>\n",
       "      <td>2.0</td>\n",
       "      <td>84.00</td>\n",
       "    </tr>\n",
       "    <tr>\n",
       "      <th>3</th>\n",
       "      <td>1008</td>\n",
       "      <td>2018-10</td>\n",
       "      <td>71.0</td>\n",
       "      <td>493.0</td>\n",
       "      <td>21.0</td>\n",
       "      <td>17106.99</td>\n",
       "      <td>17.0</td>\n",
       "      <td>Emely</td>\n",
       "      <td>Hoffman</td>\n",
       "      <td>53</td>\n",
       "      <td>Orlando-Kissimmee-Sanford, FL MSA</td>\n",
       "      <td>2018-08-03</td>\n",
       "      <td>ultimate</td>\n",
       "      <td>2018-12-31</td>\n",
       "      <td>1000</td>\n",
       "      <td>30720</td>\n",
       "      <td>3000</td>\n",
       "      <td>70</td>\n",
       "      <td>7</td>\n",
       "      <td>0.01</td>\n",
       "      <td>0.01</td>\n",
       "      <td>0.0</td>\n",
       "      <td>0.0</td>\n",
       "      <td>0.0</td>\n",
       "      <td>70.00</td>\n",
       "    </tr>\n",
       "    <tr>\n",
       "      <th>4</th>\n",
       "      <td>1008</td>\n",
       "      <td>2018-11</td>\n",
       "      <td>63.0</td>\n",
       "      <td>459.0</td>\n",
       "      <td>37.0</td>\n",
       "      <td>23676.72</td>\n",
       "      <td>24.0</td>\n",
       "      <td>Emely</td>\n",
       "      <td>Hoffman</td>\n",
       "      <td>53</td>\n",
       "      <td>Orlando-Kissimmee-Sanford, FL MSA</td>\n",
       "      <td>2018-08-03</td>\n",
       "      <td>ultimate</td>\n",
       "      <td>2018-12-31</td>\n",
       "      <td>1000</td>\n",
       "      <td>30720</td>\n",
       "      <td>3000</td>\n",
       "      <td>70</td>\n",
       "      <td>7</td>\n",
       "      <td>0.01</td>\n",
       "      <td>0.01</td>\n",
       "      <td>0.0</td>\n",
       "      <td>0.0</td>\n",
       "      <td>0.0</td>\n",
       "      <td>70.00</td>\n",
       "    </tr>\n",
       "    <tr>\n",
       "      <th>...</th>\n",
       "      <td>...</td>\n",
       "      <td>...</td>\n",
       "      <td>...</td>\n",
       "      <td>...</td>\n",
       "      <td>...</td>\n",
       "      <td>...</td>\n",
       "      <td>...</td>\n",
       "      <td>...</td>\n",
       "      <td>...</td>\n",
       "      <td>...</td>\n",
       "      <td>...</td>\n",
       "      <td>...</td>\n",
       "      <td>...</td>\n",
       "      <td>...</td>\n",
       "      <td>...</td>\n",
       "      <td>...</td>\n",
       "      <td>...</td>\n",
       "      <td>...</td>\n",
       "      <td>...</td>\n",
       "      <td>...</td>\n",
       "      <td>...</td>\n",
       "      <td>...</td>\n",
       "      <td>...</td>\n",
       "      <td>...</td>\n",
       "      <td>...</td>\n",
       "    </tr>\n",
       "    <tr>\n",
       "      <th>2288</th>\n",
       "      <td>1194</td>\n",
       "      <td>2018-11</td>\n",
       "      <td>0.0</td>\n",
       "      <td>0.0</td>\n",
       "      <td>62.0</td>\n",
       "      <td>42866.10</td>\n",
       "      <td>42.0</td>\n",
       "      <td>Robert</td>\n",
       "      <td>Mclean</td>\n",
       "      <td>40</td>\n",
       "      <td>San Jose-Sunnyvale-Santa Clara, CA MSA</td>\n",
       "      <td>2018-05-31</td>\n",
       "      <td>surf</td>\n",
       "      <td>2018-12-31</td>\n",
       "      <td>50</td>\n",
       "      <td>15360</td>\n",
       "      <td>500</td>\n",
       "      <td>20</td>\n",
       "      <td>10</td>\n",
       "      <td>0.03</td>\n",
       "      <td>0.03</td>\n",
       "      <td>0.0</td>\n",
       "      <td>12.0</td>\n",
       "      <td>27.0</td>\n",
       "      <td>290.36</td>\n",
       "    </tr>\n",
       "    <tr>\n",
       "      <th>2289</th>\n",
       "      <td>1194</td>\n",
       "      <td>2018-12</td>\n",
       "      <td>0.0</td>\n",
       "      <td>0.0</td>\n",
       "      <td>56.0</td>\n",
       "      <td>31088.49</td>\n",
       "      <td>31.0</td>\n",
       "      <td>Robert</td>\n",
       "      <td>Mclean</td>\n",
       "      <td>40</td>\n",
       "      <td>San Jose-Sunnyvale-Santa Clara, CA MSA</td>\n",
       "      <td>2018-05-31</td>\n",
       "      <td>surf</td>\n",
       "      <td>2018-12-31</td>\n",
       "      <td>50</td>\n",
       "      <td>15360</td>\n",
       "      <td>500</td>\n",
       "      <td>20</td>\n",
       "      <td>10</td>\n",
       "      <td>0.03</td>\n",
       "      <td>0.03</td>\n",
       "      <td>0.0</td>\n",
       "      <td>6.0</td>\n",
       "      <td>16.0</td>\n",
       "      <td>180.18</td>\n",
       "    </tr>\n",
       "    <tr>\n",
       "      <th>2290</th>\n",
       "      <td>1349</td>\n",
       "      <td>2018-10</td>\n",
       "      <td>0.0</td>\n",
       "      <td>0.0</td>\n",
       "      <td>76.0</td>\n",
       "      <td>13093.55</td>\n",
       "      <td>13.0</td>\n",
       "      <td>Florentina</td>\n",
       "      <td>Diaz</td>\n",
       "      <td>69</td>\n",
       "      <td>Boston-Cambridge-Newton, MA-NH MSA</td>\n",
       "      <td>2018-10-01</td>\n",
       "      <td>surf</td>\n",
       "      <td>2018-12-31</td>\n",
       "      <td>50</td>\n",
       "      <td>15360</td>\n",
       "      <td>500</td>\n",
       "      <td>20</td>\n",
       "      <td>10</td>\n",
       "      <td>0.03</td>\n",
       "      <td>0.03</td>\n",
       "      <td>0.0</td>\n",
       "      <td>26.0</td>\n",
       "      <td>0.0</td>\n",
       "      <td>20.78</td>\n",
       "    </tr>\n",
       "    <tr>\n",
       "      <th>2291</th>\n",
       "      <td>1349</td>\n",
       "      <td>2018-11</td>\n",
       "      <td>0.0</td>\n",
       "      <td>0.0</td>\n",
       "      <td>72.0</td>\n",
       "      <td>17128.26</td>\n",
       "      <td>17.0</td>\n",
       "      <td>Florentina</td>\n",
       "      <td>Diaz</td>\n",
       "      <td>69</td>\n",
       "      <td>Boston-Cambridge-Newton, MA-NH MSA</td>\n",
       "      <td>2018-10-01</td>\n",
       "      <td>surf</td>\n",
       "      <td>2018-12-31</td>\n",
       "      <td>50</td>\n",
       "      <td>15360</td>\n",
       "      <td>500</td>\n",
       "      <td>20</td>\n",
       "      <td>10</td>\n",
       "      <td>0.03</td>\n",
       "      <td>0.03</td>\n",
       "      <td>0.0</td>\n",
       "      <td>22.0</td>\n",
       "      <td>2.0</td>\n",
       "      <td>40.66</td>\n",
       "    </tr>\n",
       "    <tr>\n",
       "      <th>2292</th>\n",
       "      <td>1349</td>\n",
       "      <td>2018-12</td>\n",
       "      <td>0.0</td>\n",
       "      <td>0.0</td>\n",
       "      <td>61.0</td>\n",
       "      <td>13039.91</td>\n",
       "      <td>13.0</td>\n",
       "      <td>Florentina</td>\n",
       "      <td>Diaz</td>\n",
       "      <td>69</td>\n",
       "      <td>Boston-Cambridge-Newton, MA-NH MSA</td>\n",
       "      <td>2018-10-01</td>\n",
       "      <td>surf</td>\n",
       "      <td>2018-12-31</td>\n",
       "      <td>50</td>\n",
       "      <td>15360</td>\n",
       "      <td>500</td>\n",
       "      <td>20</td>\n",
       "      <td>10</td>\n",
       "      <td>0.03</td>\n",
       "      <td>0.03</td>\n",
       "      <td>0.0</td>\n",
       "      <td>11.0</td>\n",
       "      <td>0.0</td>\n",
       "      <td>20.33</td>\n",
       "    </tr>\n",
       "  </tbody>\n",
       "</table>\n",
       "<p>2293 rows × 25 columns</p>\n",
       "</div>"
      ],
      "text/plain": [
       "      user_id    month  calls  total_duration  messages   mb_used  traffic_gb  \\\n",
       "0        1000  2018-12   16.0           124.0      11.0   1901.47         2.0   \n",
       "1        1006  2018-11    2.0            10.0      15.0   2068.37         3.0   \n",
       "2        1006  2018-12    9.0            61.0     139.0  32118.82        32.0   \n",
       "3        1008  2018-10   71.0           493.0      21.0  17106.99        17.0   \n",
       "4        1008  2018-11   63.0           459.0      37.0  23676.72        24.0   \n",
       "...       ...      ...    ...             ...       ...       ...         ...   \n",
       "2288     1194  2018-11    0.0             0.0      62.0  42866.10        42.0   \n",
       "2289     1194  2018-12    0.0             0.0      56.0  31088.49        31.0   \n",
       "2290     1349  2018-10    0.0             0.0      76.0  13093.55        13.0   \n",
       "2291     1349  2018-11    0.0             0.0      72.0  17128.26        17.0   \n",
       "2292     1349  2018-12    0.0             0.0      61.0  13039.91        13.0   \n",
       "\n",
       "      first_name last_name  age                                    city  \\\n",
       "0       Anamaria     Bauer   45   Atlanta-Sandy Springs-Roswell, GA MSA   \n",
       "1         Jesusa  Bradford   73  San Francisco-Oakland-Berkeley, CA MSA   \n",
       "2         Jesusa  Bradford   73  San Francisco-Oakland-Berkeley, CA MSA   \n",
       "3          Emely   Hoffman   53       Orlando-Kissimmee-Sanford, FL MSA   \n",
       "4          Emely   Hoffman   53       Orlando-Kissimmee-Sanford, FL MSA   \n",
       "...          ...       ...  ...                                     ...   \n",
       "2288      Robert    Mclean   40  San Jose-Sunnyvale-Santa Clara, CA MSA   \n",
       "2289      Robert    Mclean   40  San Jose-Sunnyvale-Santa Clara, CA MSA   \n",
       "2290  Florentina      Diaz   69      Boston-Cambridge-Newton, MA-NH MSA   \n",
       "2291  Florentina      Diaz   69      Boston-Cambridge-Newton, MA-NH MSA   \n",
       "2292  Florentina      Diaz   69      Boston-Cambridge-Newton, MA-NH MSA   \n",
       "\n",
       "       reg_date plan_name churn_date  messages_included  \\\n",
       "0    2018-12-24  ultimate 2018-12-31               1000   \n",
       "1    2018-11-27  ultimate 2018-12-18               1000   \n",
       "2    2018-11-27  ultimate 2018-12-18               1000   \n",
       "3    2018-08-03  ultimate 2018-12-31               1000   \n",
       "4    2018-08-03  ultimate 2018-12-31               1000   \n",
       "...         ...       ...        ...                ...   \n",
       "2288 2018-05-31      surf 2018-12-31                 50   \n",
       "2289 2018-05-31      surf 2018-12-31                 50   \n",
       "2290 2018-10-01      surf 2018-12-31                 50   \n",
       "2291 2018-10-01      surf 2018-12-31                 50   \n",
       "2292 2018-10-01      surf 2018-12-31                 50   \n",
       "\n",
       "      mb_per_month_included  minutes_included  usd_monthly_pay  usd_per_gb  \\\n",
       "0                     30720              3000               70           7   \n",
       "1                     30720              3000               70           7   \n",
       "2                     30720              3000               70           7   \n",
       "3                     30720              3000               70           7   \n",
       "4                     30720              3000               70           7   \n",
       "...                     ...               ...              ...         ...   \n",
       "2288                  15360               500               20          10   \n",
       "2289                  15360               500               20          10   \n",
       "2290                  15360               500               20          10   \n",
       "2291                  15360               500               20          10   \n",
       "2292                  15360               500               20          10   \n",
       "\n",
       "      usd_per_message  usd_per_minute  extra_calls  extra_messages  \\\n",
       "0                0.01            0.01          0.0             0.0   \n",
       "1                0.01            0.01          0.0             0.0   \n",
       "2                0.01            0.01          0.0             0.0   \n",
       "3                0.01            0.01          0.0             0.0   \n",
       "4                0.01            0.01          0.0             0.0   \n",
       "...               ...             ...          ...             ...   \n",
       "2288             0.03            0.03          0.0            12.0   \n",
       "2289             0.03            0.03          0.0             6.0   \n",
       "2290             0.03            0.03          0.0            26.0   \n",
       "2291             0.03            0.03          0.0            22.0   \n",
       "2292             0.03            0.03          0.0            11.0   \n",
       "\n",
       "      extra_data_gb  revenue  \n",
       "0               0.0    70.00  \n",
       "1               0.0    70.00  \n",
       "2               2.0    84.00  \n",
       "3               0.0    70.00  \n",
       "4               0.0    70.00  \n",
       "...             ...      ...  \n",
       "2288           27.0   290.36  \n",
       "2289           16.0   180.18  \n",
       "2290            0.0    20.78  \n",
       "2291            2.0    40.66  \n",
       "2292            0.0    20.33  \n",
       "\n",
       "[2293 rows x 25 columns]"
      ]
     },
     "metadata": {},
     "output_type": "display_data"
    }
   ],
   "source": [
    "# Calculate the monthly revenue for each user\n",
    "\n",
    "#final_df = pd.merge(merge_df, users_df, on='user_id')\n",
    "#final_df = pd.merge(final_df, plans_df, on='plan_name')\n",
    "#final_df['extra_calls'] = np.maximum(0, final_df['calls'] - final_df['minutes_included'])\n",
    "#final_df['extra_messages'] = np.maximum(0, final_df['messages'] - final_df['messages_included'])\n",
    "#final_df['extra_data_gb'] = np.ceil((final_df['mb_used'] - final_df['mb_per_month_included']) / 1024)\n",
    "#final_df['revenue'] = final_df['usd_monthly_pay'] + \\\n",
    "                       #final_df['extra_calls'] * final_df['usd_per_minute'] + \\\n",
    "                       #final_df['extra_messages'] * final_df['usd_per_message'] + \\\n",
    "                       #np.ceil(final_df['mb_used'] / 1024) * final_df['usd_per_gb']\n",
    "            \n",
    "final_df = pd.merge(merge_df, users_df, on='user_id')\n",
    "final_df = pd.merge(final_df, plans_df, on='plan_name')\n",
    "final_df['extra_calls'] = np.maximum(0, final_df['total_duration'] - final_df['minutes_included'])\n",
    "final_df['extra_messages'] = np.maximum(0, final_df['messages'] - final_df['messages_included'])\n",
    "final_df['extra_data_gb'] = np.maximum(0, np.ceil((final_df['mb_used'] - final_df['mb_per_month_included']) / 1024))\n",
    "final_df['revenue'] = final_df['usd_monthly_pay'] + \\\n",
    "                      final_df['extra_calls'] * final_df['usd_per_minute'] + \\\n",
    "                      final_df['extra_messages'] * final_df['usd_per_message'] + \\\n",
    "                      final_df['extra_data_gb'] * final_df['usd_per_gb']\n",
    "\n",
    "pd.set_option ('display.max_columns', None)\n",
    "final_df.info()\n",
    "display(final_df)"
   ]
  },
  {
   "cell_type": "markdown",
   "metadata": {},
   "source": [
    "# Analysis: Study user behaviour <a id='analysis'></a>"
   ]
  },
  {
   "cell_type": "markdown",
   "metadata": {},
   "source": [
    "## Calls <a id='calls'></a>"
   ]
  },
  {
   "cell_type": "code",
   "execution_count": 30,
   "metadata": {},
   "outputs": [
    {
     "name": "stdout",
     "output_type": "stream",
     "text": [
      "plan_name        surf    ultimate\n",
      "month                            \n",
      "2018-01    209.000000  200.250000\n",
      "2018-02    304.555556  414.142857\n",
      "2018-03    338.565217  313.666667\n",
      "2018-04    360.720000  345.333333\n",
      "2018-05    410.558442  417.862069\n",
      "2018-06    442.577320  380.978723\n",
      "2018-07    462.107438  438.406780\n",
      "2018-08    421.500000  433.507042\n",
      "2018-09    425.582474  449.627907\n",
      "2018-10    441.502110  463.500000\n",
      "2018-11    434.653710  457.606299\n",
      "2018-12    486.481132  471.860927\n"
     ]
    },
    {
     "data": {
      "image/png": "[encoded data removed]",
      "text/plain": [
       "<Figure size 432x288 with 1 Axes>"
      ]
     },
     "metadata": {
      "needs_background": "light"
     },
     "output_type": "display_data"
    }
   ],
   "source": [
    "# Compare average duration of calls per each plan per each distinct month. Plot a bar plot to visualize it.\n",
    "\n",
    "# group the data by month, plan, and calculate the average duration of calls\n",
    "grouped_data = final_df.groupby(['month', 'plan_name'])['total_duration'].mean().reset_index()\n",
    "\n",
    "# use pivot_table() to reshape the data\n",
    "pivoted_data = grouped_data.pivot_table(index='month', columns='plan_name', values='total_duration')\n",
    "print(pivoted_data)\n",
    "\n",
    "# plot the data as a bar chart\n",
    "pivoted_data.plot(\n",
    "    kind='bar',\n",
    "    title='Comparison of Average Duration of Calls per Plan per Month',\n",
    "    xlabel='Month',\n",
    "    ylabel='Average Duration of Calls (minutes)'\n",
    "\n",
    ")\n",
    "\n",
    "plt.legend(['surf', 'ultimate'])\n",
    "plt.show()"
   ]
  },
  {
   "cell_type": "markdown",
   "metadata": {},
   "source": [
    "There does not seem to be an obvious difference in plans regarding users' average call duration, but for both plans, the call duration increases more towards the the second half of the year."
   ]
  },
  {
   "cell_type": "code",
   "execution_count": 31,
   "metadata": {},
   "outputs": [
    {
     "data": {
      "image/png": "[encoded data removed]",
      "text/plain": [
       "<Figure size 432x288 with 1 Axes>"
      ]
     },
     "metadata": {
      "needs_background": "light"
     },
     "output_type": "display_data"
    }
   ],
   "source": [
    "# Compare the number of minutes users of each plan require each month. Plot a histogram.\n",
    "\n",
    "# create two DataFrames for each plan\n",
    "surf_df = final_df[final_df['plan_name'] == 'surf']\n",
    "ultimate_df = final_df[final_df['plan_name'] == 'ultimate']\n",
    "\n",
    "# create two histograms\n",
    "plt.hist(surf_df['total_duration'], bins=30, alpha=0.5, label='surf')\n",
    "plt.hist(ultimate_df['total_duration'], bins=30, alpha=0.5, label='ultimate')\n",
    "\n",
    "plt.xlabel('Total Duration (minutes)')\n",
    "plt.ylabel('Number of Users')\n",
    "plt.title('Distribution of Total Duration of Calls per Plan')\n",
    "plt.legend(['surf', 'ultimate'])\n",
    "plt.show() "
   ]
  },
  {
   "cell_type": "markdown",
   "metadata": {},
   "source": [
    "Both plans exhibit a positive skew, which implies the mean is greater than the median. User behavior in both plans appear to be the same in that most users use around 400 minutes of call time, regardless of plan, but there are more customers on the Surf plan than the Ultimate plan."
   ]
  },
  {
   "cell_type": "code",
   "execution_count": 32,
   "metadata": {},
   "outputs": [
    {
     "name": "stdout",
     "output_type": "stream",
     "text": [
      "   plan_name    month        mean           var\n",
      "0       surf  2018-01  209.000000  16562.000000\n",
      "1       surf  2018-02  304.555556  53925.777778\n",
      "2       surf  2018-03  338.565217  37166.166008\n",
      "3       surf  2018-04  360.720000  52940.164898\n",
      "4       surf  2018-05  410.558442  62903.328776\n",
      "5       surf  2018-06  442.577320  47635.225730\n",
      "6       surf  2018-07  462.107438  64238.213361\n",
      "7       surf  2018-08  421.500000  57386.425466\n",
      "8       surf  2018-09  425.582474  49035.809225\n",
      "9       surf  2018-10  441.502110  54995.234106\n",
      "10      surf  2018-11  434.653710  54130.780367\n",
      "11      surf  2018-12  486.481132  66762.906583\n",
      "12  ultimate  2018-01  200.250000  17388.916667\n",
      "13  ultimate  2018-02  414.142857  81259.809524\n",
      "14  ultimate  2018-03  313.666667  65071.878788\n",
      "15  ultimate  2018-04  345.333333  36720.433333\n",
      "16  ultimate  2018-05  417.862069  46095.408867\n",
      "17  ultimate  2018-06  380.978723  44884.499537\n",
      "18  ultimate  2018-07  438.406780  76352.004091\n",
      "19  ultimate  2018-08  433.507042  56583.110664\n",
      "20  ultimate  2018-09  449.627907  60167.836389\n",
      "21  ultimate  2018-10  463.500000  57141.414286\n",
      "22  ultimate  2018-11  457.606299  63767.843770\n",
      "23  ultimate  2018-12  471.860927  65574.467196\n"
     ]
    }
   ],
   "source": [
    "# Calculate the mean and the variance of the monthly call duration\n",
    "mean_var_df = final_df.groupby(['plan_name', 'month'])['total_duration'].agg(['mean', 'var']).reset_index()\n",
    "print(mean_var_df)"
   ]
  },
  {
   "cell_type": "markdown",
   "metadata": {},
   "source": [
    "Comparing the means between the two plans, we see that the mean call duration for Ultimate plan customers is generally higher than for Surf plan customers, although there are some months where the opposite is true.\n",
    "\n",
    "Comparing the variances between the two plans, we can see that the variance of the call duration for Ultimate plan customers is generally slightly higher than for Surf plan customers.\n",
    "\n",
    "Based on these observations, we can conclude that there are some differences in the behavior of customers on the two plans for their calls. Ultimate plan customers tend to have longer and more variable call durations compared to Surf plan customers."
   ]
  },
  {
   "cell_type": "code",
   "execution_count": 33,
   "metadata": {},
   "outputs": [
    {
     "data": {
      "image/png": "[encoded data removed]",
      "text/plain": [
       "<Figure size 432x288 with 1 Axes>"
      ]
     },
     "metadata": {
      "needs_background": "light"
     },
     "output_type": "display_data"
    }
   ],
   "source": [
    "# Plot a boxplot to visualize the distribution of the monthly call duration\n",
    "\n",
    "surf_data = grouped_data[grouped_data['plan_name'] == 'surf']\n",
    "ultimate_data = grouped_data[grouped_data['plan_name'] == 'ultimate']\n",
    "\n",
    "fig, ax = plt.subplots()\n",
    "\n",
    "ax.boxplot(surf_data['total_duration'], positions=[1], widths=0.6, labels=['surf'])\n",
    "ax.boxplot(ultimate_data['total_duration'], positions=[2], widths=0.6, labels=['ultimate'])\n",
    "\n",
    "ax.set_ylabel('Total Duration (minutes)')\n",
    "\n",
    "plt.show()"
   ]
  },
  {
   "cell_type": "markdown",
   "metadata": {},
   "source": [
    "The box plots show that use behavior between the two plans are relatively similar. Their medians appear to be almost the same, only the first quartile for the Surf plan is larger as well as the range being slightly bigger than that of the Ultimate plan for total call duration."
   ]
  },
  {
   "cell_type": "markdown",
   "metadata": {},
   "source": [
    " "
   ]
  },
  {
   "cell_type": "markdown",
   "metadata": {},
   "source": [
    "## Messages <a id='messages'></a>"
   ]
  },
  {
   "cell_type": "code",
   "execution_count": 34,
   "metadata": {},
   "outputs": [
    {
     "name": "stdout",
     "output_type": "stream",
     "text": [
      "   plan_name    month   messages\n",
      "0       surf  2018-01  10.500000\n",
      "1       surf  2018-02  12.000000\n",
      "2       surf  2018-03  15.260870\n",
      "3       surf  2018-04  17.400000\n",
      "4       surf  2018-05  24.012987\n",
      "5       surf  2018-06  25.298969\n",
      "6       surf  2018-07  27.033058\n",
      "7       surf  2018-08  28.777778\n",
      "8       surf  2018-09  30.762887\n",
      "9       surf  2018-10  33.839662\n",
      "10      surf  2018-11  32.385159\n",
      "11      surf  2018-12  38.600629\n",
      "12  ultimate  2018-01  15.500000\n",
      "13  ultimate  2018-02  21.571429\n",
      "14  ultimate  2018-03  20.250000\n",
      "15  ultimate  2018-04  22.047619\n",
      "16  ultimate  2018-05  32.103448\n",
      "17  ultimate  2018-06  29.340426\n",
      "18  ultimate  2018-07  32.830508\n",
      "19  ultimate  2018-08  38.478873\n",
      "20  ultimate  2018-09  37.895349\n",
      "21  ultimate  2018-10  39.443396\n",
      "22  ultimate  2018-11  38.606299\n",
      "23  ultimate  2018-12  45.006623\n",
      "plan_name       surf   ultimate\n",
      "month                          \n",
      "2018-01    10.500000  15.500000\n",
      "2018-02    12.000000  21.571429\n",
      "2018-03    15.260870  20.250000\n",
      "2018-04    17.400000  22.047619\n",
      "2018-05    24.012987  32.103448\n",
      "2018-06    25.298969  29.340426\n",
      "2018-07    27.033058  32.830508\n",
      "2018-08    28.777778  38.478873\n",
      "2018-09    30.762887  37.895349\n",
      "2018-10    33.839662  39.443396\n",
      "2018-11    32.385159  38.606299\n",
      "2018-12    38.600629  45.006623\n"
     ]
    },
    {
     "data": {
      "image/png": "[encoded data removed]",
      "text/plain": [
       "<Figure size 432x288 with 1 Axes>"
      ]
     },
     "metadata": {
      "needs_background": "light"
     },
     "output_type": "display_data"
    }
   ],
   "source": [
    "# Compare the number of messages users of each plan tend to send each month\n",
    "plan_messages = final_df.groupby(['plan_name', 'month'])['messages'].mean().reset_index()\n",
    "print(plan_messages)\n",
    "\n",
    "# use pivot_table() to reshape the data\n",
    "pivoted_data_msg = plan_messages.pivot_table(index='month', columns='plan_name', values='messages')\n",
    "print(pivoted_data_msg)\n",
    "\n",
    "# plot the data as a bar chart\n",
    "pivoted_data_msg.plot(\n",
    "    kind='bar',\n",
    "    title='Comparison of Average Number of Messages per Plan per Month',\n",
    "    xlabel='Month',\n",
    "    ylabel='Average Number of Messages'\n",
    "\n",
    ")\n",
    "\n",
    "plt.legend(['surf', 'ultimate'])\n",
    "plt.show()"
   ]
  },
  {
   "cell_type": "markdown",
   "metadata": {},
   "source": [
    "Users for the Ultimate plan have a higher average number of messages for every month than those with the Surf plan. However with both plans, there is an increase in average number of messages later in the year."
   ]
  },
  {
   "cell_type": "code",
   "execution_count": 35,
   "metadata": {},
   "outputs": [
    {
     "data": {
      "image/png": "[encoded data removed]",
      "text/plain": [
       "<Figure size 432x288 with 1 Axes>"
      ]
     },
     "metadata": {
      "needs_background": "light"
     },
     "output_type": "display_data"
    }
   ],
   "source": [
    "# Compare the number of minutes users of each plan require each month. Plot a histogram.\n",
    "\n",
    "# create two histograms\n",
    "plt.hist(surf_df['messages'], bins=30, alpha=0.5, label='surf')\n",
    "plt.hist(ultimate_df['messages'], bins=30, alpha=0.5, label='ultimate')\n",
    "\n",
    "plt.xlabel('Total Number of Messages')\n",
    "plt.ylabel('Number of Users')\n",
    "plt.title('Distribution of Total Number of Messages per Plan')\n",
    "plt.legend(['surf', 'ultimate'])\n",
    "plt.show() "
   ]
  },
  {
   "cell_type": "markdown",
   "metadata": {},
   "source": [
    "Both plans exhibit a positive skew, which implies the mean is greater than the median. User behavior in both plans appear to be the same in that most users send less than 50 messages, regardless of plan, but there are more customers on the Surf plan than the Ultimate plan."
   ]
  },
  {
   "cell_type": "code",
   "execution_count": 36,
   "metadata": {},
   "outputs": [
    {
     "name": "stdout",
     "output_type": "stream",
     "text": [
      "   plan_name    month        mean           var\n",
      "0       surf  2018-01  209.000000  16562.000000\n",
      "1       surf  2018-02  304.555556  53925.777778\n",
      "2       surf  2018-03  338.565217  37166.166008\n",
      "3       surf  2018-04  360.720000  52940.164898\n",
      "4       surf  2018-05  410.558442  62903.328776\n",
      "5       surf  2018-06  442.577320  47635.225730\n",
      "6       surf  2018-07  462.107438  64238.213361\n",
      "7       surf  2018-08  421.500000  57386.425466\n",
      "8       surf  2018-09  425.582474  49035.809225\n",
      "9       surf  2018-10  441.502110  54995.234106\n",
      "10      surf  2018-11  434.653710  54130.780367\n",
      "11      surf  2018-12  486.481132  66762.906583\n",
      "12  ultimate  2018-01  200.250000  17388.916667\n",
      "13  ultimate  2018-02  414.142857  81259.809524\n",
      "14  ultimate  2018-03  313.666667  65071.878788\n",
      "15  ultimate  2018-04  345.333333  36720.433333\n",
      "16  ultimate  2018-05  417.862069  46095.408867\n",
      "17  ultimate  2018-06  380.978723  44884.499537\n",
      "18  ultimate  2018-07  438.406780  76352.004091\n",
      "19  ultimate  2018-08  433.507042  56583.110664\n",
      "20  ultimate  2018-09  449.627907  60167.836389\n",
      "21  ultimate  2018-10  463.500000  57141.414286\n",
      "22  ultimate  2018-11  457.606299  63767.843770\n",
      "23  ultimate  2018-12  471.860927  65574.467196\n"
     ]
    }
   ],
   "source": [
    "# Calculate the mean and the variance of the monthly call duration\n",
    "mean_var_df_msg = final_df.groupby(['plan_name', 'month'])['messages'].agg(['mean', 'var']).reset_index()\n",
    "print(mean_var_df)"
   ]
  },
  {
   "cell_type": "code",
   "execution_count": 37,
   "metadata": {},
   "outputs": [
    {
     "data": {
      "image/png": "[encoded data removed]",
      "text/plain": [
       "<Figure size 432x288 with 1 Axes>"
      ]
     },
     "metadata": {
      "needs_background": "light"
     },
     "output_type": "display_data"
    }
   ],
   "source": [
    "# Plot a boxplot to visualize the distribution of the monthly call duration\n",
    "\n",
    "surf_data_msg = plan_messages[plan_messages['plan_name'] == 'surf']\n",
    "ultimate_data_msg = plan_messages[plan_messages['plan_name'] == 'ultimate']\n",
    "\n",
    "fig, ax = plt.subplots()\n",
    "\n",
    "ax.boxplot(surf_data_msg['messages'], positions=[1], widths=0.6, labels=['surf'])\n",
    "ax.boxplot(ultimate_data_msg['messages'], positions=[2], widths=0.6, labels=['ultimate'])\n",
    "\n",
    "ax.set_ylabel('Total Number of Messages')\n",
    "\n",
    "plt.show()"
   ]
  },
  {
   "cell_type": "markdown",
   "metadata": {},
   "source": [
    "The median line of the Ultimate box plot lies outside of the box of the Surf box plot, thus there is likely to be a difference between the two groups. For both plans the first quartile range is larger, but the entire plot for Ultimate is shifted higher than that of Surf, showing that users of the Ultimate plan send more messages than Surf."
   ]
  },
  {
   "cell_type": "markdown",
   "metadata": {},
   "source": [
    "## Internet <a id='internet'></a>"
   ]
  },
  {
   "cell_type": "code",
   "execution_count": 38,
   "metadata": {},
   "outputs": [
    {
     "name": "stdout",
     "output_type": "stream",
     "text": [
      "   plan_name    month     mb_used  traffic_gb\n",
      "0       surf  2018-01     9749.72        10.0\n",
      "1       surf  2018-02   109609.59       110.0\n",
      "2       surf  2018-03   306945.12       312.0\n",
      "3       surf  2018-04   599210.15       611.0\n",
      "4       surf  2018-05  1073099.33      1087.0\n",
      "5       surf  2018-06  1484248.33      1502.0\n",
      "6       surf  2018-07  2030815.67      2042.0\n",
      "7       surf  2018-08  2720843.68      2735.0\n",
      "8       surf  2018-09  3218737.67      3238.0\n",
      "9       surf  2018-10  4102786.41      4126.0\n",
      "10      surf  2018-11  4624009.00      4650.0\n",
      "11      surf  2018-12  5766125.26      5800.0\n",
      "12  ultimate  2018-01    27672.37        29.0\n",
      "13  ultimate  2018-02   119901.66       121.0\n",
      "14  ultimate  2018-03   219858.22       221.0\n",
      "15  ultimate  2018-04   338554.75       343.0\n",
      "16  ultimate  2018-05   482109.99       489.0\n",
      "17  ultimate  2018-06   720882.29       725.0\n",
      "18  ultimate  2018-07   964339.92       973.0\n",
      "19  ultimate  2018-08  1264845.13      1267.0\n",
      "20  ultimate  2018-09  1459408.78      1463.0\n",
      "21  ultimate  2018-10  1866930.66      1878.0\n",
      "22  ultimate  2018-11  2163278.04      2174.0\n",
      "23  ultimate  2018-12  2766801.97      2778.0\n",
      "plan_name    surf  ultimate\n",
      "month                      \n",
      "2018-01      10.0      29.0\n",
      "2018-02     110.0     121.0\n",
      "2018-03     312.0     221.0\n",
      "2018-04     611.0     343.0\n",
      "2018-05    1087.0     489.0\n",
      "2018-06    1502.0     725.0\n",
      "2018-07    2042.0     973.0\n",
      "2018-08    2735.0    1267.0\n",
      "2018-09    3238.0    1463.0\n",
      "2018-10    4126.0    1878.0\n",
      "2018-11    4650.0    2174.0\n",
      "2018-12    5800.0    2778.0\n"
     ]
    },
    {
     "data": {
      "image/png": "[encoded data removed]",
      "text/plain": [
       "<Figure size 432x288 with 1 Axes>"
      ]
     },
     "metadata": {
      "needs_background": "light"
     },
     "output_type": "display_data"
    }
   ],
   "source": [
    "# Compare the amount of internet traffic consumed by users per plan\n",
    "monthly_data_usage = final_df.groupby(['plan_name', 'month'])[['mb_used', 'traffic_gb']].sum()\n",
    "monthly_data_usage = monthly_data_usage.reset_index()\n",
    "print(monthly_data_usage)\n",
    "\n",
    "# use pivot_table() to reshape the data\n",
    "pivoted_data_internet = monthly_data_usage.pivot_table(index='month', columns='plan_name', values='traffic_gb')\n",
    "print(pivoted_data_internet)\n",
    "\n",
    "# plot the data as a bar chart\n",
    "pivoted_data_internet.plot(\n",
    "    kind='bar',\n",
    "    title='Comparison of Average amount of Internet Traffic per Plan per Month',\n",
    "    xlabel='Month',\n",
    "    ylabel='Average amount of Internet Traffic (GB)'\n",
    "\n",
    ")\n",
    "\n",
    "plt.legend(['surf', 'ultimate'])\n",
    "plt.show()"
   ]
  },
  {
   "cell_type": "markdown",
   "metadata": {},
   "source": [
    "Users for the Surf plan have a higher average number amount of internet traffic for every month than those with the Ultimate plan. However with both plans, there is an increase in average amount of internet traffic later in the year."
   ]
  },
  {
   "cell_type": "code",
   "execution_count": 39,
   "metadata": {},
   "outputs": [
    {
     "data": {
      "image/png": "[encoded data removed]",
      "text/plain": [
       "<Figure size 432x288 with 1 Axes>"
      ]
     },
     "metadata": {
      "needs_background": "light"
     },
     "output_type": "display_data"
    }
   ],
   "source": [
    "# Compare the amount of traffic users of each plan require each month. Plot a histogram.\n",
    "\n",
    "# create two histograms\n",
    "plt.hist(surf_df['traffic_gb'], bins=30, alpha=0.5, label='surf')\n",
    "plt.hist(ultimate_df['traffic_gb'], bins=30, alpha=0.5, label='ultimate')\n",
    "\n",
    "plt.xlabel('Total amount of Internet Traffic (GB)')\n",
    "plt.ylabel('Number of Users')\n",
    "plt.title('Distribution of Total amount of Web Traffic per Plan')\n",
    "plt.legend(['surf', 'ultimate'])\n",
    "plt.show() "
   ]
  },
  {
   "cell_type": "markdown",
   "metadata": {},
   "source": [
    "Both plans exhibit a positive skew, which implies the mean is greater than the median. User behavior in both plans appear to be the same in that most users use around 20 GB of data, regardless of plan, but there are more customers on the Surf plan than the Ultimate plan."
   ]
  },
  {
   "cell_type": "code",
   "execution_count": 40,
   "metadata": {},
   "outputs": [
    {
     "name": "stdout",
     "output_type": "stream",
     "text": [
      "   plan_name    month       mean         var\n",
      "0       surf  2018-01   5.000000   18.000000\n",
      "1       surf  2018-02  12.222222   41.444444\n",
      "2       surf  2018-03  13.565217   63.984190\n",
      "3       surf  2018-04  12.220000   56.215918\n",
      "4       surf  2018-05  14.116883   58.183527\n",
      "5       surf  2018-06  15.484536   47.752363\n",
      "6       surf  2018-07  16.876033   61.476171\n",
      "7       surf  2018-08  16.882716   71.420942\n",
      "8       surf  2018-09  16.690722   49.240639\n",
      "9       surf  2018-10  17.409283   60.725846\n",
      "10      surf  2018-11  16.431095   54.607824\n",
      "11      surf  2018-12  18.238994   69.210841\n",
      "12  ultimate  2018-01   7.250000   14.916667\n",
      "13  ultimate  2018-02  17.285714   37.904762\n",
      "14  ultimate  2018-03  18.416667  138.628788\n",
      "15  ultimate  2018-04  16.333333   85.833333\n",
      "16  ultimate  2018-05  16.862069   54.194581\n",
      "17  ultimate  2018-06  15.425532   68.858464\n",
      "18  ultimate  2018-07  16.491525   64.254237\n",
      "19  ultimate  2018-08  17.845070   58.047082\n",
      "20  ultimate  2018-09  17.011628   47.258687\n",
      "21  ultimate  2018-10  17.716981   54.604852\n",
      "22  ultimate  2018-11  17.118110   54.390701\n",
      "23  ultimate  2018-12  18.397351   58.841060\n"
     ]
    }
   ],
   "source": [
    "# Calculate the mean and the variance of the monthly call duration\n",
    "mean_var_df_internet = final_df.groupby(['plan_name', 'month'])['traffic_gb'].agg(['mean', 'var']).reset_index()\n",
    "print(mean_var_df_internet)"
   ]
  },
  {
   "cell_type": "code",
   "execution_count": 41,
   "metadata": {},
   "outputs": [
    {
     "data": {
      "image/png": "[encoded data removed]",
      "text/plain": [
       "<Figure size 432x288 with 1 Axes>"
      ]
     },
     "metadata": {
      "needs_background": "light"
     },
     "output_type": "display_data"
    }
   ],
   "source": [
    "# Plot a boxplot to visualize the distribution of the monthly call duration\n",
    "\n",
    "surf_data_internet = monthly_data_usage[monthly_data_usage['plan_name'] == 'surf']\n",
    "ultimate_data_internet = monthly_data_usage[monthly_data_usage['plan_name'] == 'ultimate']\n",
    "\n",
    "fig, ax = plt.subplots()\n",
    "\n",
    "ax.boxplot(surf_data_internet['traffic_gb'], positions=[1], widths=0.6, labels=['surf'])\n",
    "ax.boxplot(ultimate_data_internet['traffic_gb'], positions=[2], widths=0.6, labels=['ultimate'])\n",
    "\n",
    "ax.set_ylabel('Total amount of Web Traffic')\n",
    "\n",
    "plt.show()"
   ]
  },
  {
   "cell_type": "markdown",
   "metadata": {},
   "source": [
    "The box plots show that use behavior between the two plans are different. The median for amount of internet traffic for those in the Surf plan is higher and has a much larger range, almost double as that of those on the Ultimate plan."
   ]
  },
  {
   "cell_type": "markdown",
   "metadata": {},
   "source": [
    "## Revenue <a id='revenue'></a>"
   ]
  },
  {
   "cell_type": "markdown",
   "metadata": {},
   "source": [
    "[Likewise you have studied the user behaviour, statistically describe the revenue between the plans.]"
   ]
  },
  {
   "cell_type": "code",
   "execution_count": 42,
   "metadata": {},
   "outputs": [
    {
     "name": "stdout",
     "output_type": "stream",
     "text": [
      "   plan_name    month   revenue\n",
      "0       surf  2018-01     40.00\n",
      "1       surf  2018-02    300.24\n",
      "2       surf  2018-03   1040.39\n",
      "3       surf  2018-04   1982.61\n",
      "4       surf  2018-05   3539.66\n",
      "5       surf  2018-06   4624.49\n",
      "6       surf  2018-07   7317.58\n",
      "7       surf  2018-08  10089.19\n",
      "8       surf  2018-09  11026.09\n",
      "9       surf  2018-10  15079.58\n",
      "10      surf  2018-11  15919.64\n",
      "11      surf  2018-12  21631.46\n",
      "12  ultimate  2018-01    280.00\n",
      "13  ultimate  2018-02    490.00\n",
      "14  ultimate  2018-03    896.00\n",
      "15  ultimate  2018-04   1533.00\n",
      "16  ultimate  2018-05   2051.00\n",
      "17  ultimate  2018-06   3367.00\n",
      "18  ultimate  2018-07   4242.00\n",
      "19  ultimate  2018-08   5173.00\n",
      "20  ultimate  2018-09   6195.00\n",
      "21  ultimate  2018-10   7665.00\n",
      "22  ultimate  2018-11   9107.00\n",
      "23  ultimate  2018-12  11067.00\n",
      "plan_name      surf  ultimate\n",
      "month                        \n",
      "2018-01       40.00     280.0\n",
      "2018-02      300.24     490.0\n",
      "2018-03     1040.39     896.0\n",
      "2018-04     1982.61    1533.0\n",
      "2018-05     3539.66    2051.0\n",
      "2018-06     4624.49    3367.0\n",
      "2018-07     7317.58    4242.0\n",
      "2018-08    10089.19    5173.0\n",
      "2018-09    11026.09    6195.0\n",
      "2018-10    15079.58    7665.0\n",
      "2018-11    15919.64    9107.0\n",
      "2018-12    21631.46   11067.0\n"
     ]
    },
    {
     "data": {
      "image/png": "[encoded data removed]",
      "text/plain": [
       "<Figure size 432x288 with 1 Axes>"
      ]
     },
     "metadata": {
      "needs_background": "light"
     },
     "output_type": "display_data"
    }
   ],
   "source": [
    "# Compare the amount of revenue consumed by users per plan\n",
    "revenue = final_df.groupby(['plan_name', 'month'])[['revenue']].sum()\n",
    "revenue = revenue.reset_index()\n",
    "print(revenue)\n",
    "\n",
    "# use pivot_table() to reshape the data\n",
    "pivoted_data_revenue = revenue.pivot_table(index='month', columns='plan_name', values='revenue')\n",
    "print(pivoted_data_revenue)\n",
    "\n",
    "# plot the data as a bar chart\n",
    "pivoted_data_revenue.plot(\n",
    "    kind='bar',\n",
    "    title='Comparison of Revenue per Plan per Month',\n",
    "    xlabel='Month',\n",
    "    ylabel='Average Revenue'\n",
    "\n",
    ")\n",
    "\n",
    "plt.legend(['surf', 'ultimate'])\n",
    "plt.show()"
   ]
  },
  {
   "cell_type": "markdown",
   "metadata": {},
   "source": [
    "Users for the Surf plan have a higher average revenue for every month than those with the Ultimate plan. However with both plans, there is an increase in average amount of revenue later in the year."
   ]
  },
  {
   "cell_type": "code",
   "execution_count": 43,
   "metadata": {},
   "outputs": [
    {
     "name": "stdout",
     "output_type": "stream",
     "text": [
      "   plan_name    month       mean          var  median\n",
      "0       surf  2018-01  20.000000     0.000000   20.00\n",
      "1       surf  2018-02  33.360000   449.206400   20.24\n",
      "2       surf  2018-03  45.234348  1489.651098   20.00\n",
      "3       surf  2018-04  39.652200  1198.121352   20.00\n",
      "4       surf  2018-05  45.969610  1885.770970   20.00\n",
      "5       surf  2018-06  47.675155  1923.268538   30.00\n",
      "6       surf  2018-07  60.475868  2800.107781   40.00\n",
      "7       surf  2018-08  62.278951  3479.524052   40.00\n",
      "8       surf  2018-09  56.835515  2228.765394   40.00\n",
      "9       surf  2018-10  63.626920  3096.703024   50.00\n",
      "10      surf  2018-11  56.253145  2448.453600   40.00\n",
      "11      surf  2018-12  68.023459  4458.748599   50.00\n",
      "12  ultimate  2018-01  70.000000     0.000000   70.00\n",
      "13  ultimate  2018-02  70.000000     0.000000   70.00\n",
      "14  ultimate  2018-03  74.666667   145.515152   70.00\n",
      "15  ultimate  2018-04  73.000000   120.400000   70.00\n",
      "16  ultimate  2018-05  70.724138    15.206897   70.00\n",
      "17  ultimate  2018-06  71.638298    75.018501   70.00\n",
      "18  ultimate  2018-07  71.898305   104.472238   70.00\n",
      "19  ultimate  2018-08  72.859155   154.808451   70.00\n",
      "20  ultimate  2018-09  72.034884    75.939945   70.00\n",
      "21  ultimate  2018-10  72.311321   169.606918   70.00\n",
      "22  ultimate  2018-11  71.708661    94.668416   70.00\n",
      "23  ultimate  2018-12  73.291391   212.861192   70.00\n"
     ]
    }
   ],
   "source": [
    "# Calculate the mean and the variance of the monthly revenue\n",
    "mean_var_df_rev = final_df.groupby(['plan_name', 'month'])['revenue'].agg(['mean', 'var', 'median']).reset_index()\n",
    "print(mean_var_df_rev)"
   ]
  },
  {
   "cell_type": "markdown",
   "metadata": {},
   "source": [
    "For both plans, the mean and median are very similar, inferring that the data is not heavily skewed. The variance generally higher for Surf plan than that of the Ultimate plan, meaning that the data is more spread out than the Ultimate plan."
   ]
  },
  {
   "cell_type": "code",
   "execution_count": 44,
   "metadata": {},
   "outputs": [
    {
     "data": {
      "image/png": "[encoded data removed]",
      "text/plain": [
       "<Figure size 432x288 with 1 Axes>"
      ]
     },
     "metadata": {
      "needs_background": "light"
     },
     "output_type": "display_data"
    }
   ],
   "source": [
    "# Plot a boxplot to visualize the distribution of the monthly revenue\n",
    "\n",
    "surf_data_revenue = revenue[revenue['plan_name'] == 'surf']\n",
    "ultimate_data_revenue = revenue[revenue['plan_name'] == 'ultimate']\n",
    "\n",
    "fig, ax = plt.subplots()\n",
    "\n",
    "ax.boxplot(surf_data_revenue['revenue'], positions=[1], widths=0.6, labels=['surf'])\n",
    "ax.boxplot(ultimate_data_revenue['revenue'], positions=[2], widths=0.6, labels=['ultimate'])\n",
    "\n",
    "ax.set_ylabel('Total amount of Revenue')\n",
    "\n",
    "plt.show()"
   ]
  },
  {
   "cell_type": "markdown",
   "metadata": {},
   "source": [
    "The box plots show that use behavior between the two plans are different. The median for amount of revenue for those in the Surf plan is higher and has a much larger range, almost double as that of those on the Ultimate plan."
   ]
  },
  {
   "cell_type": "markdown",
   "metadata": {},
   "source": [
    "# Test statistical hypotheses <a id='hypothesis'></a>"
   ]
  },
  {
   "cell_type": "markdown",
   "metadata": {},
   "source": [
    "Null hypothesis (H0): The average revenue from users of the Ultimate and Surf calling plans is equal.\n",
    "\n",
    "Alternative hypothesis (HA): The average revenue from users of the Ultimate and Surf calling plans is not equal.\n",
    "\n",
    "We can test this hypothesis using a two-sample t-test because we're comparing the means of two independent samples."
   ]
  },
  {
   "cell_type": "code",
   "execution_count": 45,
   "metadata": {},
   "outputs": [
    {
     "name": "stdout",
     "output_type": "stream",
     "text": [
      "p-value:  7.040478272322767e-11\n",
      "We reject the null hypothesis\n"
     ]
    }
   ],
   "source": [
    "# Test the hypotheses\n",
    "    \n",
    "ultimate_revenue = final_df[final_df['plan_name']=='ultimate']['revenue']\n",
    "surf_revenue = final_df[final_df['plan_name']=='surf']['revenue']\n",
    "\n",
    "alpha = 0.05\n",
    "\n",
    "results = st.ttest_ind(ultimate_revenue, surf_revenue, equal_var=True)\n",
    "\n",
    "print('p-value: ', results.pvalue)\n",
    "\n",
    "if results.pvalue < alpha:\n",
    "    print(\"We reject the null hypothesis\")\n",
    "else:\n",
    "    print(\"We can't reject to reject the null hypothesis\")"
   ]
  },
  {
   "cell_type": "markdown",
   "metadata": {},
   "source": [
    "If we can't reject the null hypothesis that the average revenue from users of the Ultimate and Surf calling plans is equal, it means that we don't have enough evidence to conclude that the average revenue of the two calling plans is different. This does not necessarily mean that the two calling plans have the same revenue, but rather that the difference between the two means is not statistically significant at the chosen level of significance (alpha value).\n",
    "\n",
    "In other words, we cannot conclude that there is a significant difference between the revenue generated by the Ultimate and Surf calling plans based on the sample data we have. It is possible that the difference in revenue between the two plans exists in the population, but we cannot detect it with the current sample data. Therefore, we would need to collect more data to increase our sample size and improve the accuracy of our analysis."
   ]
  },
  {
   "cell_type": "markdown",
   "metadata": {},
   "source": []
  },
  {
   "cell_type": "markdown",
   "metadata": {},
   "source": [
    "Null Hypothesis (H0): The mean revenue from users in the NY-NJ area is equal to the mean revenue from users in other regions.\n",
    "\n",
    "Alternative Hypothesis (HA): The mean revenue from users in the NY-NJ area is different from the mean revenue from users in other regions.\n",
    "\n",
    "We can test this hypothesis using a two-sample t-test because we're comparing the means of two independent samples."
   ]
  },
  {
   "cell_type": "code",
   "execution_count": 46,
   "metadata": {},
   "outputs": [
    {
     "name": "stdout",
     "output_type": "stream",
     "text": [
      "p-value:  0.028765503550625456\n",
      "We reject the null hypothesis\n"
     ]
    }
   ],
   "source": [
    "# Test the hypotheses\n",
    "\n",
    "ny_nj_users = final_df[final_df['city'].isin(['New York-Newark-Jersey City, NY-NJ-PA MSA'])]\n",
    "other_users = final_df[~final_df['city'].isin(['New York-Newark-Jersey City, NY-NJ-PA MSA'])]\n",
    "\n",
    "alpha = 0.05\n",
    "\n",
    "results = st.ttest_ind(ny_nj_users['revenue'], other_users['revenue'], equal_var=False)\n",
    "\n",
    "print('p-value: ', results.pvalue)\n",
    "\n",
    "if results.pvalue < alpha:\n",
    "    print(\"We reject the null hypothesis\")\n",
    "else:\n",
    "    print(\"We can't reject to reject the null hypothesis\")"
   ]
  },
  {
   "cell_type": "markdown",
   "metadata": {},
   "source": [
    "If we can't reject the null hypothesis, it means the observed difference in average revenue between users in the NY-NJ area and users in other regions is not statistically significant. This suggests that the difference in revenue is likely due to chance or random variation, and it is unlikely that there is a real difference in behavior between users in these two groups.\n",
    "\n",
    "If we cannot reject the null hypothesis, we cannot conclude that there is evidence to support the alternative hypothesis, which in this case would be that the average revenue from users in the NY-NJ area is different from that of the users from the other regions."
   ]
  },
  {
   "cell_type": "markdown",
   "metadata": {},
   "source": [
    "# General conclusion <a id='conclusion'></a>"
   ]
  },
  {
   "cell_type": "markdown",
   "metadata": {},
   "source": [
    "Based on the given data of the populations for both plans, calling behavior is similar for both plans. Those on the Ultimate plan send more messages than those with the Surf plan, but those on the Surf plan have higher internet traffic and revenue.\n",
    "\n",
    "However, based on the results when testing the hypothesis if the two plans have equal revenue, it was determined that we cannot conclude that there is a significant difference between the revenue generated by the Ultimate and Surf calling plans based on the sample data we have. Discrepancies may be due to population since from the provided data more users were on the Surf plan than the Ultimate plan.\n",
    "\n",
    "After testing the second hypothesis if there was a difference in revenue based on region, it was determined that it is not statistically significant and any differences are mostl likely random variation.\n",
    "\n",
    "More data would need to be collected to increase our sample size and improve the accuracy of our analysis."
   ]
  }
 ],
 "metadata": {
  "ExecuteTimeLog": [
   {
    "duration": 828,
    "start_time": "2021-11-16T09:21:11.304Z"
   },
   {
    "duration": 893,
    "start_time": "2021-11-16T09:21:17.728Z"
   },
   {
    "duration": 1150,
    "start_time": "2021-11-16T09:21:29.568Z"
   },
   {
    "duration": 3,
    "start_time": "2021-11-16T09:24:14.495Z"
   },
   {
    "duration": 120,
    "start_time": "2021-11-16T09:24:46.630Z"
   },
   {
    "duration": 3,
    "start_time": "2021-11-16T09:28:27.882Z"
   },
   {
    "duration": 4,
    "start_time": "2021-11-16T09:29:54.281Z"
   },
   {
    "duration": 3,
    "start_time": "2021-11-16T09:30:45.936Z"
   },
   {
    "duration": 4,
    "start_time": "2021-11-16T09:31:06.300Z"
   },
   {
    "duration": 113,
    "start_time": "2021-11-16T09:31:37.208Z"
   },
   {
    "duration": 143,
    "start_time": "2021-11-16T09:31:48.656Z"
   },
   {
    "duration": 98,
    "start_time": "2021-11-16T09:31:55.678Z"
   },
   {
    "duration": 3,
    "start_time": "2021-11-16T09:32:08.535Z"
   },
   {
    "duration": 111,
    "start_time": "2021-11-16T09:32:10.120Z"
   },
   {
    "duration": 3,
    "start_time": "2021-11-16T09:32:15.732Z"
   },
   {
    "duration": 4,
    "start_time": "2021-11-16T09:32:29.423Z"
   },
   {
    "duration": 3,
    "start_time": "2021-11-16T10:03:03.074Z"
   },
   {
    "duration": 3,
    "start_time": "2021-11-16T10:10:01.288Z"
   },
   {
    "duration": 3,
    "start_time": "2021-11-16T10:10:46.923Z"
   },
   {
    "duration": 121,
    "start_time": "2021-11-16T10:37:46.494Z"
   },
   {
    "duration": 125,
    "start_time": "2021-11-16T10:38:20.632Z"
   },
   {
    "duration": 112,
    "start_time": "2021-11-16T10:46:53.001Z"
   },
   {
    "duration": 110,
    "start_time": "2021-11-16T10:48:25.775Z"
   },
   {
    "duration": 3,
    "start_time": "2021-11-16T10:50:18.720Z"
   },
   {
    "duration": 4,
    "start_time": "2021-11-16T10:50:37.649Z"
   },
   {
    "duration": 2,
    "start_time": "2021-11-16T10:50:51.884Z"
   },
   {
    "duration": 3,
    "start_time": "2021-11-16T10:51:56.237Z"
   },
   {
    "duration": 101,
    "start_time": "2021-11-16T10:53:13.791Z"
   },
   {
    "duration": 3,
    "start_time": "2021-11-16T10:55:59.186Z"
   },
   {
    "duration": 3,
    "start_time": "2021-11-16T10:56:10.751Z"
   },
   {
    "duration": 3,
    "start_time": "2021-11-16T10:56:49.038Z"
   },
   {
    "duration": 3,
    "start_time": "2021-11-16T10:56:49.174Z"
   },
   {
    "duration": 4,
    "start_time": "2021-11-16T10:56:49.414Z"
   },
   {
    "duration": 3,
    "start_time": "2021-11-16T10:56:49.680Z"
   },
   {
    "duration": 3,
    "start_time": "2021-11-16T10:56:50.370Z"
   },
   {
    "duration": 114,
    "start_time": "2021-11-16T10:59:34.518Z"
   },
   {
    "duration": 3,
    "start_time": "2021-11-16T11:01:41.201Z"
   },
   {
    "duration": 116,
    "start_time": "2021-11-16T11:01:48.754Z"
   },
   {
    "duration": 3,
    "start_time": "2021-11-16T11:02:16.685Z"
   },
   {
    "duration": 3,
    "start_time": "2021-11-16T11:02:19.479Z"
   },
   {
    "duration": 3,
    "start_time": "2021-11-16T11:02:47.067Z"
   },
   {
    "duration": 3,
    "start_time": "2021-11-16T11:02:49.353Z"
   },
   {
    "duration": 3,
    "start_time": "2021-11-16T11:03:07.835Z"
   },
   {
    "duration": 3,
    "start_time": "2021-11-16T11:03:07.953Z"
   },
   {
    "duration": 112,
    "start_time": "2021-11-16T11:07:52.072Z"
   },
   {
    "duration": 187,
    "start_time": "2021-11-16T11:09:23.468Z"
   },
   {
    "duration": 4,
    "start_time": "2021-11-16T11:10:01.455Z"
   },
   {
    "duration": 3,
    "start_time": "2021-11-16T11:10:05.069Z"
   },
   {
    "duration": 4,
    "start_time": "2021-11-16T11:10:13.376Z"
   },
   {
    "duration": 3,
    "start_time": "2021-11-16T11:10:14.434Z"
   },
   {
    "duration": 3,
    "start_time": "2021-11-16T11:10:22.853Z"
   },
   {
    "duration": 4,
    "start_time": "2021-11-16T11:27:29.279Z"
   },
   {
    "duration": 4,
    "start_time": "2021-11-16T11:29:08.919Z"
   },
   {
    "duration": 118,
    "start_time": "2021-11-16T11:29:46.703Z"
   },
   {
    "duration": 437,
    "start_time": "2021-11-16T11:36:02.181Z"
   },
   {
    "duration": 157,
    "start_time": "2021-11-16T11:36:14.388Z"
   },
   {
    "duration": 207,
    "start_time": "2021-11-16T11:47:15.898Z"
   },
   {
    "duration": 3,
    "start_time": "2021-11-16T11:53:52.092Z"
   },
   {
    "duration": 3,
    "start_time": "2021-11-16T11:53:52.236Z"
   },
   {
    "duration": 3,
    "start_time": "2021-11-16T11:59:12.005Z"
   },
   {
    "duration": 112,
    "start_time": "2021-11-16T12:00:33.446Z"
   },
   {
    "duration": 3,
    "start_time": "2021-11-16T12:02:14.453Z"
   },
   {
    "duration": 3,
    "start_time": "2021-11-16T12:02:39.512Z"
   },
   {
    "duration": 106,
    "start_time": "2021-11-16T12:03:03.460Z"
   },
   {
    "duration": 3,
    "start_time": "2021-11-17T20:37:21.139Z"
   },
   {
    "duration": 3,
    "start_time": "2021-11-17T20:37:22.229Z"
   },
   {
    "duration": 3,
    "start_time": "2021-11-17T20:38:38.806Z"
   },
   {
    "duration": 3,
    "start_time": "2021-11-17T20:38:41.958Z"
   },
   {
    "duration": 3,
    "start_time": "2021-11-17T20:43:46.551Z"
   },
   {
    "duration": 4,
    "start_time": "2021-11-17T20:58:21.835Z"
   },
   {
    "duration": 3,
    "start_time": "2021-11-17T20:59:21.872Z"
   },
   {
    "duration": 4,
    "start_time": "2021-11-17T20:59:45.352Z"
   },
   {
    "duration": 4,
    "start_time": "2021-11-17T20:59:49.646Z"
   },
   {
    "duration": 159,
    "start_time": "2021-11-17T21:02:26.949Z"
   },
   {
    "duration": 3,
    "start_time": "2021-11-17T21:03:53.461Z"
   },
   {
    "duration": 3,
    "start_time": "2021-11-17T21:03:53.694Z"
   },
   {
    "duration": 3,
    "start_time": "2021-11-17T21:05:28.145Z"
   },
   {
    "duration": 116,
    "start_time": "2021-11-17T21:05:57.787Z"
   },
   {
    "duration": 3,
    "start_time": "2021-11-17T21:06:37.993Z"
   },
   {
    "duration": 3,
    "start_time": "2021-11-17T21:06:38.261Z"
   },
   {
    "duration": 3,
    "start_time": "2021-11-17T21:11:54.358Z"
   },
   {
    "duration": 3,
    "start_time": "2021-11-17T21:12:43.846Z"
   },
   {
    "duration": 4,
    "start_time": "2021-11-17T21:13:08.773Z"
   },
   {
    "duration": 3,
    "start_time": "2021-11-17T21:14:44.441Z"
   },
   {
    "duration": 3,
    "start_time": "2021-11-17T21:15:42.059Z"
   },
   {
    "duration": 4,
    "start_time": "2021-11-17T21:15:51.995Z"
   },
   {
    "duration": 3,
    "start_time": "2021-11-17T21:15:53.923Z"
   },
   {
    "duration": 3,
    "start_time": "2021-11-17T21:15:55.282Z"
   },
   {
    "duration": 3,
    "start_time": "2021-11-17T21:16:28.492Z"
   },
   {
    "duration": 3,
    "start_time": "2021-11-17T21:16:32.603Z"
   },
   {
    "duration": 3,
    "start_time": "2021-11-17T21:17:06.941Z"
   },
   {
    "duration": 98,
    "start_time": "2021-11-17T21:18:05.733Z"
   },
   {
    "duration": 4,
    "start_time": "2021-11-17T21:21:35.255Z"
   },
   {
    "duration": 3,
    "start_time": "2021-11-17T21:21:37.804Z"
   },
   {
    "duration": 4,
    "start_time": "2021-11-17T21:23:06.071Z"
   },
   {
    "duration": 3,
    "start_time": "2021-11-17T21:23:24.799Z"
   },
   {
    "duration": 3,
    "start_time": "2021-11-17T21:23:32.591Z"
   },
   {
    "duration": 98,
    "start_time": "2021-11-17T21:28:31.559Z"
   },
   {
    "duration": 3,
    "start_time": "2021-11-17T21:28:45.448Z"
   },
   {
    "duration": 3,
    "start_time": "2021-11-17T21:29:17.303Z"
   },
   {
    "duration": 3,
    "start_time": "2021-11-17T21:29:29.617Z"
   },
   {
    "duration": 3,
    "start_time": "2021-11-17T21:29:32.681Z"
   },
   {
    "duration": 3,
    "start_time": "2021-11-17T21:36:11.474Z"
   },
   {
    "duration": 3,
    "start_time": "2021-11-17T21:36:14.791Z"
   },
   {
    "duration": 3,
    "start_time": "2021-11-17T21:36:53.943Z"
   },
   {
    "duration": 3,
    "start_time": "2021-11-17T21:36:56.165Z"
   },
   {
    "duration": 4,
    "start_time": "2021-11-17T21:37:16.590Z"
   },
   {
    "duration": 3,
    "start_time": "2021-11-17T21:37:22.702Z"
   },
   {
    "duration": 4,
    "start_time": "2021-11-17T21:38:03.479Z"
   },
   {
    "duration": 3,
    "start_time": "2021-11-17T21:38:08.601Z"
   },
   {
    "duration": 3,
    "start_time": "2021-11-17T21:38:12.928Z"
   },
   {
    "duration": 3,
    "start_time": "2021-11-17T21:38:48.896Z"
   },
   {
    "duration": 2,
    "start_time": "2021-11-17T21:38:49.171Z"
   },
   {
    "duration": 4,
    "start_time": "2021-11-17T21:39:57.889Z"
   },
   {
    "duration": 3,
    "start_time": "2021-11-17T21:39:58.057Z"
   },
   {
    "duration": 3,
    "start_time": "2021-11-17T21:41:20.108Z"
   },
   {
    "duration": 3,
    "start_time": "2021-11-17T21:41:20.629Z"
   },
   {
    "duration": 3,
    "start_time": "2021-11-17T21:42:49.136Z"
   },
   {
    "duration": 3,
    "start_time": "2021-11-17T21:43:15.137Z"
   },
   {
    "duration": 4,
    "start_time": "2021-11-17T21:43:16.766Z"
   },
   {
    "duration": 4,
    "start_time": "2021-11-17T21:43:31.711Z"
   },
   {
    "duration": 3,
    "start_time": "2021-11-17T21:43:36.312Z"
   },
   {
    "duration": 4,
    "start_time": "2021-11-17T21:45:08.825Z"
   },
   {
    "duration": 4,
    "start_time": "2021-11-17T21:45:10.119Z"
   },
   {
    "duration": 4,
    "start_time": "2021-11-17T21:45:13.748Z"
   },
   {
    "duration": 3,
    "start_time": "2021-11-17T21:45:22.219Z"
   },
   {
    "duration": 3,
    "start_time": "2021-11-17T21:45:33.412Z"
   },
   {
    "duration": 2,
    "start_time": "2021-11-17T21:46:01.885Z"
   },
   {
    "duration": 3,
    "start_time": "2021-11-17T21:46:03.628Z"
   },
   {
    "duration": 107,
    "start_time": "2021-11-17T21:47:32.512Z"
   },
   {
    "duration": 103,
    "start_time": "2021-11-17T21:50:36.243Z"
   },
   {
    "duration": 3,
    "start_time": "2021-11-18T06:28:31.440Z"
   },
   {
    "duration": 3,
    "start_time": "2021-11-18T06:29:00.168Z"
   },
   {
    "duration": 3,
    "start_time": "2021-11-18T06:31:27.008Z"
   },
   {
    "duration": 2,
    "start_time": "2021-11-18T06:35:34.288Z"
   },
   {
    "duration": 2,
    "start_time": "2021-11-18T06:38:04.527Z"
   }
  ],
  "kernelspec": {
   "display_name": "Python 3 (ipykernel)",
   "language": "python",
   "name": "python3"
  },
  "language_info": {
   "codemirror_mode": {
    "name": "ipython",
    "version": 3
   },
   "file_extension": ".py",
   "mimetype": "text/x-python",
   "name": "python",
   "nbconvert_exporter": "python",
   "pygments_lexer": "ipython3",
   "version": "3.9.19"
  },
  "toc": {
   "base_numbering": 1,
   "nav_menu": {},
   "number_sections": true,
   "sideBar": true,
   "skip_h1_title": false,
   "title_cell": "Table of Contents",
   "title_sidebar": "Contents",
   "toc_cell": false,
   "toc_position": {
    "height": "calc(100% - 180px)",
    "left": "10px",
    "top": "150px",
    "width": "190px"
   },
   "toc_section_display": true,
   "toc_window_display": false
  }
 },
 "nbformat": 4,
 "nbformat_minor": 2
}
