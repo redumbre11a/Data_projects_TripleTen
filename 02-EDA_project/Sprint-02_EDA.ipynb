{
 "cells": [
  {
   "cell_type": "markdown",
   "id": "046e0ebd",
   "metadata": {},
   "source": [
    "# Shopping Habits of Instacart Customers"
   ]
  },
  {
   "cell_type": "markdown",
   "id": "648413ab",
   "metadata": {},
   "source": [
    "# Contents <a id='back'></a>\n",
    "\n",
    "* [Introduction](#introduction)\n",
    "* [Data Overview](#data_overview)\n",
    "* [Step 1. Find and remove duplicate values](#duplicates)\n",
    "    * [1.1 `orders` dataframe](#orders_df_duplicates)\n",
    "    * [1.2 `products` dataframe](#products_df_duplicates)\n",
    "    * [1.3 `departments` dataframe](#departments_df_duplicates)\n",
    "    * [1.4 `aisles` dataframe](#aisles_df_duplicates)\n",
    "    * [1.5 `order_products` dataframe](#order_products_df_conclusions)\n",
    "* [Step 2. Find and remove missing values](#missing_values)\n",
    "    * [2.1 `products` dataframe](#products_df_missing_values)\n",
    "    * [2.2 `orders` dataframe](#orders_df_missing_values)\n",
    "    * [2.3 `order_products` dataframe](#order_products__df_missing_values)\n",
    "* [Step 3. Analysis A](#analysis_a)\n",
    "    * [2.4 A1](#a1)\n",
    "    * [2.5 A2](#a2)\n",
    "    * [2.6 A3](#a3)\n",
    "    * [2.7 A4](#a4)\n",
    "* [Step 4. Analysis B](#analysis_b)\n",
    "    * [2.8 B1](#b1)\n",
    "    * [2.9 B2](#b2)\n",
    "    * [2.10 B3](#b3)\n",
    "* [Step 5. Analysis C](#analysis_c)\n",
    "    * [2.12 C2](#c2)\n",
    "    * [2.13 C3](#c3)\n",
    "* [Findings](#findings)"
   ]
  },
  {
   "cell_type": "markdown",
   "id": "7b9d0bc7",
   "metadata": {},
   "source": [
    "# Introduction <a id='introduction'></a>\n",
    "\n",
    "For this project, data from Instacart will be analyzed.\n",
    "Instacart is a grocery delivery platform where customers can place a grocery order and have it delivered to them, similar to how Uber Eats and Door Dash work. This particular dataset was publicly released by Instacart in 2017 for a Kaggle competition.\n",
    "The dataset that was provided for has been modified from the original, reducing the size of the dataset so that calculations run faster and missing and duplicate values have been introduced. The distributions were still preserved from the original data when changes were made.\n",
    "\n",
    "### Goal\n",
    "\n",
    "The goal is to clean up the data and prepare a report that gives insight into the shopping habits of Instacart customers. This project will require plots that communicate the results.\n",
    "\n",
    "### Stages \n",
    "There are five tables in the dataset, and all of them will be used for data preprocessing and EDA: `/datasets/instacart_orders.csv`, `/datasets/products.csv`, `/datasets/aisles.csv`, `/datasets/departments.csv`, and `/datasets/order_products.csv`.\n",
    "\n",
    "For the data overview, general information will be pulled up to assess if anything regarding formatting needs to be cleaned up for analysis. In the preprocessing stage, duplicate and missing values will be taken into account and appropriate changes to the dataframes will be made. For analysis, there will be three levels of difficulty, Analysis A (Easy) and Analysis B (Medium), in which all tasks must be completed, and Analysis C (Hard), where at least two of the tasks must be completed.\n",
    " \n",
    "The project will consist of three stages:\n",
    " 1. Data overview\n",
    " 2. Data preprocessing\n",
    " 3. Completing varying difficulty analyses\n",
    " \n",
    "[Back to Contents](#back)"
   ]
  },
  {
   "cell_type": "markdown",
   "id": "fcdcb2ae",
   "metadata": {},
   "source": [
    "# Data Overview <a id='data_overview'></a>"
   ]
  },
  {
   "cell_type": "code",
   "execution_count": 1,
   "id": "ad6a1efa",
   "metadata": {},
   "outputs": [],
   "source": [
    "#importing pandas\n",
    "import pandas as pd\n",
    "\n",
    "from matplotlib import pyplot as plt"
   ]
  },
  {
   "cell_type": "code",
   "execution_count": 2,
   "id": "5130e05e",
   "metadata": {},
   "outputs": [
    {
     "data": {
      "text/html": [
       "<div>\n",
       "<style scoped>\n",
       "    .dataframe tbody tr th:only-of-type {\n",
       "        vertical-align: middle;\n",
       "    }\n",
       "\n",
       "    .dataframe tbody tr th {\n",
       "        vertical-align: top;\n",
       "    }\n",
       "\n",
       "    .dataframe thead th {\n",
       "        text-align: right;\n",
       "    }\n",
       "</style>\n",
       "<table border=\"1\" class=\"dataframe\">\n",
       "  <thead>\n",
       "    <tr style=\"text-align: right;\">\n",
       "      <th></th>\n",
       "      <th>order_id</th>\n",
       "      <th>user_id</th>\n",
       "      <th>order_number</th>\n",
       "      <th>order_dow</th>\n",
       "      <th>order_hour_of_day</th>\n",
       "      <th>days_since_prior_order</th>\n",
       "    </tr>\n",
       "  </thead>\n",
       "  <tbody>\n",
       "    <tr>\n",
       "      <th>0</th>\n",
       "      <td>1515936</td>\n",
       "      <td>183418</td>\n",
       "      <td>11</td>\n",
       "      <td>6</td>\n",
       "      <td>13</td>\n",
       "      <td>30.0</td>\n",
       "    </tr>\n",
       "    <tr>\n",
       "      <th>1</th>\n",
       "      <td>1690866</td>\n",
       "      <td>163593</td>\n",
       "      <td>5</td>\n",
       "      <td>5</td>\n",
       "      <td>12</td>\n",
       "      <td>9.0</td>\n",
       "    </tr>\n",
       "    <tr>\n",
       "      <th>2</th>\n",
       "      <td>1454967</td>\n",
       "      <td>39980</td>\n",
       "      <td>4</td>\n",
       "      <td>5</td>\n",
       "      <td>19</td>\n",
       "      <td>2.0</td>\n",
       "    </tr>\n",
       "    <tr>\n",
       "      <th>3</th>\n",
       "      <td>1768857</td>\n",
       "      <td>82516</td>\n",
       "      <td>56</td>\n",
       "      <td>0</td>\n",
       "      <td>20</td>\n",
       "      <td>10.0</td>\n",
       "    </tr>\n",
       "    <tr>\n",
       "      <th>4</th>\n",
       "      <td>3007858</td>\n",
       "      <td>196724</td>\n",
       "      <td>2</td>\n",
       "      <td>4</td>\n",
       "      <td>12</td>\n",
       "      <td>17.0</td>\n",
       "    </tr>\n",
       "  </tbody>\n",
       "</table>\n",
       "</div>"
      ],
      "text/plain": [
       "   order_id  user_id  order_number  order_dow  order_hour_of_day  \\\n",
       "0   1515936   183418            11          6                 13   \n",
       "1   1690866   163593             5          5                 12   \n",
       "2   1454967    39980             4          5                 19   \n",
       "3   1768857    82516            56          0                 20   \n",
       "4   3007858   196724             2          4                 12   \n",
       "\n",
       "   days_since_prior_order  \n",
       "0                    30.0  \n",
       "1                     9.0  \n",
       "2                     2.0  \n",
       "3                    10.0  \n",
       "4                    17.0  "
      ]
     },
     "metadata": {},
     "output_type": "display_data"
    }
   ],
   "source": [
    "#reading the`orders` dataframe file and storing it to orders_df\n",
    "orders_df = pd.read_csv('/datasets/instacart_orders.csv', sep=';')\n",
    "display(orders_df.head())"
   ]
  },
  {
   "cell_type": "code",
   "execution_count": 3,
   "id": "f0ff1fb3",
   "metadata": {},
   "outputs": [
    {
     "name": "stdout",
     "output_type": "stream",
     "text": [
      "<class 'pandas.core.frame.DataFrame'>\n",
      "RangeIndex: 478967 entries, 0 to 478966\n",
      "Data columns (total 6 columns):\n",
      " #   Column                  Non-Null Count   Dtype  \n",
      "---  ------                  --------------   -----  \n",
      " 0   order_id                478967 non-null  int64  \n",
      " 1   user_id                 478967 non-null  int64  \n",
      " 2   order_number            478967 non-null  int64  \n",
      " 3   order_dow               478967 non-null  int64  \n",
      " 4   order_hour_of_day       478967 non-null  int64  \n",
      " 5   days_since_prior_order  450148 non-null  float64\n",
      "dtypes: float64(1), int64(5)\n",
      "memory usage: 21.9 MB\n"
     ]
    }
   ],
   "source": [
    "# obtaining general information about the data in orders_df\n",
    "orders_df.info()"
   ]
  },
  {
   "cell_type": "code",
   "execution_count": 4,
   "id": "d8370c05",
   "metadata": {},
   "outputs": [
    {
     "data": {
      "text/html": [
       "<div>\n",
       "<style scoped>\n",
       "    .dataframe tbody tr th:only-of-type {\n",
       "        vertical-align: middle;\n",
       "    }\n",
       "\n",
       "    .dataframe tbody tr th {\n",
       "        vertical-align: top;\n",
       "    }\n",
       "\n",
       "    .dataframe thead th {\n",
       "        text-align: right;\n",
       "    }\n",
       "</style>\n",
       "<table border=\"1\" class=\"dataframe\">\n",
       "  <thead>\n",
       "    <tr style=\"text-align: right;\">\n",
       "      <th></th>\n",
       "      <th>product_id</th>\n",
       "      <th>product_name</th>\n",
       "      <th>aisle_id</th>\n",
       "      <th>department_id</th>\n",
       "    </tr>\n",
       "  </thead>\n",
       "  <tbody>\n",
       "    <tr>\n",
       "      <th>0</th>\n",
       "      <td>1</td>\n",
       "      <td>Chocolate Sandwich Cookies</td>\n",
       "      <td>61</td>\n",
       "      <td>19</td>\n",
       "    </tr>\n",
       "    <tr>\n",
       "      <th>1</th>\n",
       "      <td>2</td>\n",
       "      <td>All-Seasons Salt</td>\n",
       "      <td>104</td>\n",
       "      <td>13</td>\n",
       "    </tr>\n",
       "    <tr>\n",
       "      <th>2</th>\n",
       "      <td>3</td>\n",
       "      <td>Robust Golden Unsweetened Oolong Tea</td>\n",
       "      <td>94</td>\n",
       "      <td>7</td>\n",
       "    </tr>\n",
       "    <tr>\n",
       "      <th>3</th>\n",
       "      <td>4</td>\n",
       "      <td>Smart Ones Classic Favorites Mini Rigatoni Wit...</td>\n",
       "      <td>38</td>\n",
       "      <td>1</td>\n",
       "    </tr>\n",
       "    <tr>\n",
       "      <th>4</th>\n",
       "      <td>5</td>\n",
       "      <td>Green Chile Anytime Sauce</td>\n",
       "      <td>5</td>\n",
       "      <td>13</td>\n",
       "    </tr>\n",
       "  </tbody>\n",
       "</table>\n",
       "</div>"
      ],
      "text/plain": [
       "   product_id                                       product_name  aisle_id  \\\n",
       "0           1                         Chocolate Sandwich Cookies        61   \n",
       "1           2                                   All-Seasons Salt       104   \n",
       "2           3               Robust Golden Unsweetened Oolong Tea        94   \n",
       "3           4  Smart Ones Classic Favorites Mini Rigatoni Wit...        38   \n",
       "4           5                          Green Chile Anytime Sauce         5   \n",
       "\n",
       "   department_id  \n",
       "0             19  \n",
       "1             13  \n",
       "2              7  \n",
       "3              1  \n",
       "4             13  "
      ]
     },
     "metadata": {},
     "output_type": "display_data"
    }
   ],
   "source": [
    "#reading the`products` dataframe file and storing it to products_df\n",
    "products_df = pd.read_csv('/datasets/products.csv', sep=';')\n",
    "display(products_df.head())"
   ]
  },
  {
   "cell_type": "code",
   "execution_count": 5,
   "id": "c83e9ac4",
   "metadata": {},
   "outputs": [
    {
     "name": "stdout",
     "output_type": "stream",
     "text": [
      "<class 'pandas.core.frame.DataFrame'>\n",
      "RangeIndex: 49694 entries, 0 to 49693\n",
      "Data columns (total 4 columns):\n",
      " #   Column         Non-Null Count  Dtype \n",
      "---  ------         --------------  ----- \n",
      " 0   product_id     49694 non-null  int64 \n",
      " 1   product_name   48436 non-null  object\n",
      " 2   aisle_id       49694 non-null  int64 \n",
      " 3   department_id  49694 non-null  int64 \n",
      "dtypes: int64(3), object(1)\n",
      "memory usage: 1.5+ MB\n"
     ]
    }
   ],
   "source": [
    "# obtaining general information about the data in products_df\n",
    "products_df.info()"
   ]
  },
  {
   "cell_type": "code",
   "execution_count": 6,
   "id": "59e2090f",
   "metadata": {},
   "outputs": [
    {
     "data": {
      "text/html": [
       "<div>\n",
       "<style scoped>\n",
       "    .dataframe tbody tr th:only-of-type {\n",
       "        vertical-align: middle;\n",
       "    }\n",
       "\n",
       "    .dataframe tbody tr th {\n",
       "        vertical-align: top;\n",
       "    }\n",
       "\n",
       "    .dataframe thead th {\n",
       "        text-align: right;\n",
       "    }\n",
       "</style>\n",
       "<table border=\"1\" class=\"dataframe\">\n",
       "  <thead>\n",
       "    <tr style=\"text-align: right;\">\n",
       "      <th></th>\n",
       "      <th>department_id</th>\n",
       "      <th>department</th>\n",
       "    </tr>\n",
       "  </thead>\n",
       "  <tbody>\n",
       "    <tr>\n",
       "      <th>0</th>\n",
       "      <td>1</td>\n",
       "      <td>frozen</td>\n",
       "    </tr>\n",
       "    <tr>\n",
       "      <th>1</th>\n",
       "      <td>2</td>\n",
       "      <td>other</td>\n",
       "    </tr>\n",
       "    <tr>\n",
       "      <th>2</th>\n",
       "      <td>3</td>\n",
       "      <td>bakery</td>\n",
       "    </tr>\n",
       "    <tr>\n",
       "      <th>3</th>\n",
       "      <td>4</td>\n",
       "      <td>produce</td>\n",
       "    </tr>\n",
       "    <tr>\n",
       "      <th>4</th>\n",
       "      <td>5</td>\n",
       "      <td>alcohol</td>\n",
       "    </tr>\n",
       "  </tbody>\n",
       "</table>\n",
       "</div>"
      ],
      "text/plain": [
       "   department_id department\n",
       "0              1     frozen\n",
       "1              2      other\n",
       "2              3     bakery\n",
       "3              4    produce\n",
       "4              5    alcohol"
      ]
     },
     "metadata": {},
     "output_type": "display_data"
    }
   ],
   "source": [
    "#reading the`departments` dataframe file and storing it to dept_df\n",
    "dept_df = pd.read_csv('/datasets/departments.csv', sep=';')\n",
    "display(dept_df.head())"
   ]
  },
  {
   "cell_type": "code",
   "execution_count": 7,
   "id": "8686c945",
   "metadata": {},
   "outputs": [
    {
     "name": "stdout",
     "output_type": "stream",
     "text": [
      "<class 'pandas.core.frame.DataFrame'>\n",
      "RangeIndex: 21 entries, 0 to 20\n",
      "Data columns (total 2 columns):\n",
      " #   Column         Non-Null Count  Dtype \n",
      "---  ------         --------------  ----- \n",
      " 0   department_id  21 non-null     int64 \n",
      " 1   department     21 non-null     object\n",
      "dtypes: int64(1), object(1)\n",
      "memory usage: 464.0+ bytes\n"
     ]
    }
   ],
   "source": [
    "# obtaining general information about the data in dept_df\n",
    "dept_df.info()"
   ]
  },
  {
   "cell_type": "code",
   "execution_count": 8,
   "id": "6fc81694",
   "metadata": {},
   "outputs": [
    {
     "data": {
      "text/html": [
       "<div>\n",
       "<style scoped>\n",
       "    .dataframe tbody tr th:only-of-type {\n",
       "        vertical-align: middle;\n",
       "    }\n",
       "\n",
       "    .dataframe tbody tr th {\n",
       "        vertical-align: top;\n",
       "    }\n",
       "\n",
       "    .dataframe thead th {\n",
       "        text-align: right;\n",
       "    }\n",
       "</style>\n",
       "<table border=\"1\" class=\"dataframe\">\n",
       "  <thead>\n",
       "    <tr style=\"text-align: right;\">\n",
       "      <th></th>\n",
       "      <th>aisle_id</th>\n",
       "      <th>aisle</th>\n",
       "    </tr>\n",
       "  </thead>\n",
       "  <tbody>\n",
       "    <tr>\n",
       "      <th>0</th>\n",
       "      <td>1</td>\n",
       "      <td>prepared soups salads</td>\n",
       "    </tr>\n",
       "    <tr>\n",
       "      <th>1</th>\n",
       "      <td>2</td>\n",
       "      <td>specialty cheeses</td>\n",
       "    </tr>\n",
       "    <tr>\n",
       "      <th>2</th>\n",
       "      <td>3</td>\n",
       "      <td>energy granola bars</td>\n",
       "    </tr>\n",
       "    <tr>\n",
       "      <th>3</th>\n",
       "      <td>4</td>\n",
       "      <td>instant foods</td>\n",
       "    </tr>\n",
       "    <tr>\n",
       "      <th>4</th>\n",
       "      <td>5</td>\n",
       "      <td>marinades meat preparation</td>\n",
       "    </tr>\n",
       "  </tbody>\n",
       "</table>\n",
       "</div>"
      ],
      "text/plain": [
       "   aisle_id                       aisle\n",
       "0         1       prepared soups salads\n",
       "1         2           specialty cheeses\n",
       "2         3         energy granola bars\n",
       "3         4               instant foods\n",
       "4         5  marinades meat preparation"
      ]
     },
     "metadata": {},
     "output_type": "display_data"
    }
   ],
   "source": [
    "#reading the`aisles` dataframe file and storing it to aisles_df\n",
    "aisles_df = pd.read_csv('/datasets/aisles.csv', sep=';')\n",
    "display(aisles_df.head())"
   ]
  },
  {
   "cell_type": "code",
   "execution_count": 9,
   "id": "d9ce0a60",
   "metadata": {},
   "outputs": [
    {
     "name": "stdout",
     "output_type": "stream",
     "text": [
      "<class 'pandas.core.frame.DataFrame'>\n",
      "RangeIndex: 134 entries, 0 to 133\n",
      "Data columns (total 2 columns):\n",
      " #   Column    Non-Null Count  Dtype \n",
      "---  ------    --------------  ----- \n",
      " 0   aisle_id  134 non-null    int64 \n",
      " 1   aisle     134 non-null    object\n",
      "dtypes: int64(1), object(1)\n",
      "memory usage: 2.2+ KB\n"
     ]
    }
   ],
   "source": [
    "# obtaining general information about the data in aisles_df\n",
    "aisles_df.info()"
   ]
  },
  {
   "cell_type": "code",
   "execution_count": 10,
   "id": "6464a8a7",
   "metadata": {},
   "outputs": [
    {
     "data": {
      "text/html": [
       "<div>\n",
       "<style scoped>\n",
       "    .dataframe tbody tr th:only-of-type {\n",
       "        vertical-align: middle;\n",
       "    }\n",
       "\n",
       "    .dataframe tbody tr th {\n",
       "        vertical-align: top;\n",
       "    }\n",
       "\n",
       "    .dataframe thead th {\n",
       "        text-align: right;\n",
       "    }\n",
       "</style>\n",
       "<table border=\"1\" class=\"dataframe\">\n",
       "  <thead>\n",
       "    <tr style=\"text-align: right;\">\n",
       "      <th></th>\n",
       "      <th>order_id</th>\n",
       "      <th>product_id</th>\n",
       "      <th>add_to_cart_order</th>\n",
       "      <th>reordered</th>\n",
       "    </tr>\n",
       "  </thead>\n",
       "  <tbody>\n",
       "    <tr>\n",
       "      <th>0</th>\n",
       "      <td>2141543</td>\n",
       "      <td>11440</td>\n",
       "      <td>17.0</td>\n",
       "      <td>0</td>\n",
       "    </tr>\n",
       "    <tr>\n",
       "      <th>1</th>\n",
       "      <td>567889</td>\n",
       "      <td>1560</td>\n",
       "      <td>1.0</td>\n",
       "      <td>1</td>\n",
       "    </tr>\n",
       "    <tr>\n",
       "      <th>2</th>\n",
       "      <td>2261212</td>\n",
       "      <td>26683</td>\n",
       "      <td>1.0</td>\n",
       "      <td>1</td>\n",
       "    </tr>\n",
       "    <tr>\n",
       "      <th>3</th>\n",
       "      <td>491251</td>\n",
       "      <td>8670</td>\n",
       "      <td>35.0</td>\n",
       "      <td>1</td>\n",
       "    </tr>\n",
       "    <tr>\n",
       "      <th>4</th>\n",
       "      <td>2571142</td>\n",
       "      <td>1940</td>\n",
       "      <td>5.0</td>\n",
       "      <td>1</td>\n",
       "    </tr>\n",
       "  </tbody>\n",
       "</table>\n",
       "</div>"
      ],
      "text/plain": [
       "   order_id  product_id  add_to_cart_order  reordered\n",
       "0   2141543       11440               17.0          0\n",
       "1    567889        1560                1.0          1\n",
       "2   2261212       26683                1.0          1\n",
       "3    491251        8670               35.0          1\n",
       "4   2571142        1940                5.0          1"
      ]
     },
     "metadata": {},
     "output_type": "display_data"
    }
   ],
   "source": [
    "#reading the`order_products` dataframe file and storing it to order_prod_df\n",
    "order_prod_df = pd.read_csv('/datasets/order_products.csv', sep=';')\n",
    "display(order_prod_df.head())"
   ]
  },
  {
   "cell_type": "code",
   "execution_count": 11,
   "id": "f0cd2b24",
   "metadata": {},
   "outputs": [
    {
     "name": "stdout",
     "output_type": "stream",
     "text": [
      "<class 'pandas.core.frame.DataFrame'>\n",
      "RangeIndex: 4545007 entries, 0 to 4545006\n",
      "Data columns (total 4 columns):\n",
      " #   Column             Non-Null Count    Dtype  \n",
      "---  ------             --------------    -----  \n",
      " 0   order_id           4545007 non-null  int64  \n",
      " 1   product_id         4545007 non-null  int64  \n",
      " 2   add_to_cart_order  4544171 non-null  float64\n",
      " 3   reordered          4545007 non-null  int64  \n",
      "dtypes: float64(1), int64(3)\n",
      "memory usage: 138.7 MB\n"
     ]
    }
   ],
   "source": [
    "# obtaining general information about the data in order_prod_df\n",
    "order_prod_df.info(show_counts=True)"
   ]
  },
  {
   "cell_type": "markdown",
   "id": "63d4783b",
   "metadata": {},
   "source": [
    "Note that the files have nonstandard formatting, thus the `sep=` argument was needed to read the data correctly.\n",
    "Also the order_products.csv contains many rows of data. When a DataFrame has too many rows, info() will not print the non-null counts by default, so show_counts=True was needed to call info(). The products_df and orders_df appear to have missing values as well."
   ]
  },
  {
   "cell_type": "markdown",
   "id": "07357848-dc64-4156-9cc3-01ff4365226d",
   "metadata": {},
   "source": [
    "## Find and remove duplicate values (and describe why you make your choices) <a id='duplicates'></a>"
   ]
  },
  {
   "cell_type": "markdown",
   "id": "f179f0a9",
   "metadata": {},
   "source": [
    "### `orders` data frame <a id='orders_df_duplicates'></a>"
   ]
  },
  {
   "cell_type": "code",
   "execution_count": 12,
   "id": "b99297a5-405a-463d-8535-9adc3da4ad74",
   "metadata": {},
   "outputs": [
    {
     "data": {
      "text/plain": [
       "15"
      ]
     },
     "execution_count": 12,
     "metadata": {},
     "output_type": "execute_result"
    }
   ],
   "source": [
    "# Check for duplicated orders\n",
    "orders_df.duplicated().sum()"
   ]
  },
  {
   "cell_type": "code",
   "execution_count": 13,
   "id": "0d44de5d",
   "metadata": {},
   "outputs": [
    {
     "name": "stdout",
     "output_type": "stream",
     "text": [
      "        order_id  user_id  order_number  order_dow  order_hour_of_day  \\\n",
      "1295     1474941   115569             5          2                  2   \n",
      "2391     1640269   173965            15          2                  2   \n",
      "2550     1223696    55276            11          2                  2   \n",
      "5965      579194    85018            14          2                  2   \n",
      "17680    2004230   203121             4          2                  2   \n",
      "...          ...      ...           ...        ...                ...   \n",
      "457660   1562381    19378             5          2                  2   \n",
      "460316   1986084   117453            81          2                  2   \n",
      "462676   1362113    19654            20          2                  2   \n",
      "472800   1746383    88484            19          2                  2   \n",
      "472923   1519815   149345             1          2                  2   \n",
      "\n",
      "        days_since_prior_order  \n",
      "1295                      28.0  \n",
      "2391                       2.0  \n",
      "2550                      30.0  \n",
      "5965                      11.0  \n",
      "17680                      8.0  \n",
      "...                        ...  \n",
      "457660                     6.0  \n",
      "460316                     8.0  \n",
      "462676                    21.0  \n",
      "472800                     5.0  \n",
      "472923                     NaN  \n",
      "\n",
      "[136 rows x 6 columns]\n"
     ]
    }
   ],
   "source": [
    "# Check for all orders placed Wednesday at 2:00 AM\n",
    "orders_df_filtered = orders_df[(orders_df['order_dow'] == 2) & (orders_df['order_hour_of_day'] == 2)]\n",
    "print(orders_df_filtered)"
   ]
  },
  {
   "cell_type": "code",
   "execution_count": 14,
   "id": "480563c7",
   "metadata": {},
   "outputs": [
    {
     "data": {
      "text/plain": [
       "0"
      ]
     },
     "execution_count": 14,
     "metadata": {},
     "output_type": "execute_result"
    }
   ],
   "source": [
    "# Remove duplicate orders\n",
    "orders_df = orders_df.drop_duplicates()\n",
    "\n",
    "# comfirm duplicate orders were dropped\n",
    "orders_df.duplicated().sum()"
   ]
  },
  {
   "cell_type": "code",
   "execution_count": 15,
   "id": "0b2396a2",
   "metadata": {},
   "outputs": [
    {
     "data": {
      "text/plain": [
       "0"
      ]
     },
     "execution_count": 15,
     "metadata": {},
     "output_type": "execute_result"
    }
   ],
   "source": [
    "# Double check for duplicate rows\n",
    "orders_df.duplicated().sum()"
   ]
  },
  {
   "cell_type": "code",
   "execution_count": 16,
   "id": "f6113ef1",
   "metadata": {},
   "outputs": [
    {
     "data": {
      "text/plain": [
       "0"
      ]
     },
     "execution_count": 16,
     "metadata": {},
     "output_type": "execute_result"
    }
   ],
   "source": [
    "# Double check for duplicate order IDs only\n",
    "orders_df.duplicated(subset='order_id').sum()"
   ]
  },
  {
   "cell_type": "markdown",
   "id": "b65a3024",
   "metadata": {},
   "source": [
    "Fifteen duplicate rows were found and successfully removed. To check for less obvious duplicates, diplicate order IDs were checked as well, but none were found."
   ]
  },
  {
   "cell_type": "markdown",
   "id": "45e6bc46",
   "metadata": {},
   "source": [
    "### `products` data frame <a id='products_df_duplicates'></a>"
   ]
  },
  {
   "cell_type": "code",
   "execution_count": 17,
   "id": "5f526b5b-8175-46fa-a0fd-441767d50e64",
   "metadata": {},
   "outputs": [
    {
     "data": {
      "text/plain": [
       "0"
      ]
     },
     "execution_count": 17,
     "metadata": {},
     "output_type": "execute_result"
    }
   ],
   "source": [
    "# Check for fully duplicate rows\n",
    "products_df.duplicated().sum()"
   ]
  },
  {
   "cell_type": "code",
   "execution_count": 18,
   "id": "88daa4f4",
   "metadata": {},
   "outputs": [
    {
     "data": {
      "text/plain": [
       "0"
      ]
     },
     "execution_count": 18,
     "metadata": {},
     "output_type": "execute_result"
    }
   ],
   "source": [
    "# Check for just duplicate product IDs\n",
    "products_df.duplicated(subset='product_id').sum()"
   ]
  },
  {
   "cell_type": "code",
   "execution_count": 19,
   "id": "c773f0bf",
   "metadata": {},
   "outputs": [
    {
     "data": {
      "text/plain": [
       "1361"
      ]
     },
     "execution_count": 19,
     "metadata": {},
     "output_type": "execute_result"
    }
   ],
   "source": [
    "# Check for just duplicate product names (convert names to lowercase to compare better)\n",
    "products_df['product_name'] = products_df['product_name'].str.lower()\n",
    "products_df.duplicated(subset='product_name').sum()"
   ]
  },
  {
   "cell_type": "code",
   "execution_count": 20,
   "id": "01efd02e",
   "metadata": {},
   "outputs": [
    {
     "data": {
      "text/plain": [
       "product_id  product_name                              aisle_id  department_id\n",
       "2059        biotin 1000 mcg                           47        11               1\n",
       "5456        green tea with ginseng and honey          96        20               1\n",
       "44088       ibuprofen tablets 200 mg                  133       11               1\n",
       "44079       blanc de noirs                            134       5                1\n",
       "43872       original bbq sauce                        5         13               1\n",
       "                                                                                ..\n",
       "29731       potatoes o'brien with onions and peppers  129       1                1\n",
       "29518       beef chili with beans                     59        15               1\n",
       "26990       candy bar                                 45        19               1\n",
       "26727       nutrition protein mix blueberry nut       125       19               1\n",
       "49694       burrito- steak & cheese                   38        1                1\n",
       "Length: 104, dtype: int64"
      ]
     },
     "execution_count": 20,
     "metadata": {},
     "output_type": "execute_result"
    }
   ],
   "source": [
    "# Check for duplicate product names that aren't missing\n",
    "prod_duplicated = products_df[products_df['product_name'].duplicated()]\n",
    "prod_duplicated.value_counts()"
   ]
  },
  {
   "cell_type": "markdown",
   "id": "33e03ad6",
   "metadata": {},
   "source": [
    "No duplicate rows or duplicate product IDs were found. However, many duplicate product names were found. These duplicate product names do not impact the data and should not be removed since no duplicate product IDs were confirmed, thus these duplicate names most likely represent products that have the same name but perhaps are from a different brand or manufacturer since it has its own product ID."
   ]
  },
  {
   "cell_type": "markdown",
   "id": "60f30db1",
   "metadata": {},
   "source": [
    "### `departments` data frame <a id='departments_df_duplicates'></a>"
   ]
  },
  {
   "cell_type": "code",
   "execution_count": 21,
   "id": "fb410ad4-0fbf-4b80-bb09-23fdea79afe3",
   "metadata": {},
   "outputs": [
    {
     "data": {
      "text/plain": [
       "0"
      ]
     },
     "execution_count": 21,
     "metadata": {},
     "output_type": "execute_result"
    }
   ],
   "source": [
    "# Check for fully duplicate rows\n",
    "dept_df.duplicated().sum()"
   ]
  },
  {
   "cell_type": "code",
   "execution_count": 22,
   "id": "332b12bb",
   "metadata": {},
   "outputs": [
    {
     "data": {
      "text/plain": [
       "0"
      ]
     },
     "execution_count": 22,
     "metadata": {},
     "output_type": "execute_result"
    }
   ],
   "source": [
    "# Double check for any other tricky duplicates\n",
    "dept_df.duplicated(subset=['department_id', 'department']).sum()"
   ]
  },
  {
   "cell_type": "markdown",
   "id": "324d31ac",
   "metadata": {},
   "source": [
    "No duplicate rows or other duplicates within the department_id and department columns were found."
   ]
  },
  {
   "cell_type": "markdown",
   "id": "bd30d78e",
   "metadata": {},
   "source": []
  },
  {
   "cell_type": "markdown",
   "id": "889349c1",
   "metadata": {},
   "source": [
    "### `aisles` data frame <a id='aisles_df_duplicates'></a>"
   ]
  },
  {
   "cell_type": "code",
   "execution_count": 23,
   "id": "9da89fb9-4679-40f5-ad0d-c34df753a3f8",
   "metadata": {},
   "outputs": [
    {
     "data": {
      "text/plain": [
       "0"
      ]
     },
     "execution_count": 23,
     "metadata": {},
     "output_type": "execute_result"
    }
   ],
   "source": [
    "# Check for fully duplicate rows\n",
    "aisles_df.duplicated().sum()"
   ]
  },
  {
   "cell_type": "code",
   "execution_count": 24,
   "id": "da7c2822",
   "metadata": {},
   "outputs": [
    {
     "data": {
      "text/plain": [
       "0"
      ]
     },
     "execution_count": 24,
     "metadata": {},
     "output_type": "execute_result"
    }
   ],
   "source": [
    "# Double check for any other tricky duplicates\n",
    "aisles_df.duplicated(subset=['aisle_id', 'aisle']).sum()"
   ]
  },
  {
   "cell_type": "markdown",
   "id": "b67454e2",
   "metadata": {},
   "source": [
    "No duplicate rows or other duplicates within the aisle_id and aisle columns were found."
   ]
  },
  {
   "cell_type": "markdown",
   "id": "ac63826f",
   "metadata": {},
   "source": []
  },
  {
   "cell_type": "markdown",
   "id": "274cd06a",
   "metadata": {},
   "source": [
    "### `order_products` data frame <a id='order_products_df_duplicates'></a>"
   ]
  },
  {
   "cell_type": "code",
   "execution_count": 25,
   "id": "52326689-84a8-4b8f-a881-7c68780f62c9",
   "metadata": {},
   "outputs": [
    {
     "data": {
      "text/plain": [
       "0"
      ]
     },
     "execution_count": 25,
     "metadata": {},
     "output_type": "execute_result"
    }
   ],
   "source": [
    "# Check for fullly duplicate rows\n",
    "order_prod_df.duplicated().sum()"
   ]
  },
  {
   "cell_type": "code",
   "execution_count": 26,
   "id": "7b861391",
   "metadata": {},
   "outputs": [
    {
     "data": {
      "text/plain": [
       "0"
      ]
     },
     "execution_count": 26,
     "metadata": {},
     "output_type": "execute_result"
    }
   ],
   "source": [
    "# Double check for any other tricky duplicates\n",
    "order_prod_df.duplicated(subset=['order_id', 'product_id']).sum()"
   ]
  },
  {
   "cell_type": "markdown",
   "id": "6d295fe3",
   "metadata": {},
   "source": [
    "No duplicate rows or other duplicates within the order_id and product_id columns were found."
   ]
  },
  {
   "cell_type": "markdown",
   "id": "0b890492",
   "metadata": {},
   "source": []
  },
  {
   "cell_type": "markdown",
   "id": "1e46de76",
   "metadata": {},
   "source": [
    "## Find and remove missing values <a id='missing_values'></a>\n"
   ]
  },
  {
   "cell_type": "markdown",
   "id": "c0aebd78",
   "metadata": {},
   "source": [
    "### `products` data frame <a id='products_df_missing_values'></a>"
   ]
  },
  {
   "cell_type": "code",
   "execution_count": 27,
   "id": "fe4a8b0f",
   "metadata": {},
   "outputs": [
    {
     "name": "stdout",
     "output_type": "stream",
     "text": [
      "<class 'pandas.core.frame.DataFrame'>\n",
      "RangeIndex: 49694 entries, 0 to 49693\n",
      "Data columns (total 4 columns):\n",
      " #   Column         Non-Null Count  Dtype \n",
      "---  ------         --------------  ----- \n",
      " 0   product_id     49694 non-null  int64 \n",
      " 1   product_name   48436 non-null  object\n",
      " 2   aisle_id       49694 non-null  int64 \n",
      " 3   department_id  49694 non-null  int64 \n",
      "dtypes: int64(3), object(1)\n",
      "memory usage: 1.5+ MB\n"
     ]
    }
   ],
   "source": [
    "#obtaining general info for products_df\n",
    "products_df.info()"
   ]
  },
  {
   "cell_type": "code",
   "execution_count": 28,
   "id": "e96167bc",
   "metadata": {},
   "outputs": [
    {
     "name": "stdout",
     "output_type": "stream",
     "text": [
      "product_id          0\n",
      "product_name     1258\n",
      "aisle_id            0\n",
      "department_id       0\n",
      "dtype: int64\n"
     ]
    },
    {
     "data": {
      "text/html": [
       "<div>\n",
       "<style scoped>\n",
       "    .dataframe tbody tr th:only-of-type {\n",
       "        vertical-align: middle;\n",
       "    }\n",
       "\n",
       "    .dataframe tbody tr th {\n",
       "        vertical-align: top;\n",
       "    }\n",
       "\n",
       "    .dataframe thead th {\n",
       "        text-align: right;\n",
       "    }\n",
       "</style>\n",
       "<table border=\"1\" class=\"dataframe\">\n",
       "  <thead>\n",
       "    <tr style=\"text-align: right;\">\n",
       "      <th></th>\n",
       "      <th>product_id</th>\n",
       "      <th>product_name</th>\n",
       "      <th>aisle_id</th>\n",
       "      <th>department_id</th>\n",
       "    </tr>\n",
       "  </thead>\n",
       "  <tbody>\n",
       "    <tr>\n",
       "      <th>37</th>\n",
       "      <td>38</td>\n",
       "      <td>NaN</td>\n",
       "      <td>100</td>\n",
       "      <td>21</td>\n",
       "    </tr>\n",
       "    <tr>\n",
       "      <th>71</th>\n",
       "      <td>72</td>\n",
       "      <td>NaN</td>\n",
       "      <td>100</td>\n",
       "      <td>21</td>\n",
       "    </tr>\n",
       "    <tr>\n",
       "      <th>109</th>\n",
       "      <td>110</td>\n",
       "      <td>NaN</td>\n",
       "      <td>100</td>\n",
       "      <td>21</td>\n",
       "    </tr>\n",
       "    <tr>\n",
       "      <th>296</th>\n",
       "      <td>297</td>\n",
       "      <td>NaN</td>\n",
       "      <td>100</td>\n",
       "      <td>21</td>\n",
       "    </tr>\n",
       "    <tr>\n",
       "      <th>416</th>\n",
       "      <td>417</td>\n",
       "      <td>NaN</td>\n",
       "      <td>100</td>\n",
       "      <td>21</td>\n",
       "    </tr>\n",
       "    <tr>\n",
       "      <th>...</th>\n",
       "      <td>...</td>\n",
       "      <td>...</td>\n",
       "      <td>...</td>\n",
       "      <td>...</td>\n",
       "    </tr>\n",
       "    <tr>\n",
       "      <th>49552</th>\n",
       "      <td>49553</td>\n",
       "      <td>NaN</td>\n",
       "      <td>100</td>\n",
       "      <td>21</td>\n",
       "    </tr>\n",
       "    <tr>\n",
       "      <th>49574</th>\n",
       "      <td>49575</td>\n",
       "      <td>NaN</td>\n",
       "      <td>100</td>\n",
       "      <td>21</td>\n",
       "    </tr>\n",
       "    <tr>\n",
       "      <th>49640</th>\n",
       "      <td>49641</td>\n",
       "      <td>NaN</td>\n",
       "      <td>100</td>\n",
       "      <td>21</td>\n",
       "    </tr>\n",
       "    <tr>\n",
       "      <th>49663</th>\n",
       "      <td>49664</td>\n",
       "      <td>NaN</td>\n",
       "      <td>100</td>\n",
       "      <td>21</td>\n",
       "    </tr>\n",
       "    <tr>\n",
       "      <th>49668</th>\n",
       "      <td>49669</td>\n",
       "      <td>NaN</td>\n",
       "      <td>100</td>\n",
       "      <td>21</td>\n",
       "    </tr>\n",
       "  </tbody>\n",
       "</table>\n",
       "<p>1258 rows × 4 columns</p>\n",
       "</div>"
      ],
      "text/plain": [
       "       product_id product_name  aisle_id  department_id\n",
       "37             38          NaN       100             21\n",
       "71             72          NaN       100             21\n",
       "109           110          NaN       100             21\n",
       "296           297          NaN       100             21\n",
       "416           417          NaN       100             21\n",
       "...           ...          ...       ...            ...\n",
       "49552       49553          NaN       100             21\n",
       "49574       49575          NaN       100             21\n",
       "49640       49641          NaN       100             21\n",
       "49663       49664          NaN       100             21\n",
       "49668       49669          NaN       100             21\n",
       "\n",
       "[1258 rows x 4 columns]"
      ]
     },
     "execution_count": 28,
     "metadata": {},
     "output_type": "execute_result"
    }
   ],
   "source": [
    "# Are all of the missing product names associated with aisle ID 100?\n",
    "print(products_df.isna().sum()) #shows there are 1258 total rows of missing product names\n",
    "products_df[products_df['aisle_id'] == 100] #shows the same number of missing rows are also associated with aisle ID 100"
   ]
  },
  {
   "cell_type": "markdown",
   "id": "746f195c",
   "metadata": {},
   "source": [
    "For all missing product names found, it was determined that all of those products are associated with aisle ID 100."
   ]
  },
  {
   "cell_type": "markdown",
   "id": "514aea2e",
   "metadata": {},
   "source": []
  },
  {
   "cell_type": "code",
   "execution_count": 29,
   "id": "8fd0a541",
   "metadata": {},
   "outputs": [
    {
     "data": {
      "text/html": [
       "<div>\n",
       "<style scoped>\n",
       "    .dataframe tbody tr th:only-of-type {\n",
       "        vertical-align: middle;\n",
       "    }\n",
       "\n",
       "    .dataframe tbody tr th {\n",
       "        vertical-align: top;\n",
       "    }\n",
       "\n",
       "    .dataframe thead th {\n",
       "        text-align: right;\n",
       "    }\n",
       "</style>\n",
       "<table border=\"1\" class=\"dataframe\">\n",
       "  <thead>\n",
       "    <tr style=\"text-align: right;\">\n",
       "      <th></th>\n",
       "      <th>product_id</th>\n",
       "      <th>product_name</th>\n",
       "      <th>aisle_id</th>\n",
       "      <th>department_id</th>\n",
       "    </tr>\n",
       "  </thead>\n",
       "  <tbody>\n",
       "    <tr>\n",
       "      <th>37</th>\n",
       "      <td>38</td>\n",
       "      <td>NaN</td>\n",
       "      <td>100</td>\n",
       "      <td>21</td>\n",
       "    </tr>\n",
       "    <tr>\n",
       "      <th>71</th>\n",
       "      <td>72</td>\n",
       "      <td>NaN</td>\n",
       "      <td>100</td>\n",
       "      <td>21</td>\n",
       "    </tr>\n",
       "    <tr>\n",
       "      <th>109</th>\n",
       "      <td>110</td>\n",
       "      <td>NaN</td>\n",
       "      <td>100</td>\n",
       "      <td>21</td>\n",
       "    </tr>\n",
       "    <tr>\n",
       "      <th>296</th>\n",
       "      <td>297</td>\n",
       "      <td>NaN</td>\n",
       "      <td>100</td>\n",
       "      <td>21</td>\n",
       "    </tr>\n",
       "    <tr>\n",
       "      <th>416</th>\n",
       "      <td>417</td>\n",
       "      <td>NaN</td>\n",
       "      <td>100</td>\n",
       "      <td>21</td>\n",
       "    </tr>\n",
       "    <tr>\n",
       "      <th>...</th>\n",
       "      <td>...</td>\n",
       "      <td>...</td>\n",
       "      <td>...</td>\n",
       "      <td>...</td>\n",
       "    </tr>\n",
       "    <tr>\n",
       "      <th>49552</th>\n",
       "      <td>49553</td>\n",
       "      <td>NaN</td>\n",
       "      <td>100</td>\n",
       "      <td>21</td>\n",
       "    </tr>\n",
       "    <tr>\n",
       "      <th>49574</th>\n",
       "      <td>49575</td>\n",
       "      <td>NaN</td>\n",
       "      <td>100</td>\n",
       "      <td>21</td>\n",
       "    </tr>\n",
       "    <tr>\n",
       "      <th>49640</th>\n",
       "      <td>49641</td>\n",
       "      <td>NaN</td>\n",
       "      <td>100</td>\n",
       "      <td>21</td>\n",
       "    </tr>\n",
       "    <tr>\n",
       "      <th>49663</th>\n",
       "      <td>49664</td>\n",
       "      <td>NaN</td>\n",
       "      <td>100</td>\n",
       "      <td>21</td>\n",
       "    </tr>\n",
       "    <tr>\n",
       "      <th>49668</th>\n",
       "      <td>49669</td>\n",
       "      <td>NaN</td>\n",
       "      <td>100</td>\n",
       "      <td>21</td>\n",
       "    </tr>\n",
       "  </tbody>\n",
       "</table>\n",
       "<p>1258 rows × 4 columns</p>\n",
       "</div>"
      ],
      "text/plain": [
       "       product_id product_name  aisle_id  department_id\n",
       "37             38          NaN       100             21\n",
       "71             72          NaN       100             21\n",
       "109           110          NaN       100             21\n",
       "296           297          NaN       100             21\n",
       "416           417          NaN       100             21\n",
       "...           ...          ...       ...            ...\n",
       "49552       49553          NaN       100             21\n",
       "49574       49575          NaN       100             21\n",
       "49640       49641          NaN       100             21\n",
       "49663       49664          NaN       100             21\n",
       "49668       49669          NaN       100             21\n",
       "\n",
       "[1258 rows x 4 columns]"
      ]
     },
     "execution_count": 29,
     "metadata": {},
     "output_type": "execute_result"
    }
   ],
   "source": [
    "# Are all of the missing product names associated with department ID 21?\n",
    "products_df[products_df['department_id'] == 21]"
   ]
  },
  {
   "cell_type": "markdown",
   "id": "2ce3c3ce",
   "metadata": {},
   "source": [
    "For all missing product names found, it was determined that all of those products are associated with department ID 21."
   ]
  },
  {
   "cell_type": "code",
   "execution_count": 30,
   "id": "325c3464",
   "metadata": {},
   "outputs": [
    {
     "name": "stdout",
     "output_type": "stream",
     "text": [
      "    department_id department\n",
      "20             21    missing\n",
      "\n",
      "    aisle_id    aisle\n",
      "99       100  missing\n"
     ]
    }
   ],
   "source": [
    "# What is this ailse and department?\n",
    "print(dept_df[dept_df['department_id'] == 21])\n",
    "print()\n",
    "print(aisles_df[aisles_df['aisle_id'] == 100])\n",
    "\n",
    "#both the aisle and department are missing for the respective IDs being asked for"
   ]
  },
  {
   "cell_type": "code",
   "execution_count": 31,
   "id": "6b295120",
   "metadata": {},
   "outputs": [
    {
     "name": "stdout",
     "output_type": "stream",
     "text": [
      "product_id       0\n",
      "product_name     0\n",
      "aisle_id         0\n",
      "department_id    0\n",
      "dtype: int64\n"
     ]
    }
   ],
   "source": [
    "# Fill missing product names with 'Unknown'\n",
    "products_df['product_name'] = products_df['product_name'].fillna('Unknown')\n",
    "\n",
    "# Checking if missing values were replaced with 'Unknown'\n",
    "print(products_df.isna().sum())"
   ]
  },
  {
   "cell_type": "markdown",
   "id": "7eb45c86",
   "metadata": {},
   "source": [
    "### `orders` data frame <a id='orders_df_missing_values'></a>"
   ]
  },
  {
   "cell_type": "code",
   "execution_count": 32,
   "id": "93e41d96",
   "metadata": {},
   "outputs": [
    {
     "name": "stdout",
     "output_type": "stream",
     "text": [
      "<class 'pandas.core.frame.DataFrame'>\n",
      "Int64Index: 478952 entries, 0 to 478966\n",
      "Data columns (total 6 columns):\n",
      " #   Column                  Non-Null Count   Dtype  \n",
      "---  ------                  --------------   -----  \n",
      " 0   order_id                478952 non-null  int64  \n",
      " 1   user_id                 478952 non-null  int64  \n",
      " 2   order_number            478952 non-null  int64  \n",
      " 3   order_dow               478952 non-null  int64  \n",
      " 4   order_hour_of_day       478952 non-null  int64  \n",
      " 5   days_since_prior_order  450135 non-null  float64\n",
      "dtypes: float64(1), int64(5)\n",
      "memory usage: 25.6 MB\n"
     ]
    }
   ],
   "source": [
    "#obtaining general info for orders_df\n",
    "orders_df.info()"
   ]
  },
  {
   "cell_type": "code",
   "execution_count": 33,
   "id": "166e5a86",
   "metadata": {},
   "outputs": [
    {
     "name": "stdout",
     "output_type": "stream",
     "text": [
      "Empty DataFrame\n",
      "Columns: [order_id, user_id, order_number, order_dow, order_hour_of_day, days_since_prior_order]\n",
      "Index: []\n"
     ]
    }
   ],
   "source": [
    "# Are there any missing values where it's not a customer's first order?\n",
    "non_first_order_df = orders_df[(~orders_df['order_number'] == 1).isna()] \n",
    "print(non_first_order_df)\n",
    "\n",
    "#for rows that are not a customer's first order, there are no missing values since an empty dataframe was returned"
   ]
  },
  {
   "cell_type": "markdown",
   "id": "4e23d089",
   "metadata": {},
   "source": []
  },
  {
   "cell_type": "markdown",
   "id": "69dc9ca4",
   "metadata": {},
   "source": [
    "### `order_products` data frame <a id='order_products_df_missing_values'></a>"
   ]
  },
  {
   "cell_type": "code",
   "execution_count": 34,
   "id": "b8240253",
   "metadata": {},
   "outputs": [
    {
     "name": "stdout",
     "output_type": "stream",
     "text": [
      "<class 'pandas.core.frame.DataFrame'>\n",
      "RangeIndex: 4545007 entries, 0 to 4545006\n",
      "Data columns (total 4 columns):\n",
      " #   Column             Non-Null Count    Dtype  \n",
      "---  ------             --------------    -----  \n",
      " 0   order_id           4545007 non-null  int64  \n",
      " 1   product_id         4545007 non-null  int64  \n",
      " 2   add_to_cart_order  4544171 non-null  float64\n",
      " 3   reordered          4545007 non-null  int64  \n",
      "dtypes: float64(1), int64(3)\n",
      "memory usage: 138.7 MB\n"
     ]
    }
   ],
   "source": [
    "#obtaining general info for order_products_df\n",
    "order_prod_df.info(show_counts=True)"
   ]
  },
  {
   "cell_type": "code",
   "execution_count": 35,
   "id": "9a78e5ee",
   "metadata": {},
   "outputs": [
    {
     "name": "stdout",
     "output_type": "stream",
     "text": [
      "1.0\n",
      "64.0\n"
     ]
    }
   ],
   "source": [
    "# What are the min and max values in this column?\n",
    "print(order_prod_df['add_to_cart_order'].min())\n",
    "print(order_prod_df['add_to_cart_order'].max())"
   ]
  },
  {
   "cell_type": "code",
   "execution_count": 36,
   "id": "ab9d0c2b",
   "metadata": {},
   "outputs": [
    {
     "data": {
      "text/plain": [
       "array([2449164, 1968313, 2926893, 1717990, 1959075,  844733,   61355,\n",
       "        936852,  264710, 1564093,  129627,  293169, 2849370, 1386261,\n",
       "       3308010,  903110, 2136777, 3347453, 1888628,  165801, 2094761,\n",
       "       1038146, 2997021,  813364, 2256933,  171934, 2409109, 1730767,\n",
       "       1169835,  733526,  404157, 3125735,  747668, 1800005, 1961723,\n",
       "        871281,  388234, 1648217, 1477139,  102236, 1021563, 1832957,\n",
       "       2721963,  678116, 1220886, 1673227, 2999801, 1633337, 2470674,\n",
       "       2625444, 1677118, 2479011, 3383594, 1183255, 1713430, 2652650,\n",
       "       1598369, 1916118,  854647, 1302315,  888470,  180546, 2621907,\n",
       "       1308785, 2729254,    9310, 2170451, 2979697, 1625713, 1529171])"
      ]
     },
     "execution_count": 36,
     "metadata": {},
     "output_type": "execute_result"
    }
   ],
   "source": [
    "# Save all order IDs with at least one missing value in 'add_to_cart_order'\n",
    "missing_order = order_prod_df[order_prod_df['add_to_cart_order'].isna()]['order_id'].unique()\n",
    "missing_order"
   ]
  },
  {
   "cell_type": "code",
   "execution_count": 37,
   "id": "54c31695",
   "metadata": {},
   "outputs": [
    {
     "data": {
      "text/plain": [
       "61355      127\n",
       "3308010    115\n",
       "2136777    108\n",
       "171934     104\n",
       "1959075     98\n",
       "          ... \n",
       "747668      65\n",
       "2170451     65\n",
       "2729254     65\n",
       "2652650     65\n",
       "9310        65\n",
       "Name: order_id, Length: 70, dtype: int64"
      ]
     },
     "execution_count": 37,
     "metadata": {},
     "output_type": "execute_result"
    }
   ],
   "source": [
    "# Do all orders with missing values have more than 64 products? Yes\n",
    "missing = order_prod_df[order_prod_df['order_id'].isin(missing_order)]\n",
    "\n",
    "# missing.groupby('order_id')['product_id'].count() is another possible method\n",
    "missing['order_id'].value_counts()"
   ]
  },
  {
   "cell_type": "code",
   "execution_count": 38,
   "id": "7a987d08",
   "metadata": {},
   "outputs": [
    {
     "name": "stdout",
     "output_type": "stream",
     "text": [
      "<class 'pandas.core.frame.DataFrame'>\n",
      "RangeIndex: 4545007 entries, 0 to 4545006\n",
      "Data columns (total 4 columns):\n",
      " #   Column             Dtype\n",
      "---  ------             -----\n",
      " 0   order_id           int64\n",
      " 1   product_id         int64\n",
      " 2   add_to_cart_order  int64\n",
      " 3   reordered          int64\n",
      "dtypes: int64(4)\n",
      "memory usage: 138.7 MB\n",
      "None\n",
      "\n",
      "<class 'pandas.core.frame.DataFrame'>\n",
      "RangeIndex: 4545007 entries, 0 to 4545006\n",
      "Data columns (total 4 columns):\n",
      " #   Column             Non-Null Count    Dtype\n",
      "---  ------             --------------    -----\n",
      " 0   order_id           4545007 non-null  int64\n",
      " 1   product_id         4545007 non-null  int64\n",
      " 2   add_to_cart_order  4545007 non-null  int64\n",
      " 3   reordered          4545007 non-null  int64\n",
      "dtypes: int64(4)\n",
      "memory usage: 138.7 MB\n",
      "None\n"
     ]
    }
   ],
   "source": [
    "# Replace missing values with 999 and convert column to integer type\n",
    "order_prod_df['add_to_cart_order'] = order_prod_df['add_to_cart_order'].fillna('999')\n",
    "order_prod_df['add_to_cart_order'] = order_prod_df['add_to_cart_order'].astype('int')\n",
    "\n",
    "#checking if add_to_cart_values were converted to integer type\n",
    "print(order_prod_df.info())\n",
    "\n",
    "print() \n",
    "\n",
    "#checking if missing values were successfully replaced\n",
    "print(order_prod_df.info(show_counts=True))"
   ]
  },
  {
   "cell_type": "markdown",
   "id": "turkish-kidney",
   "metadata": {},
   "source": [
    "# [A] Easy (must complete all to pass) <a id='analysis_a'></a>"
   ]
  },
  {
   "cell_type": "markdown",
   "id": "short-capability",
   "metadata": {},
   "source": [
    "### [A1] Verify that the `'order_hour_of_day'` and `'order_dow'` values in the `orders` tables are sensible (i.e. `'order_hour_of_day'` ranges from 0 to 23 and `'order_dow'` ranges from 0 to 6) <a id='a1'></a>"
   ]
  },
  {
   "cell_type": "code",
   "execution_count": 39,
   "id": "growing-fruit",
   "metadata": {},
   "outputs": [
    {
     "name": "stdout",
     "output_type": "stream",
     "text": [
      "0\n",
      "23\n"
     ]
    }
   ],
   "source": [
    "# Finding the range of values for 'order_hour_of_day' if it's from 0 to 23 by finding the min and max\n",
    "print(orders_df['order_hour_of_day'].min())\n",
    "print(orders_df['order_hour_of_day'].max())"
   ]
  },
  {
   "cell_type": "code",
   "execution_count": 40,
   "id": "accessory-malaysia",
   "metadata": {},
   "outputs": [
    {
     "name": "stdout",
     "output_type": "stream",
     "text": [
      "0\n",
      "6\n"
     ]
    }
   ],
   "source": [
    "# Finding the range of values for 'order_dow' if it's from 0 to 6 by finding the min and max\n",
    "print(orders_df['order_dow'].min())\n",
    "print(orders_df['order_dow'].max())"
   ]
  },
  {
   "cell_type": "markdown",
   "id": "86801cad",
   "metadata": {},
   "source": [
    "The min and max 'order_hour_of_day' was found to be 0 and 23, respectively, which is sensible since there are 24 hours in a day. The min and max for for 'order_dow' was found to be 0 and 6 respectively, which is also sensible since there are 7 days in a week."
   ]
  },
  {
   "cell_type": "markdown",
   "id": "a6743a70",
   "metadata": {},
   "source": [
    "### [A2] What time of day do people shop for groceries? <a id='a2'></a>"
   ]
  },
  {
   "cell_type": "code",
   "execution_count": 41,
   "id": "49aa41df",
   "metadata": {},
   "outputs": [
    {
     "data": {
      "image/png": "[encoded data removed]",
      "text/plain": [
       "<Figure size 432x288 with 1 Axes>"
      ]
     },
     "metadata": {
      "needs_background": "light"
     },
     "output_type": "display_data"
    }
   ],
   "source": [
    "# Create a plot that shows how many orders are placed for each hour of the day\n",
    "grocery_times = orders_df['order_hour_of_day'].value_counts().sort_index()\n",
    "\n",
    "grocery_times.plot(\n",
    "        title='Grocery Shopping Times',\n",
    "        xlabel='Time (hour of day)',\n",
    "        ylabel='Number of Orders',\n",
    "        kind='bar',\n",
    "        x='hour_of_day',\n",
    "        y='value_counts'\n",
    ")\n",
    "\n",
    "plt.show()"
   ]
  },
  {
   "cell_type": "markdown",
   "id": "f61934ca",
   "metadata": {},
   "source": [
    "Based on the plot, it appears that the most popular shopping times are between 9:00 AM and 5:00 PM, tapering on either side of the popular time range, and very little shopping is done in the extremely early hours of the day, as expected."
   ]
  },
  {
   "cell_type": "markdown",
   "id": "11270eed",
   "metadata": {},
   "source": []
  },
  {
   "cell_type": "markdown",
   "id": "documented-command",
   "metadata": {},
   "source": [
    "### [A3] What day of the week do people shop for groceries? <a id='a3'></a>"
   ]
  },
  {
   "cell_type": "code",
   "execution_count": 42,
   "id": "chief-digit",
   "metadata": {},
   "outputs": [
    {
     "data": {
      "image/png": "[encoded data removed]",
      "text/plain": [
       "<Figure size 432x288 with 1 Axes>"
      ]
     },
     "metadata": {
      "needs_background": "light"
     },
     "output_type": "display_data"
    }
   ],
   "source": [
    "# Create a plot that shows what day of the week people shop for groceries\n",
    "grocery_day = orders_df['order_dow'].value_counts().sort_index()\n",
    "\n",
    "grocery_day.plot(\n",
    "        title='Grocery Shopping Days',\n",
    "        xlabel='Day of Week',\n",
    "        ylabel='Number of Orders',\n",
    "        kind='bar',\n",
    "        x='order_dow',\n",
    "        y='value_counts'\n",
    ")\n",
    "\n",
    "plt.show()"
   ]
  },
  {
   "cell_type": "markdown",
   "id": "a64d6985",
   "metadata": {},
   "source": [
    "The most popular shopping days appear to be in the beginning of the week, especially the first two days, with the rest of the week having about the same amount of shopping."
   ]
  },
  {
   "cell_type": "markdown",
   "id": "cutting-concert",
   "metadata": {},
   "source": [
    "### [A4] How long do people wait until placing another order? <a id='a4'></a>"
   ]
  },
  {
   "cell_type": "code",
   "execution_count": 43,
   "id": "c231f523",
   "metadata": {},
   "outputs": [
    {
     "data": {
      "image/png": "[encoded data removed]",
      "text/plain": [
       "<Figure size 432x288 with 1 Axes>"
      ]
     },
     "metadata": {
      "needs_background": "light"
     },
     "output_type": "display_data"
    }
   ],
   "source": [
    "# Create a plot that shows how long people wait until placing their next order, and comment on the minimum and maximum value\n",
    "prior_order_day = orders_df['days_since_prior_order'].value_counts().sort_index()\n",
    "\n",
    "prior_order_day.plot(\n",
    "        title='Wait Time Before Next Order',\n",
    "        xlabel='Days',\n",
    "        ylabel='Number of Orders',\n",
    "        kind='bar',\n",
    "        x='days_since_prior_order',\n",
    "        y='value_counts'\n",
    "        \n",
    ")\n",
    "\n",
    "plt.xticks(rotation=70)\n",
    "plt.show()"
   ]
  },
  {
   "cell_type": "markdown",
   "id": "discrete-vertex",
   "metadata": {},
   "source": []
  },
  {
   "cell_type": "markdown",
   "id": "6d6cb8bd",
   "metadata": {},
   "source": [
    "The maximum values correspond to people placing another order monthly (every 30 days) or weekly (every 7 days), and the minumum values appear to be the days preceding the last day of the month "
   ]
  },
  {
   "cell_type": "markdown",
   "id": "tight-staff",
   "metadata": {},
   "source": [
    "# [B] Medium (must complete all to pass) <a id='analysis_b'></a>"
   ]
  },
  {
   "cell_type": "markdown",
   "id": "packed-classic",
   "metadata": {},
   "source": [
    "### [B1] Is there a difference in `'order_hour_of_day'` distributions on Wednesdays and Saturdays? Plot the histograms for both days and describe the differences that you see. <a id='b1'></a>"
   ]
  },
  {
   "cell_type": "code",
   "execution_count": 44,
   "id": "d89b8403",
   "metadata": {},
   "outputs": [
    {
     "data": {
      "image/png": "[encoded data removed]",
      "text/plain": [
       "<Figure size 432x288 with 1 Axes>"
      ]
     },
     "metadata": {
      "needs_background": "light"
     },
     "output_type": "display_data"
    }
   ],
   "source": [
    "# overlaying histogram plots for Wednesday and Saturday\n",
    "wed_df = orders_df[orders_df['order_dow'] == 2]['order_hour_of_day'].plot(kind='hist', bins=24, alpha=0.7, title='Grocery Shopping Time of Day')\n",
    "sat_df = orders_df[orders_df['order_dow'] == 5]['order_hour_of_day'].plot(kind='hist', bins=24, alpha=0.5)\n",
    "\n",
    "plt.xlabel('Time (hour of day)')\n",
    "plt.legend(['Wednesday', 'Saturday'])\n",
    "plt.show() "
   ]
  },
  {
   "cell_type": "markdown",
   "id": "d4eadda2",
   "metadata": {},
   "source": [
    "Overall, the distributions on Wednesdays and Saturdays for times of the day that people do grocery shopping is very similar, Saturdays only being slightly less than Wednesday."
   ]
  },
  {
   "cell_type": "markdown",
   "id": "e3891143",
   "metadata": {},
   "source": [
    "### [B2] What's the distribution for the number of orders per customer? <a id='b2'></a>"
   ]
  },
  {
   "cell_type": "code",
   "execution_count": 45,
   "id": "d8c26c23",
   "metadata": {},
   "outputs": [
    {
     "data": {
      "image/png": "[encoded data removed]",
      "text/plain": [
       "<Figure size 432x288 with 1 Axes>"
      ]
     },
     "metadata": {
      "needs_background": "light"
     },
     "output_type": "display_data"
    }
   ],
   "source": [
    "# plotting the distribtution for the number of orders per customer\n",
    "orders_per_customer = orders_df.groupby('user_id').agg({'order_number': 'count'})\n",
    "\n",
    "plt.hist(orders_per_customer['order_number'], bins=27)\n",
    "plt.xlabel('Number of orders per customer')\n",
    "plt.ylabel('Number of customers')\n",
    "plt.title('Distribution of orders per customer')\n",
    "plt.show()"
   ]
  },
  {
   "cell_type": "markdown",
   "id": "f7cb1c3f",
   "metadata": {},
   "source": [
    "This plot displays how many people only placed 1 order, how many people placed only 2 orders, etc. Thus it can be seen from this graph that most people only place 1 order, less people place 2 orders, even less place 3 orders, etc. Less people are more likely to make multiple orders."
   ]
  },
  {
   "cell_type": "markdown",
   "id": "54a0319c",
   "metadata": {},
   "source": [
    "### [B3] What are the top 20 popular products (display their id and name)? <a id='b3'></a>"
   ]
  },
  {
   "cell_type": "code",
   "execution_count": 46,
   "id": "19a6fd53",
   "metadata": {},
   "outputs": [
    {
     "name": "stdout",
     "output_type": "stream",
     "text": [
      "    product_id              product_name\n",
      "0        24852                    banana\n",
      "1        13176    bag of organic bananas\n",
      "2        21137      organic strawberries\n",
      "3        21903      organic baby spinach\n",
      "4        47209      organic hass avocado\n",
      "5        47766           organic avocado\n",
      "6        47626               large lemon\n",
      "7        16797              strawberries\n",
      "8        26209                     limes\n",
      "9        27845        organic whole milk\n",
      "10       27966       organic raspberries\n",
      "11       22935      organic yellow onion\n",
      "12       24964            organic garlic\n",
      "13       45007          organic zucchini\n",
      "14       39275       organic blueberries\n",
      "15       49683            cucumber kirby\n",
      "16       28204        organic fuji apple\n",
      "17        5876             organic lemon\n",
      "18        8277  apple honeycrisp organic\n",
      "19       40706    organic grape tomatoes\n"
     ]
    }
   ],
   "source": [
    "# Filtering order_prod_df to find the top 20 product_id and changing the respective column names after resetting the index\n",
    "top_20_product_id = order_prod_df['product_id'].value_counts().head(20).reset_index()\n",
    "top_20_product_id.columns = ['product_id', 'count']\n",
    "\n",
    "# Merging the top_20_product_id with products_df to find the respective product names that correspond to the top 20 item IDs\n",
    "popular_products = top_20_product_id.merge(products_df, on='product_id', how='left')\n",
    "\n",
    "print(popular_products[['product_id','product_name']])"
   ]
  },
  {
   "cell_type": "markdown",
   "id": "fe6ef1c9",
   "metadata": {},
   "source": [
    "The most popular item appears to be bananas."
   ]
  },
  {
   "cell_type": "markdown",
   "id": "gross-theme",
   "metadata": {},
   "source": [
    "# [C] Hard <a id='analysis_c'></a>"
   ]
  },
  {
   "cell_type": "markdown",
   "id": "designed-mortality",
   "metadata": {},
   "source": []
  },
  {
   "cell_type": "markdown",
   "id": "5e6b5537",
   "metadata": {},
   "source": [
    "### [C2] What are the top 20 items that are reordered most frequently (display their names and product IDs)? <a id='c2'></a>"
   ]
  },
  {
   "cell_type": "code",
   "execution_count": 48,
   "id": "036bf871",
   "metadata": {},
   "outputs": [
    {
     "name": "stdout",
     "output_type": "stream",
     "text": [
      "       product_id              product_name  reordered\n",
      "18104       24852                    banana      55763\n",
      "9528        13176    bag of organic bananas      44450\n",
      "15368       21137      organic strawberries      28639\n",
      "15936       21903      organic baby spinach      26233\n",
      "34407       47209      organic hass avocado      23629\n",
      "34828       47766           organic avocado      18743\n",
      "20285       27845        organic whole milk      16251\n",
      "34725       47626               large lemon      15044\n",
      "20375       27966       organic raspberries      14748\n",
      "12193       16797              strawberries      13945\n",
      "19088       26209                     limes      13327\n",
      "16700       22935      organic yellow onion      11145\n",
      "18186       24964            organic garlic      10411\n",
      "32792       45007          organic zucchini      10076\n",
      "36219       49683            cucumber kirby       9538\n",
      "20543       28204        organic fuji apple       8989\n",
      "5978         8277  apple honeycrisp organic       8836\n",
      "28607       39275       organic blueberries       8799\n",
      "4267         5876             organic lemon       8412\n",
      "35905       49235       organic half & half       8389\n"
     ]
    }
   ],
   "source": [
    "# Filter the order products dataframe to only include reordered items\n",
    "reordered_products_df = order_prod_df[order_prod_df['reordered'] == 1]\n",
    "\n",
    "# Merge the reordered products dataframe with the products dataframe on 'product_id'\n",
    "merged_df = reordered_products_df.merge(products_df, on='product_id')\n",
    "\n",
    "# Group the merged dataframe by 'product_id' and 'product_name', and aggregate using the count function\n",
    "grouped_df = merged_df.groupby(['product_id', 'product_name']).agg({'reordered': 'count'}).reset_index()\n",
    "\n",
    "# Sort the grouped dataframe by the count of reorders in descending order and display the top 20\n",
    "top_20_reorders = grouped_df.sort_values(by='reordered', ascending=False).head(20)\n",
    "print(top_20_reorders[['product_id', 'product_name', 'reordered']])"
   ]
  },
  {
   "cell_type": "markdown",
   "id": "80e70c74",
   "metadata": {},
   "source": []
  },
  {
   "cell_type": "markdown",
   "id": "9d312b14",
   "metadata": {},
   "source": [
    "### [C3] For each product, what proportion of its orders are reorders? <a id='c3'></a>"
   ]
  },
  {
   "cell_type": "code",
   "execution_count": 49,
   "id": "8ae9f4b1",
   "metadata": {},
   "outputs": [
    {
     "name": "stdout",
     "output_type": "stream",
     "text": [
      "       product_id  reorder_proportion  \\\n",
      "0               1            0.564286   \n",
      "1               2                 NaN   \n",
      "2               3            0.738095   \n",
      "3               4            0.510204   \n",
      "4               7            0.500000   \n",
      "...           ...                 ...   \n",
      "45568       49690            0.800000   \n",
      "45569       49691            0.430556   \n",
      "45570       49692            0.416667   \n",
      "45571       49693            0.440000   \n",
      "45572       49694            0.333333   \n",
      "\n",
      "                                            product_name  \n",
      "0                             chocolate sandwich cookies  \n",
      "1                                       all-seasons salt  \n",
      "2                   robust golden unsweetened oolong tea  \n",
      "3      smart ones classic favorites mini rigatoni wit...  \n",
      "4                         pure coconut water with orange  \n",
      "...                                                  ...  \n",
      "45568                      high performance energy drink  \n",
      "45569                      original pancake & waffle mix  \n",
      "45570    organic instant oatmeal light maple brown sugar  \n",
      "45571                             spring water body wash  \n",
      "45572                            burrito- steak & cheese  \n",
      "\n",
      "[45573 rows x 3 columns]\n"
     ]
    }
   ],
   "source": [
    "# Merge the two dataframes on the 'product_id' column \n",
    "merge_df = products_df.merge(order_prod_df, on='product_id')\n",
    "\n",
    "# Group the merged dataframe by 'product_id' and calculate the total number of orders for each product\n",
    "total_orders = merge_df.groupby('product_id')['order_id'].nunique()\n",
    "\n",
    "# Filter the merged dataframe to only include reordered items and group it by 'product_id' again to get the total number of reorder orders for each product\n",
    "reorder_orders = merge_df.loc[merge_df['reordered'] == 1].groupby('product_id')['order_id'].nunique()\n",
    "\n",
    "# Calculating the reorder proportion\n",
    "reorder_proportions = (reorder_orders / total_orders).to_frame(name='reorder_proportion')\n",
    "\n",
    "# Merge the products dataframe with the reorder proportion dataframe\n",
    "result_df = reorder_proportions.merge(products_df[['product_id', 'product_name']], on='product_id')\n",
    "\n",
    "# Print the resulting table\n",
    "print(result_df)\n"
   ]
  },
  {
   "cell_type": "markdown",
   "id": "7786198a",
   "metadata": {},
   "source": [
    "# Findings <a id='findings'></a>"
   ]
  },
  {
   "cell_type": "markdown",
   "id": "2c1c481b",
   "metadata": {},
   "source": [
    "After carfeul preprocessing of the data, multiple valuable analyses of the instacart data was done, such as determining the days and times that people grocery shop, when people place orders again, popular products, and how many people place multiple orders. These results can be used to infer what types and how many products should be ordered in the future and understand the shopping habits of customers to have adequate staff and stock of products for certain days and times of the week that are more popular."
   ]
  }
 ],
 "metadata": {
  "kernelspec": {
   "display_name": "Python 3 (ipykernel)",
   "language": "python",
   "name": "python3"
  },
  "language_info": {
   "codemirror_mode": {
    "name": "ipython",
    "version": 3
   },
   "file_extension": ".py",
   "mimetype": "text/x-python",
   "name": "python",
   "nbconvert_exporter": "python",
   "pygments_lexer": "ipython3",
   "version": "3.9.19"
  },
  "toc": {
   "base_numbering": 1,
   "nav_menu": {},
   "number_sections": true,
   "sideBar": true,
   "skip_h1_title": true,
   "title_cell": "Table of Contents",
   "title_sidebar": "Contents",
   "toc_cell": false,
   "toc_position": {
    "height": "calc(100% - 180px)",
    "left": "10px",
    "top": "150px",
    "width": "165px"
   },
   "toc_section_display": true,
   "toc_window_display": true
  },
  "vscode": {
   "interpreter": {
    "hash": "01a7be9ec63e704a62cefc5fe7a4756944464ee731be31632bdf42a4cb4688cf"
   }
  }
 },
 "nbformat": 4,
 "nbformat_minor": 5
}
